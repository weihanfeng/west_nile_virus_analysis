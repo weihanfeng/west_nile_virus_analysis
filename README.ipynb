{
 "cells": [
  {
   "cell_type": "markdown",
   "id": "15b9d8b4",
   "metadata": {},
   "source": [
    "# West Nile Virus Analysis"
   ]
  },
  {
   "cell_type": "markdown",
   "id": "f6a7102d",
   "metadata": {},
   "source": [
    "## Introduction and Background"
   ]
  },
  {
   "cell_type": "markdown",
   "id": "08bba3ad",
   "metadata": {},
   "source": []
  },
  {
   "cell_type": "markdown",
   "id": "e7750dde",
   "metadata": {},
   "source": [
    "## Problem Statement "
   ]
  },
  {
   "cell_type": "markdown",
   "id": "b3d19189",
   "metadata": {},
   "source": [
    "Due to the epidemic of West Nile Virus (WNV) in the Chicago, the Department of Public Health set up a surveillance and control system to learn something about the mosquito population and WNV incidence from the data over time. \n",
    "As part of the hiring assessment for the new data science team, we have been tasked to analyse the historical data and developed a robust predicted model. It is hoped that the department could make use of insights from the analysis and model to derive more targeted plans to control the outbreak of WNV in Chicago, taking into account the cost and benefits of any future mitigaion measures. "
   ]
  },
  {
   "cell_type": "markdown",
   "id": "caa11980",
   "metadata": {},
   "source": [
    "## Dataset"
   ]
  },
  {
   "cell_type": "markdown",
   "id": "3a583e79",
   "metadata": {},
   "source": [
    "The datasets used consists of:\n",
    "\n",
    "[`train.csv`](datasets/original_data/train.csv): The training set consists of data from the years 2007, 2009, 2011, and 2013\n",
    "\n",
    "[`test.csv`](datasets/original_data/test.csv): The test set consists of data for 2008, 2010, 2012, and 2014. The test set is similar to the training set other than the lack of WnvPresent and NumMosquitos columns, which we are required to predict.\n",
    "\n",
    "[`spray.csv`](datasets/original_data/spray.csv): Records of spraying efforts in Chicago in 2011 and 2013\n",
    "\n",
    "[`weather.csv`](datasets/original_data/weather.csv): Weather data of Chicago from 2007 to 2014."
   ]
  },
  {
   "cell_type": "markdown",
   "id": "ebee90e4",
   "metadata": {},
   "source": [
    "## Findings from Exploratory Data Analysis"
   ]
  },
  {
   "cell_type": "markdown",
   "id": "6394c4e4",
   "metadata": {},
   "source": [
    "Some interesting observations were gathered through the EDA process. \n",
    "\n",
    "**Imbalanced class**:The response feature `WnvPresent` for the training set is imbalanced. Oversampling of minority class has to be conducted for preprocessing. \n",
    "\n",
    "**Lack of representation for non-Pippens/Restuans species**: The `Species` Features are also highly imbalanced. Furthermore, these minority rows have all 0 values for WnvPresent, which may mean that our model may not be able to generalize well.\n",
    "\n",
    "**Spatial-Temporal Relations**: A level of time and spatial correlation between observations were observed. \n",
    "\n",
    "**Lack of linear correlation**: We did not observa a strong linear correlation between predictors and the response variable."
   ]
  },
  {
   "cell_type": "markdown",
   "id": "3404f7f7",
   "metadata": {},
   "source": [
    "## Feature Engineering"
   ]
  },
  {
   "cell_type": "markdown",
   "id": "752efe91",
   "metadata": {},
   "source": [
    "Some steps were performed for feature engineering:\n",
    "\n",
    "1. Wind data were processed to account for the effect of Lake Michigan, an important water body of Chicago\n",
    "\n",
    "2. One hot encoding for categorical variables such as `Species`, `Month`, etc\n",
    "\n",
    "3. A feature was created to indicate if the row is of pippiens/restuans species or not\n",
    "\n",
    "4. Lagged weather features by 5-14 days to account for time series relations\n",
    "\n",
    "5. A weighted distance matrix created to account for spatial autocorrelation"
   ]
  },
  {
   "cell_type": "markdown",
   "id": "aff8a9b9",
   "metadata": {},
   "source": [
    "## Modelling"
   ]
  },
  {
   "cell_type": "markdown",
   "id": "660042e9",
   "metadata": {},
   "source": [
    "A two step approach was developed for modelling. First, a regression model was fitted to the training data to obtain the `NumMosquitos` prediction for the test data. This is followed by a classification model to obtain predictions for the `WnvPresent`. \n",
    "\n",
    "During preprocessing, steps such as oversampling of minority class, scaling and Principle Component Analysis (PCA) were performed. \n",
    "\n",
    "For regression, the following models were put through a 5-fold cross-validation and tuned using Root Mean Squared Error(RMSE) as metric:\n",
    "- Linear Regression \n",
    "- Ridge Regression\n",
    "- Lasso Regression\n",
    "- Elastic Net\n",
    "- Poission Regression\n",
    "- KNN Regression\n",
    "- Random Forest Regression\n",
    "\n",
    "The best model was found to be random forest with with an RMSE of 7.7 and a distribution that resembles the training dataset.\n",
    "\n",
    "For Classification, 3 models were put through a 5-fold cross-validation, we assessed multiple metrics including ROC-AUC score, accuracy, recall and precision. \n",
    "\n",
    "- Logistics Regression\n",
    "- Gradient Boosting Classifier\n",
    "- Random Forest Classifier\n",
    "\n",
    "The best model chosen was the random forest classifier, which achieved a ROC-AUC score of 0.91 and an accuracy of 0.93. The model also has 0.70 for recall and 0.14 for precision. Due to our focus on curbing future outbreaks, the low precision is not a focus for this project, although future improvements such as better features, more rigourous feature selection and hyperparameter tuning, and more advanced models such as XGboost and Recurrent Neural Networks would definitely serve to improve our results."
   ]
  },
  {
   "cell_type": "markdown",
   "id": "b96d4a3e",
   "metadata": {},
   "source": [
    "## Cost Benefit Analysis"
   ]
  },
  {
   "cell_type": "markdown",
   "id": "dbd34408",
   "metadata": {},
   "source": []
  },
  {
   "cell_type": "markdown",
   "id": "e3f5f31f",
   "metadata": {},
   "source": [
    "## Conclusions and Recommendations"
   ]
  },
  {
   "cell_type": "code",
   "execution_count": null,
   "id": "9e10adcf",
   "metadata": {},
   "outputs": [],
   "source": []
  }
 ],
 "metadata": {
  "kernelspec": {
   "display_name": "Python 3 (ipykernel)",
   "language": "python",
   "name": "python3"
  },
  "language_info": {
   "codemirror_mode": {
    "name": "ipython",
    "version": 3
   },
   "file_extension": ".py",
   "mimetype": "text/x-python",
   "name": "python",
   "nbconvert_exporter": "python",
   "pygments_lexer": "ipython3",
   "version": "3.8.5"
  },
  "toc": {
   "base_numbering": 1,
   "nav_menu": {},
   "number_sections": true,
   "sideBar": true,
   "skip_h1_title": false,
   "title_cell": "Table of Contents",
   "title_sidebar": "Contents",
   "toc_cell": false,
   "toc_position": {},
   "toc_section_display": true,
   "toc_window_display": false
  }
 },
 "nbformat": 4,
 "nbformat_minor": 5
}
