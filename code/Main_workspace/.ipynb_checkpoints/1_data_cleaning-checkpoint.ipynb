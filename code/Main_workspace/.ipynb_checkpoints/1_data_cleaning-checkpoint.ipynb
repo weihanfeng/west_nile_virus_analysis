{
 "cells": [
  {
   "cell_type": "markdown",
   "metadata": {
    "cell_id": "00001-51c32776-d14b-4e34-ae9a-2711a8a62e34",
    "deepnote_cell_height": 81.66667175292969,
    "deepnote_cell_type": "markdown"
   },
   "source": [
    "# 1. Setup"
   ]
  },
  {
   "cell_type": "markdown",
   "metadata": {
    "cell_id": "00002-8eb484b1-efa9-4245-8e27-195e3a3ffb0b",
    "deepnote_cell_height": 69.66667175292969,
    "deepnote_cell_type": "markdown"
   },
   "source": [
    "## 1.1 Import Libraries"
   ]
  },
  {
   "cell_type": "code",
   "execution_count": 487,
   "metadata": {
    "cell_id": "00003-a0237475-8ddc-489d-8a08-5d58a613e1ed",
    "deepnote_cell_height": 296.66668701171875,
    "deepnote_cell_type": "code",
    "deepnote_to_be_reexecuted": false,
    "execution_millis": 3678,
    "execution_start": 1649405461913,
    "source_hash": "fb4f23eb"
   },
   "outputs": [],
   "source": [
    "import pandas as pd\n",
    "import numpy as np\n",
    "import math\n",
    "from datetime import datetime\n",
    "from scipy.spatial.distance import squareform \n",
    "\n",
    "import matplotlib.pyplot as plt\n",
    "import seaborn as sns\n",
    "\n",
    "import geopandas as gpd\n",
    "import contextily as cx\n",
    "import xyzservices.providers as xyz\n",
    "from shapely.geometry import Point\n",
    "from geopy import distance"
   ]
  },
  {
   "cell_type": "markdown",
   "metadata": {
    "cell_id": "00004-f522a787-82fb-406d-8241-5daed3279952",
    "deepnote_cell_height": 69.66667175292969,
    "deepnote_cell_type": "markdown"
   },
   "source": [
    "## 1.2 Settings"
   ]
  },
  {
   "cell_type": "code",
   "execution_count": 488,
   "metadata": {
    "cell_id": "00005-0ab6516c-df74-466b-ae04-d369aaf117ad",
    "deepnote_cell_height": 80.66667175292969,
    "deepnote_cell_type": "code",
    "deepnote_to_be_reexecuted": false,
    "execution_millis": 2,
    "execution_start": 1649405465600,
    "source_hash": "f1ff252"
   },
   "outputs": [],
   "source": [
    "pd.set_option(\"display.max_columns\", 50)"
   ]
  },
  {
   "cell_type": "markdown",
   "metadata": {
    "cell_id": "00006-84881daa-d338-4c13-acac-26c9bc8c87fa",
    "deepnote_cell_height": 69.66667175292969,
    "deepnote_cell_type": "markdown"
   },
   "source": [
    "## 1.3 Import Data"
   ]
  },
  {
   "cell_type": "code",
   "execution_count": 489,
   "metadata": {
    "cell_id": "00007-c952196e-b303-4318-ba16-043a4705f4ac",
    "deepnote_cell_height": 152.6666717529297,
    "deepnote_cell_type": "code",
    "deepnote_to_be_reexecuted": false,
    "execution_millis": 264,
    "execution_start": 1649405465644,
    "source_hash": "72e1d39"
   },
   "outputs": [],
   "source": [
    "df_train_original = pd.read_csv(\"../../datasets/original_data/train.csv\")\n",
    "df_test_original = pd.read_csv(\"../../datasets/original_data/test.csv\")\n",
    "df_spray_original = pd.read_csv(\"../../datasets/original_data/spray.csv\")\n",
    "df_sample_sub_original = pd.read_csv(\"../../datasets/original_data/sampleSubmission.csv\")\n",
    "df_weather_original = pd.read_csv(\"../../datasets/original_data/weather.csv\")"
   ]
  },
  {
   "cell_type": "code",
   "execution_count": 490,
   "metadata": {
    "cell_id": "00008-219f9a79-0bbf-4241-a2bd-e85fe8cc37aa",
    "deepnote_cell_height": 374.8666687011719,
    "deepnote_cell_type": "code",
    "deepnote_to_be_reexecuted": false,
    "execution_millis": 33,
    "execution_start": 1649405465950,
    "source_hash": "c4b6c8f8"
   },
   "outputs": [
    {
     "name": "stdout",
     "output_type": "stream",
     "text": [
      "(10506, 12)\n"
     ]
    },
    {
     "data": {
      "text/html": [
       "<div>\n",
       "<style scoped>\n",
       "    .dataframe tbody tr th:only-of-type {\n",
       "        vertical-align: middle;\n",
       "    }\n",
       "\n",
       "    .dataframe tbody tr th {\n",
       "        vertical-align: top;\n",
       "    }\n",
       "\n",
       "    .dataframe thead th {\n",
       "        text-align: right;\n",
       "    }\n",
       "</style>\n",
       "<table border=\"1\" class=\"dataframe\">\n",
       "  <thead>\n",
       "    <tr style=\"text-align: right;\">\n",
       "      <th></th>\n",
       "      <th>Date</th>\n",
       "      <th>Address</th>\n",
       "      <th>Species</th>\n",
       "      <th>Block</th>\n",
       "      <th>Street</th>\n",
       "      <th>Trap</th>\n",
       "      <th>AddressNumberAndStreet</th>\n",
       "      <th>Latitude</th>\n",
       "      <th>Longitude</th>\n",
       "      <th>AddressAccuracy</th>\n",
       "      <th>NumMosquitos</th>\n",
       "      <th>WnvPresent</th>\n",
       "    </tr>\n",
       "  </thead>\n",
       "  <tbody>\n",
       "    <tr>\n",
       "      <th>0</th>\n",
       "      <td>2007-05-29</td>\n",
       "      <td>4100 North Oak Park Avenue, Chicago, IL 60634,...</td>\n",
       "      <td>CULEX PIPIENS/RESTUANS</td>\n",
       "      <td>41</td>\n",
       "      <td>N OAK PARK AVE</td>\n",
       "      <td>T002</td>\n",
       "      <td>4100  N OAK PARK AVE, Chicago, IL</td>\n",
       "      <td>41.95469</td>\n",
       "      <td>-87.800991</td>\n",
       "      <td>9</td>\n",
       "      <td>1</td>\n",
       "      <td>0</td>\n",
       "    </tr>\n",
       "    <tr>\n",
       "      <th>1</th>\n",
       "      <td>2007-05-29</td>\n",
       "      <td>4100 North Oak Park Avenue, Chicago, IL 60634,...</td>\n",
       "      <td>CULEX RESTUANS</td>\n",
       "      <td>41</td>\n",
       "      <td>N OAK PARK AVE</td>\n",
       "      <td>T002</td>\n",
       "      <td>4100  N OAK PARK AVE, Chicago, IL</td>\n",
       "      <td>41.95469</td>\n",
       "      <td>-87.800991</td>\n",
       "      <td>9</td>\n",
       "      <td>1</td>\n",
       "      <td>0</td>\n",
       "    </tr>\n",
       "  </tbody>\n",
       "</table>\n",
       "</div>"
      ],
      "text/plain": [
       "         Date                                            Address  \\\n",
       "0  2007-05-29  4100 North Oak Park Avenue, Chicago, IL 60634,...   \n",
       "1  2007-05-29  4100 North Oak Park Avenue, Chicago, IL 60634,...   \n",
       "\n",
       "                  Species  Block           Street  Trap  \\\n",
       "0  CULEX PIPIENS/RESTUANS     41   N OAK PARK AVE  T002   \n",
       "1          CULEX RESTUANS     41   N OAK PARK AVE  T002   \n",
       "\n",
       "              AddressNumberAndStreet  Latitude  Longitude  AddressAccuracy  \\\n",
       "0  4100  N OAK PARK AVE, Chicago, IL  41.95469 -87.800991                9   \n",
       "1  4100  N OAK PARK AVE, Chicago, IL  41.95469 -87.800991                9   \n",
       "\n",
       "   NumMosquitos  WnvPresent  \n",
       "0             1           0  \n",
       "1             1           0  "
      ]
     },
     "execution_count": 490,
     "metadata": {},
     "output_type": "execute_result"
    }
   ],
   "source": [
    "# Training data\n",
    "print(df_train_original.shape)\n",
    "df_train_original.head(2)"
   ]
  },
  {
   "cell_type": "code",
   "execution_count": 491,
   "metadata": {
    "cell_id": "00009-872de465-8194-4ea8-b544-98d2f0bd3b36",
    "deepnote_cell_height": 374.8666687011719,
    "deepnote_cell_type": "code",
    "deepnote_to_be_reexecuted": false,
    "execution_millis": 50,
    "execution_start": 1649405465984,
    "source_hash": "15bbef60"
   },
   "outputs": [
    {
     "name": "stdout",
     "output_type": "stream",
     "text": [
      "(116293, 11)\n"
     ]
    },
    {
     "data": {
      "text/html": [
       "<div>\n",
       "<style scoped>\n",
       "    .dataframe tbody tr th:only-of-type {\n",
       "        vertical-align: middle;\n",
       "    }\n",
       "\n",
       "    .dataframe tbody tr th {\n",
       "        vertical-align: top;\n",
       "    }\n",
       "\n",
       "    .dataframe thead th {\n",
       "        text-align: right;\n",
       "    }\n",
       "</style>\n",
       "<table border=\"1\" class=\"dataframe\">\n",
       "  <thead>\n",
       "    <tr style=\"text-align: right;\">\n",
       "      <th></th>\n",
       "      <th>Id</th>\n",
       "      <th>Date</th>\n",
       "      <th>Address</th>\n",
       "      <th>Species</th>\n",
       "      <th>Block</th>\n",
       "      <th>Street</th>\n",
       "      <th>Trap</th>\n",
       "      <th>AddressNumberAndStreet</th>\n",
       "      <th>Latitude</th>\n",
       "      <th>Longitude</th>\n",
       "      <th>AddressAccuracy</th>\n",
       "    </tr>\n",
       "  </thead>\n",
       "  <tbody>\n",
       "    <tr>\n",
       "      <th>0</th>\n",
       "      <td>1</td>\n",
       "      <td>2008-06-11</td>\n",
       "      <td>4100 North Oak Park Avenue, Chicago, IL 60634,...</td>\n",
       "      <td>CULEX PIPIENS/RESTUANS</td>\n",
       "      <td>41</td>\n",
       "      <td>N OAK PARK AVE</td>\n",
       "      <td>T002</td>\n",
       "      <td>4100  N OAK PARK AVE, Chicago, IL</td>\n",
       "      <td>41.95469</td>\n",
       "      <td>-87.800991</td>\n",
       "      <td>9</td>\n",
       "    </tr>\n",
       "    <tr>\n",
       "      <th>1</th>\n",
       "      <td>2</td>\n",
       "      <td>2008-06-11</td>\n",
       "      <td>4100 North Oak Park Avenue, Chicago, IL 60634,...</td>\n",
       "      <td>CULEX RESTUANS</td>\n",
       "      <td>41</td>\n",
       "      <td>N OAK PARK AVE</td>\n",
       "      <td>T002</td>\n",
       "      <td>4100  N OAK PARK AVE, Chicago, IL</td>\n",
       "      <td>41.95469</td>\n",
       "      <td>-87.800991</td>\n",
       "      <td>9</td>\n",
       "    </tr>\n",
       "  </tbody>\n",
       "</table>\n",
       "</div>"
      ],
      "text/plain": [
       "   Id        Date                                            Address  \\\n",
       "0   1  2008-06-11  4100 North Oak Park Avenue, Chicago, IL 60634,...   \n",
       "1   2  2008-06-11  4100 North Oak Park Avenue, Chicago, IL 60634,...   \n",
       "\n",
       "                  Species  Block           Street  Trap  \\\n",
       "0  CULEX PIPIENS/RESTUANS     41   N OAK PARK AVE  T002   \n",
       "1          CULEX RESTUANS     41   N OAK PARK AVE  T002   \n",
       "\n",
       "              AddressNumberAndStreet  Latitude  Longitude  AddressAccuracy  \n",
       "0  4100  N OAK PARK AVE, Chicago, IL  41.95469 -87.800991                9  \n",
       "1  4100  N OAK PARK AVE, Chicago, IL  41.95469 -87.800991                9  "
      ]
     },
     "execution_count": 491,
     "metadata": {},
     "output_type": "execute_result"
    }
   ],
   "source": [
    "# Test data\n",
    "print(df_test_original.shape)\n",
    "df_test_original.head(2)"
   ]
  },
  {
   "cell_type": "code",
   "execution_count": 492,
   "metadata": {
    "cell_id": "00010-4cd6350a-805d-40fe-a345-452d1b1811cb",
    "deepnote_cell_height": 353.20001220703125,
    "deepnote_cell_type": "code",
    "deepnote_to_be_reexecuted": false,
    "execution_millis": 29,
    "execution_start": 1649405466037,
    "source_hash": "502bb4c8"
   },
   "outputs": [
    {
     "name": "stdout",
     "output_type": "stream",
     "text": [
      "(14835, 4)\n"
     ]
    },
    {
     "data": {
      "text/html": [
       "<div>\n",
       "<style scoped>\n",
       "    .dataframe tbody tr th:only-of-type {\n",
       "        vertical-align: middle;\n",
       "    }\n",
       "\n",
       "    .dataframe tbody tr th {\n",
       "        vertical-align: top;\n",
       "    }\n",
       "\n",
       "    .dataframe thead th {\n",
       "        text-align: right;\n",
       "    }\n",
       "</style>\n",
       "<table border=\"1\" class=\"dataframe\">\n",
       "  <thead>\n",
       "    <tr style=\"text-align: right;\">\n",
       "      <th></th>\n",
       "      <th>Date</th>\n",
       "      <th>Time</th>\n",
       "      <th>Latitude</th>\n",
       "      <th>Longitude</th>\n",
       "    </tr>\n",
       "  </thead>\n",
       "  <tbody>\n",
       "    <tr>\n",
       "      <th>0</th>\n",
       "      <td>2011-08-29</td>\n",
       "      <td>6:56:58 PM</td>\n",
       "      <td>42.391623</td>\n",
       "      <td>-88.089163</td>\n",
       "    </tr>\n",
       "    <tr>\n",
       "      <th>1</th>\n",
       "      <td>2011-08-29</td>\n",
       "      <td>6:57:08 PM</td>\n",
       "      <td>42.391348</td>\n",
       "      <td>-88.089163</td>\n",
       "    </tr>\n",
       "  </tbody>\n",
       "</table>\n",
       "</div>"
      ],
      "text/plain": [
       "         Date        Time   Latitude  Longitude\n",
       "0  2011-08-29  6:56:58 PM  42.391623 -88.089163\n",
       "1  2011-08-29  6:57:08 PM  42.391348 -88.089163"
      ]
     },
     "execution_count": 492,
     "metadata": {},
     "output_type": "execute_result"
    }
   ],
   "source": [
    "# Spray data\n",
    "print(df_spray_original.shape)\n",
    "df_spray_original.head(2)"
   ]
  },
  {
   "cell_type": "code",
   "execution_count": 493,
   "metadata": {
    "cell_id": "00011-cb03230a-f6f1-4ac7-88f3-65daaa641139",
    "deepnote_cell_height": 374.8666687011719,
    "deepnote_cell_type": "code",
    "deepnote_to_be_reexecuted": false,
    "execution_millis": 85,
    "execution_start": 1649405466068,
    "source_hash": "f23e2d9"
   },
   "outputs": [
    {
     "name": "stdout",
     "output_type": "stream",
     "text": [
      "(2944, 22)\n"
     ]
    },
    {
     "data": {
      "text/html": [
       "<div>\n",
       "<style scoped>\n",
       "    .dataframe tbody tr th:only-of-type {\n",
       "        vertical-align: middle;\n",
       "    }\n",
       "\n",
       "    .dataframe tbody tr th {\n",
       "        vertical-align: top;\n",
       "    }\n",
       "\n",
       "    .dataframe thead th {\n",
       "        text-align: right;\n",
       "    }\n",
       "</style>\n",
       "<table border=\"1\" class=\"dataframe\">\n",
       "  <thead>\n",
       "    <tr style=\"text-align: right;\">\n",
       "      <th></th>\n",
       "      <th>Station</th>\n",
       "      <th>Date</th>\n",
       "      <th>Tmax</th>\n",
       "      <th>Tmin</th>\n",
       "      <th>Tavg</th>\n",
       "      <th>Depart</th>\n",
       "      <th>DewPoint</th>\n",
       "      <th>WetBulb</th>\n",
       "      <th>Heat</th>\n",
       "      <th>Cool</th>\n",
       "      <th>Sunrise</th>\n",
       "      <th>Sunset</th>\n",
       "      <th>CodeSum</th>\n",
       "      <th>Depth</th>\n",
       "      <th>Water1</th>\n",
       "      <th>SnowFall</th>\n",
       "      <th>PrecipTotal</th>\n",
       "      <th>StnPressure</th>\n",
       "      <th>SeaLevel</th>\n",
       "      <th>ResultSpeed</th>\n",
       "      <th>ResultDir</th>\n",
       "      <th>AvgSpeed</th>\n",
       "    </tr>\n",
       "  </thead>\n",
       "  <tbody>\n",
       "    <tr>\n",
       "      <th>0</th>\n",
       "      <td>1</td>\n",
       "      <td>2007-05-01</td>\n",
       "      <td>83</td>\n",
       "      <td>50</td>\n",
       "      <td>67</td>\n",
       "      <td>14</td>\n",
       "      <td>51</td>\n",
       "      <td>56</td>\n",
       "      <td>0</td>\n",
       "      <td>2</td>\n",
       "      <td>0448</td>\n",
       "      <td>1849</td>\n",
       "      <td></td>\n",
       "      <td>0</td>\n",
       "      <td>M</td>\n",
       "      <td>0.0</td>\n",
       "      <td>0.00</td>\n",
       "      <td>29.10</td>\n",
       "      <td>29.82</td>\n",
       "      <td>1.7</td>\n",
       "      <td>27</td>\n",
       "      <td>9.2</td>\n",
       "    </tr>\n",
       "    <tr>\n",
       "      <th>1</th>\n",
       "      <td>2</td>\n",
       "      <td>2007-05-01</td>\n",
       "      <td>84</td>\n",
       "      <td>52</td>\n",
       "      <td>68</td>\n",
       "      <td>M</td>\n",
       "      <td>51</td>\n",
       "      <td>57</td>\n",
       "      <td>0</td>\n",
       "      <td>3</td>\n",
       "      <td>-</td>\n",
       "      <td>-</td>\n",
       "      <td></td>\n",
       "      <td>M</td>\n",
       "      <td>M</td>\n",
       "      <td>M</td>\n",
       "      <td>0.00</td>\n",
       "      <td>29.18</td>\n",
       "      <td>29.82</td>\n",
       "      <td>2.7</td>\n",
       "      <td>25</td>\n",
       "      <td>9.6</td>\n",
       "    </tr>\n",
       "  </tbody>\n",
       "</table>\n",
       "</div>"
      ],
      "text/plain": [
       "   Station        Date  Tmax  Tmin Tavg Depart  DewPoint WetBulb Heat Cool  \\\n",
       "0        1  2007-05-01    83    50   67     14        51      56    0    2   \n",
       "1        2  2007-05-01    84    52   68      M        51      57    0    3   \n",
       "\n",
       "  Sunrise Sunset CodeSum Depth Water1 SnowFall PrecipTotal StnPressure  \\\n",
       "0    0448   1849             0      M      0.0        0.00       29.10   \n",
       "1       -      -             M      M        M        0.00       29.18   \n",
       "\n",
       "  SeaLevel  ResultSpeed  ResultDir AvgSpeed  \n",
       "0    29.82          1.7         27      9.2  \n",
       "1    29.82          2.7         25      9.6  "
      ]
     },
     "execution_count": 493,
     "metadata": {},
     "output_type": "execute_result"
    }
   ],
   "source": [
    "# Weather data\n",
    "print(df_weather_original.shape)\n",
    "df_weather_original.head(2)"
   ]
  },
  {
   "cell_type": "code",
   "execution_count": 494,
   "metadata": {
    "cell_id": "00012-ae2a9bf7-36be-4b06-b304-798cbcadc7a6",
    "deepnote_cell_height": 353.20001220703125,
    "deepnote_cell_type": "code",
    "deepnote_to_be_reexecuted": false,
    "execution_millis": 7,
    "execution_start": 1649405466173,
    "source_hash": "eaae12f"
   },
   "outputs": [
    {
     "name": "stdout",
     "output_type": "stream",
     "text": [
      "(116293, 2)\n"
     ]
    },
    {
     "data": {
      "text/html": [
       "<div>\n",
       "<style scoped>\n",
       "    .dataframe tbody tr th:only-of-type {\n",
       "        vertical-align: middle;\n",
       "    }\n",
       "\n",
       "    .dataframe tbody tr th {\n",
       "        vertical-align: top;\n",
       "    }\n",
       "\n",
       "    .dataframe thead th {\n",
       "        text-align: right;\n",
       "    }\n",
       "</style>\n",
       "<table border=\"1\" class=\"dataframe\">\n",
       "  <thead>\n",
       "    <tr style=\"text-align: right;\">\n",
       "      <th></th>\n",
       "      <th>Id</th>\n",
       "      <th>WnvPresent</th>\n",
       "    </tr>\n",
       "  </thead>\n",
       "  <tbody>\n",
       "    <tr>\n",
       "      <th>0</th>\n",
       "      <td>1</td>\n",
       "      <td>0</td>\n",
       "    </tr>\n",
       "    <tr>\n",
       "      <th>1</th>\n",
       "      <td>2</td>\n",
       "      <td>0</td>\n",
       "    </tr>\n",
       "  </tbody>\n",
       "</table>\n",
       "</div>"
      ],
      "text/plain": [
       "   Id  WnvPresent\n",
       "0   1           0\n",
       "1   2           0"
      ]
     },
     "execution_count": 494,
     "metadata": {},
     "output_type": "execute_result"
    }
   ],
   "source": [
    "# Sample Submission\n",
    "print(df_sample_sub_original.shape)\n",
    "df_sample_sub_original.head(2)"
   ]
  },
  {
   "cell_type": "markdown",
   "metadata": {
    "cell_id": "00013-ce3eb39e-7d04-4fcb-8111-1bbff53dcec0",
    "deepnote_cell_height": 69.66667175292969,
    "deepnote_cell_type": "markdown"
   },
   "source": [
    "## 1.4 View Data Types"
   ]
  },
  {
   "cell_type": "code",
   "execution_count": 495,
   "metadata": {
    "cell_id": "00015-4b7e943b-59b3-4bb8-88ee-d2e1e56e91e7",
    "deepnote_cell_height": 366.5,
    "deepnote_cell_type": "code",
    "deepnote_output_heights": [
     252
    ],
    "deepnote_to_be_reexecuted": false,
    "execution_millis": 9,
    "execution_start": 1649405466185,
    "source_hash": "5cdefe5"
   },
   "outputs": [
    {
     "data": {
      "text/plain": [
       "Date                       object\n",
       "Address                    object\n",
       "Species                    object\n",
       "Block                       int64\n",
       "Street                     object\n",
       "Trap                       object\n",
       "AddressNumberAndStreet     object\n",
       "Latitude                  float64\n",
       "Longitude                 float64\n",
       "AddressAccuracy             int64\n",
       "NumMosquitos                int64\n",
       "WnvPresent                  int64\n",
       "dtype: object"
      ]
     },
     "execution_count": 495,
     "metadata": {},
     "output_type": "execute_result"
    }
   ],
   "source": [
    "#Training data\n",
    "df_train_original.dtypes"
   ]
  },
  {
   "cell_type": "code",
   "execution_count": 496,
   "metadata": {
    "cell_id": "00016-e2149d15-0f37-4e77-a305-fae7652406a3",
    "deepnote_cell_height": 346.5,
    "deepnote_cell_type": "code",
    "deepnote_output_heights": [
     232
    ],
    "deepnote_to_be_reexecuted": false,
    "execution_millis": 15,
    "execution_start": 1649405466223,
    "source_hash": "ed2f9f4e"
   },
   "outputs": [
    {
     "data": {
      "text/plain": [
       "Id                          int64\n",
       "Date                       object\n",
       "Address                    object\n",
       "Species                    object\n",
       "Block                       int64\n",
       "Street                     object\n",
       "Trap                       object\n",
       "AddressNumberAndStreet     object\n",
       "Latitude                  float64\n",
       "Longitude                 float64\n",
       "AddressAccuracy             int64\n",
       "dtype: object"
      ]
     },
     "execution_count": 496,
     "metadata": {},
     "output_type": "execute_result"
    }
   ],
   "source": [
    "#Test data\n",
    "df_test_original.dtypes"
   ]
  },
  {
   "cell_type": "code",
   "execution_count": 497,
   "metadata": {
    "cell_id": "00017-3342b129-dcb5-4904-9889-387defada97a",
    "deepnote_cell_height": 212.5,
    "deepnote_cell_type": "code",
    "deepnote_output_heights": [
     98
    ],
    "deepnote_to_be_reexecuted": false,
    "execution_millis": 14,
    "execution_start": 1649405466224,
    "source_hash": "2efa1781"
   },
   "outputs": [
    {
     "data": {
      "text/plain": [
       "Date          object\n",
       "Time          object\n",
       "Latitude     float64\n",
       "Longitude    float64\n",
       "dtype: object"
      ]
     },
     "execution_count": 497,
     "metadata": {},
     "output_type": "execute_result"
    }
   ],
   "source": [
    "# Spray data\n",
    "df_spray_original.dtypes"
   ]
  },
  {
   "cell_type": "code",
   "execution_count": 498,
   "metadata": {
    "cell_id": "00018-9707e5fd-1746-45eb-96ec-47c69fc65f1b",
    "deepnote_cell_height": 558.5,
    "deepnote_cell_type": "code",
    "deepnote_output_heights": [
     444
    ],
    "deepnote_to_be_reexecuted": false,
    "execution_millis": 21,
    "execution_start": 1649405466225,
    "source_hash": "9c5c6239"
   },
   "outputs": [
    {
     "data": {
      "text/plain": [
       "Station          int64\n",
       "Date            object\n",
       "Tmax             int64\n",
       "Tmin             int64\n",
       "Tavg            object\n",
       "Depart          object\n",
       "DewPoint         int64\n",
       "WetBulb         object\n",
       "Heat            object\n",
       "Cool            object\n",
       "Sunrise         object\n",
       "Sunset          object\n",
       "CodeSum         object\n",
       "Depth           object\n",
       "Water1          object\n",
       "SnowFall        object\n",
       "PrecipTotal     object\n",
       "StnPressure     object\n",
       "SeaLevel        object\n",
       "ResultSpeed    float64\n",
       "ResultDir        int64\n",
       "AvgSpeed        object\n",
       "dtype: object"
      ]
     },
     "execution_count": 498,
     "metadata": {},
     "output_type": "execute_result"
    }
   ],
   "source": [
    "# Weather data\n",
    "df_weather_original.dtypes"
   ]
  },
  {
   "cell_type": "markdown",
   "metadata": {
    "cell_id": "9a1f87ad-56c6-4ab6-a2a6-08b324f8395c",
    "deepnote_cell_height": 81.66667175292969,
    "deepnote_cell_type": "markdown"
   },
   "source": [
    "# 2. Data Cleaning for Train, Test and Spray Data"
   ]
  },
  {
   "cell_type": "markdown",
   "metadata": {
    "cell_id": "00019-7b0429f0-97d1-4d90-85b7-72f2f0d5d351",
    "deepnote_cell_height": 61.66667175292969,
    "deepnote_cell_type": "markdown"
   },
   "source": [
    "### 2.1 Data type conversion"
   ]
  },
  {
   "cell_type": "markdown",
   "metadata": {
    "cell_id": "00020-29598f6f-596a-43aa-bd73-6df13a52bf3a",
    "deepnote_cell_height": 52.06666564941406,
    "deepnote_cell_type": "markdown"
   },
   "source": [
    "We will convert all dates to datetime datatype"
   ]
  },
  {
   "cell_type": "code",
   "execution_count": 499,
   "metadata": {
    "cell_id": "00021-5c1e451f-0707-437d-bd2f-d7acc42e60ec",
    "deepnote_cell_height": 207.63333129882812,
    "deepnote_cell_type": "code",
    "deepnote_to_be_reexecuted": false,
    "execution_millis": 416,
    "execution_start": 1649405466234,
    "source_hash": "28cb8193"
   },
   "outputs": [
    {
     "name": "stdout",
     "output_type": "stream",
     "text": [
      "Change Date column data type to datetime64[ns]\n",
      "Change Date column data type to datetime64[ns]\n",
      "Change Date column data type to datetime64[ns]\n",
      "Change Date column data type to datetime64[ns]\n"
     ]
    }
   ],
   "source": [
    "for df in [df_train_original, df_test_original, df_spray_original, df_weather_original]:\n",
    "    df['Date'] = pd.to_datetime(df[\"Date\"])\n",
    "    print(f\"Change Date column data type to {df['Date'].dtype}\")"
   ]
  },
  {
   "cell_type": "markdown",
   "metadata": {
    "cell_id": "00029-e7b633a2-159a-4394-a929-96393e34efd2",
    "deepnote_cell_height": 69.66667175292969,
    "deepnote_cell_type": "markdown",
    "tags": []
   },
   "source": [
    "## 2.2 Duplicate Values"
   ]
  },
  {
   "cell_type": "markdown",
   "metadata": {
    "cell_id": "f41d0444e7b8485fa05ddd9c273ea611",
    "deepnote_cell_height": 52.06666564941406,
    "deepnote_cell_type": "markdown",
    "tags": []
   },
   "source": [
    "Looks like duplicated rows are present in training and spray data, let us take a closer look"
   ]
  },
  {
   "cell_type": "code",
   "execution_count": 500,
   "metadata": {
    "cell_id": "952106ae5c8640ffa943a6972d8e87cc",
    "deepnote_cell_height": 135.5,
    "deepnote_cell_type": "code",
    "deepnote_output_heights": [
     21
    ],
    "deepnote_to_be_reexecuted": false,
    "execution_millis": 339,
    "execution_start": 1649405466312,
    "source_hash": "59f0100e",
    "tags": []
   },
   "outputs": [
    {
     "data": {
      "text/plain": [
       "813"
      ]
     },
     "execution_count": 500,
     "metadata": {},
     "output_type": "execute_result"
    }
   ],
   "source": [
    "#Training data\n",
    "df_train_original.duplicated().sum()"
   ]
  },
  {
   "cell_type": "code",
   "execution_count": 501,
   "metadata": {
    "cell_id": "d9ed2346467b4a7ba488bfa04b6d3078",
    "deepnote_cell_height": 135.5,
    "deepnote_cell_type": "code",
    "deepnote_output_heights": [
     21
    ],
    "deepnote_to_be_reexecuted": false,
    "execution_millis": 382,
    "execution_start": 1649405466313,
    "source_hash": "21a10feb",
    "tags": []
   },
   "outputs": [
    {
     "data": {
      "text/plain": [
       "0"
      ]
     },
     "execution_count": 501,
     "metadata": {},
     "output_type": "execute_result"
    }
   ],
   "source": [
    "#Test data\n",
    "df_test_original.duplicated().sum()"
   ]
  },
  {
   "cell_type": "code",
   "execution_count": 502,
   "metadata": {
    "cell_id": "707cbd2a820b454cba2c3d2670520c85",
    "deepnote_cell_height": 135.5,
    "deepnote_cell_type": "code",
    "deepnote_output_heights": [
     21
    ],
    "deepnote_to_be_reexecuted": false,
    "execution_millis": 290,
    "execution_start": 1649405466405,
    "source_hash": "a2cde31f",
    "tags": []
   },
   "outputs": [
    {
     "data": {
      "text/plain": [
       "541"
      ]
     },
     "execution_count": 502,
     "metadata": {},
     "output_type": "execute_result"
    }
   ],
   "source": [
    "# Spray data\n",
    "df_spray_original.duplicated().sum()"
   ]
  },
  {
   "cell_type": "code",
   "execution_count": 503,
   "metadata": {
    "cell_id": "c36ae8aec7ad4f6cba7dabebda028c70",
    "deepnote_cell_height": 135.5,
    "deepnote_cell_type": "code",
    "deepnote_output_heights": [
     21
    ],
    "deepnote_to_be_reexecuted": false,
    "execution_millis": 269,
    "execution_start": 1649405466426,
    "source_hash": "286fc5fb",
    "tags": []
   },
   "outputs": [
    {
     "data": {
      "text/plain": [
       "0"
      ]
     },
     "execution_count": 503,
     "metadata": {},
     "output_type": "execute_result"
    }
   ],
   "source": [
    "# Weather data\n",
    "df_weather_original.duplicated().sum()"
   ]
  },
  {
   "cell_type": "markdown",
   "metadata": {
    "cell_id": "62c10d195fd54098a5ffe47b346bcc51",
    "deepnote_cell_height": 61.66667175292969,
    "deepnote_cell_type": "markdown",
    "tags": []
   },
   "source": [
    "### 2.2.1 Training Data"
   ]
  },
  {
   "cell_type": "markdown",
   "metadata": {
    "cell_id": "b9d5cdf28b6642d8916b0cfdf91348b3",
    "deepnote_cell_height": 96.86666870117188,
    "deepnote_cell_type": "markdown",
    "tags": []
   },
   "source": [
    "From the data description, it is said that main training data results are organized in such a way that when the number of mosquitos exceed 50, they are split into another record (another row in the dataset), such that the number of mosquitos per row are capped at 50. We will combine the rows by adding up the NumMosquitos column for the same trap on the same day."
   ]
  },
  {
   "cell_type": "code",
   "execution_count": 504,
   "metadata": {
    "cell_id": "819056d1048e4d0f850e4b54a0b440d3",
    "deepnote_cell_height": 613.86669921875,
    "deepnote_cell_type": "code",
    "deepnote_to_be_reexecuted": false,
    "execution_millis": 245,
    "execution_start": 1649405466452,
    "source_hash": "f19859a9",
    "tags": []
   },
   "outputs": [
    {
     "name": "stdout",
     "output_type": "stream",
     "text": [
      "(8475, 12)\n"
     ]
    },
    {
     "data": {
      "text/html": [
       "<div>\n",
       "<style scoped>\n",
       "    .dataframe tbody tr th:only-of-type {\n",
       "        vertical-align: middle;\n",
       "    }\n",
       "\n",
       "    .dataframe tbody tr th {\n",
       "        vertical-align: top;\n",
       "    }\n",
       "\n",
       "    .dataframe thead th {\n",
       "        text-align: right;\n",
       "    }\n",
       "</style>\n",
       "<table border=\"1\" class=\"dataframe\">\n",
       "  <thead>\n",
       "    <tr style=\"text-align: right;\">\n",
       "      <th></th>\n",
       "      <th>Date</th>\n",
       "      <th>Trap</th>\n",
       "      <th>Species</th>\n",
       "      <th>Block</th>\n",
       "      <th>Address</th>\n",
       "      <th>Street</th>\n",
       "      <th>AddressNumberAndStreet</th>\n",
       "      <th>Latitude</th>\n",
       "      <th>Longitude</th>\n",
       "      <th>AddressAccuracy</th>\n",
       "      <th>NumMosquitos</th>\n",
       "      <th>WnvPresent</th>\n",
       "    </tr>\n",
       "  </thead>\n",
       "  <tbody>\n",
       "    <tr>\n",
       "      <th>0</th>\n",
       "      <td>2007-05-29</td>\n",
       "      <td>T002</td>\n",
       "      <td>CULEX PIPIENS/RESTUANS</td>\n",
       "      <td>41</td>\n",
       "      <td>4100 North Oak Park Avenue, Chicago, IL 60634,...</td>\n",
       "      <td>N OAK PARK AVE</td>\n",
       "      <td>4100  N OAK PARK AVE, Chicago, IL</td>\n",
       "      <td>41.954690</td>\n",
       "      <td>-87.800991</td>\n",
       "      <td>9</td>\n",
       "      <td>1</td>\n",
       "      <td>0</td>\n",
       "    </tr>\n",
       "    <tr>\n",
       "      <th>1</th>\n",
       "      <td>2007-05-29</td>\n",
       "      <td>T002</td>\n",
       "      <td>CULEX RESTUANS</td>\n",
       "      <td>41</td>\n",
       "      <td>4100 North Oak Park Avenue, Chicago, IL 60634,...</td>\n",
       "      <td>N OAK PARK AVE</td>\n",
       "      <td>4100  N OAK PARK AVE, Chicago, IL</td>\n",
       "      <td>41.954690</td>\n",
       "      <td>-87.800991</td>\n",
       "      <td>9</td>\n",
       "      <td>1</td>\n",
       "      <td>0</td>\n",
       "    </tr>\n",
       "    <tr>\n",
       "      <th>2</th>\n",
       "      <td>2007-05-29</td>\n",
       "      <td>T007</td>\n",
       "      <td>CULEX RESTUANS</td>\n",
       "      <td>62</td>\n",
       "      <td>6200 North Mandell Avenue, Chicago, IL 60646, USA</td>\n",
       "      <td>N MANDELL AVE</td>\n",
       "      <td>6200  N MANDELL AVE, Chicago, IL</td>\n",
       "      <td>41.994991</td>\n",
       "      <td>-87.769279</td>\n",
       "      <td>9</td>\n",
       "      <td>1</td>\n",
       "      <td>0</td>\n",
       "    </tr>\n",
       "  </tbody>\n",
       "</table>\n",
       "</div>"
      ],
      "text/plain": [
       "        Date  Trap                 Species  Block  \\\n",
       "0 2007-05-29  T002  CULEX PIPIENS/RESTUANS     41   \n",
       "1 2007-05-29  T002          CULEX RESTUANS     41   \n",
       "2 2007-05-29  T007          CULEX RESTUANS     62   \n",
       "\n",
       "                                             Address           Street  \\\n",
       "0  4100 North Oak Park Avenue, Chicago, IL 60634,...   N OAK PARK AVE   \n",
       "1  4100 North Oak Park Avenue, Chicago, IL 60634,...   N OAK PARK AVE   \n",
       "2  6200 North Mandell Avenue, Chicago, IL 60646, USA    N MANDELL AVE   \n",
       "\n",
       "              AddressNumberAndStreet   Latitude  Longitude  AddressAccuracy  \\\n",
       "0  4100  N OAK PARK AVE, Chicago, IL  41.954690 -87.800991                9   \n",
       "1  4100  N OAK PARK AVE, Chicago, IL  41.954690 -87.800991                9   \n",
       "2   6200  N MANDELL AVE, Chicago, IL  41.994991 -87.769279                9   \n",
       "\n",
       "   NumMosquitos  WnvPresent  \n",
       "0             1           0  \n",
       "1             1           0  \n",
       "2             1           0  "
      ]
     },
     "execution_count": 504,
     "metadata": {},
     "output_type": "execute_result"
    }
   ],
   "source": [
    "# Sum NumMosquitos for the same date, trap and species\n",
    "df_train_clean = df_train_original.groupby(by = ['Date', 'Trap', 'Species']).agg({'Block':'first', \n",
    "                                                                'Address':'first',\n",
    "                                                                'Street':'first',\n",
    "                                                                'AddressNumberAndStreet':'first',\n",
    "                                                                'Latitude':'first',\n",
    "                                                                'Longitude':'first',\n",
    "                                                                'AddressAccuracy':'first',\n",
    "                                                                'NumMosquitos':'sum',\n",
    "                                                                'WnvPresent':'sum'}).reset_index()\n",
    "# Since we sum the MnvPresent columns, we need to change it back to 0 and 1s\n",
    "df_train_clean['WnvPresent'] = df_train_clean['WnvPresent'].map(lambda x : 1 if x > 0 else x)\n",
    "print(df_train_clean.shape)\n",
    "df_train_clean.head(3)"
   ]
  },
  {
   "cell_type": "markdown",
   "metadata": {
    "cell_id": "992ca5f81fa046cfaff30fdb13d0d233",
    "deepnote_cell_height": 61.66667175292969,
    "deepnote_cell_type": "markdown",
    "tags": []
   },
   "source": [
    "### 2.2.3 Spray Data"
   ]
  },
  {
   "cell_type": "markdown",
   "metadata": {
    "cell_id": "e20ec8c3a086404c833953c9d5b81d46",
    "deepnote_cell_height": 110.86666870117188,
    "deepnote_cell_type": "markdown",
    "tags": []
   },
   "source": [
    "For spray data, we see that there are 541 cases where multiple similar rows were recorded. They also apppear to be all on the same date: 2011-09-07.\n",
    "\n",
    "It is therefore unlikely that 541 sprays occured at exactly the same place and same time, as a result, we will drop the duplicates."
   ]
  },
  {
   "cell_type": "code",
   "execution_count": 505,
   "metadata": {
    "cell_id": "adfe921ced9b4a4c8b7d9caa965c8548",
    "deepnote_cell_height": 412.33331298828125,
    "deepnote_cell_type": "code",
    "deepnote_to_be_reexecuted": false,
    "execution_millis": 145,
    "execution_start": 1649405466553,
    "source_hash": "9b86d51a",
    "tags": []
   },
   "outputs": [
    {
     "data": {
      "text/html": [
       "<div>\n",
       "<style scoped>\n",
       "    .dataframe tbody tr th:only-of-type {\n",
       "        vertical-align: middle;\n",
       "    }\n",
       "\n",
       "    .dataframe tbody tr th {\n",
       "        vertical-align: top;\n",
       "    }\n",
       "\n",
       "    .dataframe thead th {\n",
       "        text-align: right;\n",
       "    }\n",
       "</style>\n",
       "<table border=\"1\" class=\"dataframe\">\n",
       "  <thead>\n",
       "    <tr style=\"text-align: right;\">\n",
       "      <th></th>\n",
       "      <th>Date</th>\n",
       "      <th>Time</th>\n",
       "      <th>Latitude</th>\n",
       "      <th>Longitude</th>\n",
       "    </tr>\n",
       "  </thead>\n",
       "  <tbody>\n",
       "    <tr>\n",
       "      <th>485</th>\n",
       "      <td>2011-09-07</td>\n",
       "      <td>7:43:40 PM</td>\n",
       "      <td>41.983917</td>\n",
       "      <td>-87.793088</td>\n",
       "    </tr>\n",
       "    <tr>\n",
       "      <th>857</th>\n",
       "      <td>2011-09-07</td>\n",
       "      <td>7:44:32 PM</td>\n",
       "      <td>41.986460</td>\n",
       "      <td>-87.794225</td>\n",
       "    </tr>\n",
       "    <tr>\n",
       "      <th>856</th>\n",
       "      <td>2011-09-07</td>\n",
       "      <td>7:44:32 PM</td>\n",
       "      <td>41.986460</td>\n",
       "      <td>-87.794225</td>\n",
       "    </tr>\n",
       "    <tr>\n",
       "      <th>855</th>\n",
       "      <td>2011-09-07</td>\n",
       "      <td>7:44:32 PM</td>\n",
       "      <td>41.986460</td>\n",
       "      <td>-87.794225</td>\n",
       "    </tr>\n",
       "    <tr>\n",
       "      <th>854</th>\n",
       "      <td>2011-09-07</td>\n",
       "      <td>7:44:32 PM</td>\n",
       "      <td>41.986460</td>\n",
       "      <td>-87.794225</td>\n",
       "    </tr>\n",
       "  </tbody>\n",
       "</table>\n",
       "</div>"
      ],
      "text/plain": [
       "          Date        Time   Latitude  Longitude\n",
       "485 2011-09-07  7:43:40 PM  41.983917 -87.793088\n",
       "857 2011-09-07  7:44:32 PM  41.986460 -87.794225\n",
       "856 2011-09-07  7:44:32 PM  41.986460 -87.794225\n",
       "855 2011-09-07  7:44:32 PM  41.986460 -87.794225\n",
       "854 2011-09-07  7:44:32 PM  41.986460 -87.794225"
      ]
     },
     "execution_count": 505,
     "metadata": {},
     "output_type": "execute_result"
    }
   ],
   "source": [
    "# View spray data\n",
    "df_spray_original[df_spray_original.duplicated()].sort_values(by = 'Date').head()"
   ]
  },
  {
   "cell_type": "code",
   "execution_count": 506,
   "metadata": {
    "cell_id": "87d68459fc554c1b830c42e33e461d3f",
    "deepnote_cell_height": 135.5,
    "deepnote_cell_type": "code",
    "deepnote_output_heights": [
     21
    ],
    "deepnote_to_be_reexecuted": false,
    "execution_millis": 63,
    "execution_start": 1649405466635,
    "source_hash": "7f1f2880",
    "tags": []
   },
   "outputs": [
    {
     "data": {
      "text/plain": [
       "array(['2011-09-07T00:00:00.000000000'], dtype='datetime64[ns]')"
      ]
     },
     "execution_count": 506,
     "metadata": {},
     "output_type": "execute_result"
    }
   ],
   "source": [
    "# See unique dates for duplicated rows\n",
    "df_spray_original[df_spray_original.duplicated()]['Date'].unique()"
   ]
  },
  {
   "cell_type": "code",
   "execution_count": 507,
   "metadata": {
    "cell_id": "d5c18a731fe348e4b030122488f3a26f",
    "deepnote_cell_height": 348.33331298828125,
    "deepnote_cell_type": "code",
    "deepnote_to_be_reexecuted": false,
    "execution_millis": 72,
    "execution_start": 1649405466636,
    "source_hash": "64c798a4",
    "tags": []
   },
   "outputs": [
    {
     "data": {
      "text/html": [
       "<div>\n",
       "<style scoped>\n",
       "    .dataframe tbody tr th:only-of-type {\n",
       "        vertical-align: middle;\n",
       "    }\n",
       "\n",
       "    .dataframe tbody tr th {\n",
       "        vertical-align: top;\n",
       "    }\n",
       "\n",
       "    .dataframe thead th {\n",
       "        text-align: right;\n",
       "    }\n",
       "</style>\n",
       "<table border=\"1\" class=\"dataframe\">\n",
       "  <thead>\n",
       "    <tr style=\"text-align: right;\">\n",
       "      <th></th>\n",
       "      <th>Date</th>\n",
       "      <th>Time</th>\n",
       "      <th>Latitude</th>\n",
       "      <th>Longitude</th>\n",
       "    </tr>\n",
       "  </thead>\n",
       "  <tbody>\n",
       "    <tr>\n",
       "      <th>0</th>\n",
       "      <td>2011-08-29</td>\n",
       "      <td>6:56:58 PM</td>\n",
       "      <td>42.391623</td>\n",
       "      <td>-88.089163</td>\n",
       "    </tr>\n",
       "    <tr>\n",
       "      <th>1</th>\n",
       "      <td>2011-08-29</td>\n",
       "      <td>6:57:08 PM</td>\n",
       "      <td>42.391348</td>\n",
       "      <td>-88.089163</td>\n",
       "    </tr>\n",
       "    <tr>\n",
       "      <th>2</th>\n",
       "      <td>2011-08-29</td>\n",
       "      <td>6:57:18 PM</td>\n",
       "      <td>42.391022</td>\n",
       "      <td>-88.089157</td>\n",
       "    </tr>\n",
       "  </tbody>\n",
       "</table>\n",
       "</div>"
      ],
      "text/plain": [
       "        Date        Time   Latitude  Longitude\n",
       "0 2011-08-29  6:56:58 PM  42.391623 -88.089163\n",
       "1 2011-08-29  6:57:08 PM  42.391348 -88.089163\n",
       "2 2011-08-29  6:57:18 PM  42.391022 -88.089157"
      ]
     },
     "execution_count": 507,
     "metadata": {},
     "output_type": "execute_result"
    }
   ],
   "source": [
    "# Select only non-duplicated rows\n",
    "df_spray_clean = df_spray_original[~df_spray_original.duplicated()]\n",
    "df_spray_clean.head(3)"
   ]
  },
  {
   "cell_type": "markdown",
   "metadata": {
    "cell_id": "00022-b14836b8-b8c5-4400-b238-5e0205c0a705",
    "deepnote_cell_height": 69.66667175292969,
    "deepnote_cell_type": "markdown"
   },
   "source": [
    "## 2.3 Missing Values"
   ]
  },
  {
   "cell_type": "code",
   "execution_count": 508,
   "metadata": {
    "cell_id": "00023-87983a74-eb61-4542-8c2c-04a29454c6a5",
    "deepnote_cell_height": 366.5,
    "deepnote_cell_type": "code",
    "deepnote_output_heights": [
     252
    ],
    "deepnote_to_be_reexecuted": false,
    "execution_millis": 9,
    "execution_start": 1649405466702,
    "source_hash": "d998adc3"
   },
   "outputs": [
    {
     "data": {
      "text/plain": [
       "Date                      0\n",
       "Address                   0\n",
       "Species                   0\n",
       "Block                     0\n",
       "Street                    0\n",
       "Trap                      0\n",
       "AddressNumberAndStreet    0\n",
       "Latitude                  0\n",
       "Longitude                 0\n",
       "AddressAccuracy           0\n",
       "NumMosquitos              0\n",
       "WnvPresent                0\n",
       "dtype: int64"
      ]
     },
     "execution_count": 508,
     "metadata": {},
     "output_type": "execute_result"
    }
   ],
   "source": [
    "# Missing data for train \n",
    "df_train_original.isnull().sum()"
   ]
  },
  {
   "cell_type": "code",
   "execution_count": 509,
   "metadata": {
    "cell_id": "00024-d86f11f4-c39c-4876-b4e5-d6ca4fca0105",
    "deepnote_cell_height": 346.5,
    "deepnote_cell_type": "code",
    "deepnote_output_heights": [
     232
    ],
    "deepnote_to_be_reexecuted": false,
    "execution_millis": 26,
    "execution_start": 1649405466706,
    "source_hash": "551e9542"
   },
   "outputs": [
    {
     "data": {
      "text/plain": [
       "Id                        0\n",
       "Date                      0\n",
       "Address                   0\n",
       "Species                   0\n",
       "Block                     0\n",
       "Street                    0\n",
       "Trap                      0\n",
       "AddressNumberAndStreet    0\n",
       "Latitude                  0\n",
       "Longitude                 0\n",
       "AddressAccuracy           0\n",
       "dtype: int64"
      ]
     },
     "execution_count": 509,
     "metadata": {},
     "output_type": "execute_result"
    }
   ],
   "source": [
    "# Missing data for test\n",
    "df_test_original.isnull().sum()"
   ]
  },
  {
   "cell_type": "code",
   "execution_count": 510,
   "metadata": {
    "cell_id": "00025-f7b0031b-d14c-45cd-b043-5752bb63da92",
    "deepnote_cell_height": 212.5,
    "deepnote_cell_type": "code",
    "deepnote_output_heights": [
     98
    ],
    "deepnote_to_be_reexecuted": false,
    "execution_millis": 8,
    "execution_start": 1649405466730,
    "source_hash": "669c4b9b"
   },
   "outputs": [
    {
     "data": {
      "text/plain": [
       "Date           0\n",
       "Time         584\n",
       "Latitude       0\n",
       "Longitude      0\n",
       "dtype: int64"
      ]
     },
     "execution_count": 510,
     "metadata": {},
     "output_type": "execute_result"
    }
   ],
   "source": [
    "# Missing data for spray \n",
    "df_spray_original.isnull().sum()"
   ]
  },
  {
   "cell_type": "code",
   "execution_count": 511,
   "metadata": {
    "cell_id": "00026-774c4be9-f726-4889-b24b-1c3b9221c208",
    "deepnote_cell_height": 576.5,
    "deepnote_cell_type": "code",
    "deepnote_output_heights": [
     444
    ],
    "deepnote_to_be_reexecuted": false,
    "execution_millis": 39,
    "execution_start": 1649405466740,
    "source_hash": "cf0b2ba4"
   },
   "outputs": [
    {
     "data": {
      "text/plain": [
       "Station           0\n",
       "Date              0\n",
       "Tmax              0\n",
       "Tmin              0\n",
       "Tavg             11\n",
       "Depart         1472\n",
       "DewPoint          0\n",
       "WetBulb           4\n",
       "Heat             11\n",
       "Cool             11\n",
       "Sunrise        1472\n",
       "Sunset         1472\n",
       "CodeSum           0\n",
       "Depth          1472\n",
       "Water1         2944\n",
       "SnowFall       1472\n",
       "PrecipTotal       2\n",
       "StnPressure       4\n",
       "SeaLevel          9\n",
       "ResultSpeed       0\n",
       "ResultDir         0\n",
       "AvgSpeed          3\n",
       "dtype: int64"
      ]
     },
     "execution_count": 511,
     "metadata": {},
     "output_type": "execute_result"
    }
   ],
   "source": [
    "# Missing data for weather \n",
    "# From the data description, missing values can be denoted by null, 'M' or '-'\n",
    "df_weather_original.isin([np.nan, 'M', '-']).sum()"
   ]
  },
  {
   "cell_type": "markdown",
   "metadata": {
    "cell_id": "00027-0926d1a7-24eb-4144-8fb6-fb1d1b9df63f",
    "deepnote_cell_height": 88.46665954589844,
    "deepnote_cell_type": "markdown"
   },
   "source": [
    "We see that Time column from the spray data has 584 missing values. There are also multiple missing values from the weather data.\n",
    "\n",
    "Next, we will rectify the missing values."
   ]
  },
  {
   "cell_type": "markdown",
   "metadata": {
    "cell_id": "77f15e1995474f9f85bf6fe2f26e55e6",
    "deepnote_cell_height": 61.66667175292969,
    "deepnote_cell_type": "markdown",
    "tags": []
   },
   "source": [
    "### 2.3.1 Dealing with missing values¶"
   ]
  },
  {
   "cell_type": "markdown",
   "metadata": {
    "cell_id": "8fc9b428f8924e13a64ae500b992d10a",
    "deepnote_cell_height": 53.66667175292969,
    "deepnote_cell_type": "markdown",
    "deepnote_to_be_reexecuted": false,
    "execution_millis": 1,
    "execution_start": 1648380787759,
    "source_hash": "fccca158",
    "tags": []
   },
   "source": [
    "#### 2.3.1.1 Spray data"
   ]
  },
  {
   "cell_type": "markdown",
   "metadata": {
    "cell_id": "5dd0464b2c4947978b7d96b6048c91fd",
    "deepnote_cell_height": 74.46665954589844,
    "deepnote_cell_type": "markdown",
    "tags": []
   },
   "source": [
    "For spray, all the missing values are in the Time column, which is not so important for our analysis since the actual timing of the spray is too detailed an info for our purpose, therefore, we will proceed to drop the Time column."
   ]
  },
  {
   "cell_type": "code",
   "execution_count": 512,
   "metadata": {
    "cell_id": "14ccd08bc3f64f0989899b6d084b30d4",
    "deepnote_cell_height": 80.66667175292969,
    "deepnote_cell_type": "code",
    "deepnote_to_be_reexecuted": false,
    "execution_millis": 4,
    "execution_start": 1649405466783,
    "source_hash": "d5403da4",
    "tags": []
   },
   "outputs": [],
   "source": [
    "df_spray_clean = df_spray_clean.drop('Time', axis = 1)"
   ]
  },
  {
   "cell_type": "code",
   "execution_count": 513,
   "metadata": {
    "cell_id": "3e49fb596e8a4b9c8af37b460572b97f",
    "deepnote_cell_height": 312.33331298828125,
    "deepnote_cell_type": "code",
    "deepnote_to_be_reexecuted": false,
    "execution_millis": 12,
    "execution_start": 1649405466810,
    "source_hash": "655b3032",
    "tags": []
   },
   "outputs": [
    {
     "data": {
      "text/html": [
       "<div>\n",
       "<style scoped>\n",
       "    .dataframe tbody tr th:only-of-type {\n",
       "        vertical-align: middle;\n",
       "    }\n",
       "\n",
       "    .dataframe tbody tr th {\n",
       "        vertical-align: top;\n",
       "    }\n",
       "\n",
       "    .dataframe thead th {\n",
       "        text-align: right;\n",
       "    }\n",
       "</style>\n",
       "<table border=\"1\" class=\"dataframe\">\n",
       "  <thead>\n",
       "    <tr style=\"text-align: right;\">\n",
       "      <th></th>\n",
       "      <th>Date</th>\n",
       "      <th>Latitude</th>\n",
       "      <th>Longitude</th>\n",
       "    </tr>\n",
       "  </thead>\n",
       "  <tbody>\n",
       "    <tr>\n",
       "      <th>0</th>\n",
       "      <td>2011-08-29</td>\n",
       "      <td>42.391623</td>\n",
       "      <td>-88.089163</td>\n",
       "    </tr>\n",
       "    <tr>\n",
       "      <th>1</th>\n",
       "      <td>2011-08-29</td>\n",
       "      <td>42.391348</td>\n",
       "      <td>-88.089163</td>\n",
       "    </tr>\n",
       "    <tr>\n",
       "      <th>2</th>\n",
       "      <td>2011-08-29</td>\n",
       "      <td>42.391022</td>\n",
       "      <td>-88.089157</td>\n",
       "    </tr>\n",
       "  </tbody>\n",
       "</table>\n",
       "</div>"
      ],
      "text/plain": [
       "        Date   Latitude  Longitude\n",
       "0 2011-08-29  42.391623 -88.089163\n",
       "1 2011-08-29  42.391348 -88.089163\n",
       "2 2011-08-29  42.391022 -88.089157"
      ]
     },
     "execution_count": 513,
     "metadata": {},
     "output_type": "execute_result"
    }
   ],
   "source": [
    "df_spray_clean.head(3)"
   ]
  },
  {
   "cell_type": "markdown",
   "metadata": {
    "cell_id": "13c67c1bc9c4439a9d3437b58d197e95",
    "deepnote_cell_height": 69.66667175292969,
    "deepnote_cell_type": "markdown",
    "deepnote_to_be_reexecuted": false,
    "execution_millis": 4,
    "execution_start": 1648381353515,
    "source_hash": "92bbf2d0",
    "tags": []
   },
   "source": [
    "## 2.4 Feature Engineering for Train, Test, Spray data"
   ]
  },
  {
   "cell_type": "markdown",
   "metadata": {
    "cell_id": "dc3c08a57b6b4164bbbaf90c9ad25178",
    "deepnote_cell_height": 52.06666564941406,
    "deepnote_cell_type": "markdown",
    "tags": []
   },
   "source": [
    "We will take a quick look at the data we have for now."
   ]
  },
  {
   "cell_type": "code",
   "execution_count": 514,
   "metadata": {
    "cell_id": "ae45b6e9fea94d6ca60653eec8aa75be",
    "deepnote_cell_height": 252,
    "deepnote_cell_type": "code",
    "deepnote_to_be_reexecuted": false,
    "execution_millis": 60,
    "execution_start": 1649405466825,
    "source_hash": "21ab174",
    "tags": []
   },
   "outputs": [
    {
     "data": {
      "text/html": [
       "<div>\n",
       "<style scoped>\n",
       "    .dataframe tbody tr th:only-of-type {\n",
       "        vertical-align: middle;\n",
       "    }\n",
       "\n",
       "    .dataframe tbody tr th {\n",
       "        vertical-align: top;\n",
       "    }\n",
       "\n",
       "    .dataframe thead th {\n",
       "        text-align: right;\n",
       "    }\n",
       "</style>\n",
       "<table border=\"1\" class=\"dataframe\">\n",
       "  <thead>\n",
       "    <tr style=\"text-align: right;\">\n",
       "      <th></th>\n",
       "      <th>Date</th>\n",
       "      <th>Trap</th>\n",
       "      <th>Species</th>\n",
       "      <th>Block</th>\n",
       "      <th>Address</th>\n",
       "      <th>Street</th>\n",
       "      <th>AddressNumberAndStreet</th>\n",
       "      <th>Latitude</th>\n",
       "      <th>Longitude</th>\n",
       "      <th>AddressAccuracy</th>\n",
       "      <th>NumMosquitos</th>\n",
       "      <th>WnvPresent</th>\n",
       "    </tr>\n",
       "  </thead>\n",
       "  <tbody>\n",
       "    <tr>\n",
       "      <th>0</th>\n",
       "      <td>2007-05-29</td>\n",
       "      <td>T002</td>\n",
       "      <td>CULEX PIPIENS/RESTUANS</td>\n",
       "      <td>41</td>\n",
       "      <td>4100 North Oak Park Avenue, Chicago, IL 60634,...</td>\n",
       "      <td>N OAK PARK AVE</td>\n",
       "      <td>4100  N OAK PARK AVE, Chicago, IL</td>\n",
       "      <td>41.95469</td>\n",
       "      <td>-87.800991</td>\n",
       "      <td>9</td>\n",
       "      <td>1</td>\n",
       "      <td>0</td>\n",
       "    </tr>\n",
       "  </tbody>\n",
       "</table>\n",
       "</div>"
      ],
      "text/plain": [
       "        Date  Trap                 Species  Block  \\\n",
       "0 2007-05-29  T002  CULEX PIPIENS/RESTUANS     41   \n",
       "\n",
       "                                             Address           Street  \\\n",
       "0  4100 North Oak Park Avenue, Chicago, IL 60634,...   N OAK PARK AVE   \n",
       "\n",
       "              AddressNumberAndStreet  Latitude  Longitude  AddressAccuracy  \\\n",
       "0  4100  N OAK PARK AVE, Chicago, IL  41.95469 -87.800991                9   \n",
       "\n",
       "   NumMosquitos  WnvPresent  \n",
       "0             1           0  "
      ]
     },
     "execution_count": 514,
     "metadata": {},
     "output_type": "execute_result"
    }
   ],
   "source": [
    "df_train_clean.head(1)"
   ]
  },
  {
   "cell_type": "code",
   "execution_count": 515,
   "metadata": {
    "cell_id": "7af2b3496f8a45f18a969839813ba922",
    "deepnote_cell_height": 270,
    "deepnote_cell_type": "code",
    "deepnote_to_be_reexecuted": false,
    "execution_millis": 63,
    "execution_start": 1649405466888,
    "source_hash": "734ee0be",
    "tags": []
   },
   "outputs": [
    {
     "data": {
      "text/html": [
       "<div>\n",
       "<style scoped>\n",
       "    .dataframe tbody tr th:only-of-type {\n",
       "        vertical-align: middle;\n",
       "    }\n",
       "\n",
       "    .dataframe tbody tr th {\n",
       "        vertical-align: top;\n",
       "    }\n",
       "\n",
       "    .dataframe thead th {\n",
       "        text-align: right;\n",
       "    }\n",
       "</style>\n",
       "<table border=\"1\" class=\"dataframe\">\n",
       "  <thead>\n",
       "    <tr style=\"text-align: right;\">\n",
       "      <th></th>\n",
       "      <th>Id</th>\n",
       "      <th>Date</th>\n",
       "      <th>Address</th>\n",
       "      <th>Species</th>\n",
       "      <th>Block</th>\n",
       "      <th>Street</th>\n",
       "      <th>Trap</th>\n",
       "      <th>AddressNumberAndStreet</th>\n",
       "      <th>Latitude</th>\n",
       "      <th>Longitude</th>\n",
       "      <th>AddressAccuracy</th>\n",
       "    </tr>\n",
       "  </thead>\n",
       "  <tbody>\n",
       "    <tr>\n",
       "      <th>0</th>\n",
       "      <td>1</td>\n",
       "      <td>2008-06-11</td>\n",
       "      <td>4100 North Oak Park Avenue, Chicago, IL 60634,...</td>\n",
       "      <td>CULEX PIPIENS/RESTUANS</td>\n",
       "      <td>41</td>\n",
       "      <td>N OAK PARK AVE</td>\n",
       "      <td>T002</td>\n",
       "      <td>4100  N OAK PARK AVE, Chicago, IL</td>\n",
       "      <td>41.95469</td>\n",
       "      <td>-87.800991</td>\n",
       "      <td>9</td>\n",
       "    </tr>\n",
       "  </tbody>\n",
       "</table>\n",
       "</div>"
      ],
      "text/plain": [
       "   Id       Date                                            Address  \\\n",
       "0   1 2008-06-11  4100 North Oak Park Avenue, Chicago, IL 60634,...   \n",
       "\n",
       "                  Species  Block           Street  Trap  \\\n",
       "0  CULEX PIPIENS/RESTUANS     41   N OAK PARK AVE  T002   \n",
       "\n",
       "              AddressNumberAndStreet  Latitude  Longitude  AddressAccuracy  \n",
       "0  4100  N OAK PARK AVE, Chicago, IL  41.95469 -87.800991                9  "
      ]
     },
     "execution_count": 515,
     "metadata": {},
     "output_type": "execute_result"
    }
   ],
   "source": [
    "df_test_clean = df_test_original\n",
    "df_test_clean.head(1)"
   ]
  },
  {
   "cell_type": "code",
   "execution_count": 516,
   "metadata": {
    "cell_id": "316100498394448c8f8e1a74a36cff25",
    "deepnote_cell_height": 230.3333282470703,
    "deepnote_cell_type": "code",
    "deepnote_to_be_reexecuted": false,
    "execution_millis": 21,
    "execution_start": 1649405466979,
    "source_hash": "418454b1",
    "tags": []
   },
   "outputs": [
    {
     "data": {
      "text/html": [
       "<div>\n",
       "<style scoped>\n",
       "    .dataframe tbody tr th:only-of-type {\n",
       "        vertical-align: middle;\n",
       "    }\n",
       "\n",
       "    .dataframe tbody tr th {\n",
       "        vertical-align: top;\n",
       "    }\n",
       "\n",
       "    .dataframe thead th {\n",
       "        text-align: right;\n",
       "    }\n",
       "</style>\n",
       "<table border=\"1\" class=\"dataframe\">\n",
       "  <thead>\n",
       "    <tr style=\"text-align: right;\">\n",
       "      <th></th>\n",
       "      <th>Date</th>\n",
       "      <th>Latitude</th>\n",
       "      <th>Longitude</th>\n",
       "    </tr>\n",
       "  </thead>\n",
       "  <tbody>\n",
       "    <tr>\n",
       "      <th>0</th>\n",
       "      <td>2011-08-29</td>\n",
       "      <td>42.391623</td>\n",
       "      <td>-88.089163</td>\n",
       "    </tr>\n",
       "  </tbody>\n",
       "</table>\n",
       "</div>"
      ],
      "text/plain": [
       "        Date   Latitude  Longitude\n",
       "0 2011-08-29  42.391623 -88.089163"
      ]
     },
     "execution_count": 516,
     "metadata": {},
     "output_type": "execute_result"
    }
   ],
   "source": [
    "df_spray_clean.head(1)"
   ]
  },
  {
   "cell_type": "markdown",
   "metadata": {
    "cell_id": "ab578e2a4d3b4fb38e6d08c6a217afe1",
    "deepnote_cell_height": 61.66667175292969,
    "deepnote_cell_type": "markdown",
    "deepnote_to_be_reexecuted": false,
    "execution_millis": 68,
    "execution_start": 1648381419867,
    "source_hash": "d42b92a",
    "tags": []
   },
   "source": [
    "### 2.4.1 Create Year, Month, Day of Month, Day of Week"
   ]
  },
  {
   "cell_type": "code",
   "execution_count": 517,
   "metadata": {
    "cell_id": "208f456c7fed4bee87a2a506f1133628",
    "deepnote_cell_height": 152.6666717529297,
    "deepnote_cell_type": "code",
    "deepnote_to_be_reexecuted": false,
    "execution_millis": 55,
    "execution_start": 1649405467011,
    "source_hash": "cf0d03c0",
    "tags": []
   },
   "outputs": [],
   "source": [
    "for df in [df_train_clean, df_test_clean, df_spray_clean]:\n",
    "    df['Year'] = df['Date'].dt.year\n",
    "    df['Month'] = df['Date'].dt.month\n",
    "    df['Day'] = df['Date'].dt.day\n",
    "    df['Day of Week'] = df['Date'].dt.dayofweek"
   ]
  },
  {
   "cell_type": "markdown",
   "metadata": {
    "cell_id": "bd29b4e713a9455291e7daba4cd6876b",
    "deepnote_cell_height": 61.66667175292969,
    "deepnote_cell_type": "markdown",
    "tags": []
   },
   "source": [
    "### 2.4.2 Create Point Features"
   ]
  },
  {
   "cell_type": "markdown",
   "metadata": {
    "cell_id": "30b1a4473eae4adab8d22629c5757440",
    "deepnote_cell_height": 74.46665954589844,
    "deepnote_cell_type": "markdown",
    "tags": []
   },
   "source": [
    "We will also create a geospatial feature called geometry from the longitude and latitude columns. This is to help us visualize the location of traps and sprays."
   ]
  },
  {
   "cell_type": "markdown",
   "metadata": {
    "cell_id": "b095e843b21a4bd9b1e85d35a6cad80a",
    "deepnote_cell_height": 52.06666564941406,
    "deepnote_cell_type": "markdown",
    "tags": []
   },
   "source": [
    "We will first import the shp file for chicago, which consists of various neighborhoods of chicago."
   ]
  },
  {
   "cell_type": "code",
   "execution_count": 518,
   "metadata": {
    "cell_id": "c2f241b645fa4ac9b1f8ef37e3b00c09",
    "deepnote_cell_height": 406,
    "deepnote_cell_type": "code",
    "deepnote_to_be_reexecuted": false,
    "execution_millis": 364,
    "execution_start": 1649405467071,
    "source_hash": "feb3c339",
    "tags": []
   },
   "outputs": [
    {
     "data": {
      "text/html": [
       "<div>\n",
       "<style scoped>\n",
       "    .dataframe tbody tr th:only-of-type {\n",
       "        vertical-align: middle;\n",
       "    }\n",
       "\n",
       "    .dataframe tbody tr th {\n",
       "        vertical-align: top;\n",
       "    }\n",
       "\n",
       "    .dataframe thead th {\n",
       "        text-align: right;\n",
       "    }\n",
       "</style>\n",
       "<table border=\"1\" class=\"dataframe\">\n",
       "  <thead>\n",
       "    <tr style=\"text-align: right;\">\n",
       "      <th></th>\n",
       "      <th>area</th>\n",
       "      <th>area_num_1</th>\n",
       "      <th>area_numbe</th>\n",
       "      <th>comarea</th>\n",
       "      <th>comarea_id</th>\n",
       "      <th>community</th>\n",
       "      <th>perimeter</th>\n",
       "      <th>shape_area</th>\n",
       "      <th>shape_len</th>\n",
       "      <th>geometry</th>\n",
       "    </tr>\n",
       "  </thead>\n",
       "  <tbody>\n",
       "    <tr>\n",
       "      <th>0</th>\n",
       "      <td>0.0</td>\n",
       "      <td>35</td>\n",
       "      <td>35</td>\n",
       "      <td>0.0</td>\n",
       "      <td>0.0</td>\n",
       "      <td>DOUGLAS</td>\n",
       "      <td>0.0</td>\n",
       "      <td>4.600462e+07</td>\n",
       "      <td>31027.054510</td>\n",
       "      <td>POLYGON ((-9752604.951 5137743.450, -9752605.8...</td>\n",
       "    </tr>\n",
       "    <tr>\n",
       "      <th>1</th>\n",
       "      <td>0.0</td>\n",
       "      <td>36</td>\n",
       "      <td>36</td>\n",
       "      <td>0.0</td>\n",
       "      <td>0.0</td>\n",
       "      <td>OAKLAND</td>\n",
       "      <td>0.0</td>\n",
       "      <td>1.691396e+07</td>\n",
       "      <td>19565.506153</td>\n",
       "      <td>POLYGON ((-9750713.852 5133595.674, -9750731.1...</td>\n",
       "    </tr>\n",
       "    <tr>\n",
       "      <th>2</th>\n",
       "      <td>0.0</td>\n",
       "      <td>37</td>\n",
       "      <td>37</td>\n",
       "      <td>0.0</td>\n",
       "      <td>0.0</td>\n",
       "      <td>FULLER PARK</td>\n",
       "      <td>0.0</td>\n",
       "      <td>1.991670e+07</td>\n",
       "      <td>25339.089750</td>\n",
       "      <td>POLYGON ((-9754793.199 5131350.020, -9754792.7...</td>\n",
       "    </tr>\n",
       "  </tbody>\n",
       "</table>\n",
       "</div>"
      ],
      "text/plain": [
       "   area area_num_1 area_numbe  comarea  comarea_id    community  perimeter  \\\n",
       "0   0.0         35         35      0.0         0.0      DOUGLAS        0.0   \n",
       "1   0.0         36         36      0.0         0.0      OAKLAND        0.0   \n",
       "2   0.0         37         37      0.0         0.0  FULLER PARK        0.0   \n",
       "\n",
       "     shape_area     shape_len  \\\n",
       "0  4.600462e+07  31027.054510   \n",
       "1  1.691396e+07  19565.506153   \n",
       "2  1.991670e+07  25339.089750   \n",
       "\n",
       "                                            geometry  \n",
       "0  POLYGON ((-9752604.951 5137743.450, -9752605.8...  \n",
       "1  POLYGON ((-9750713.852 5133595.674, -9750731.1...  \n",
       "2  POLYGON ((-9754793.199 5131350.020, -9754792.7...  "
      ]
     },
     "execution_count": 518,
     "metadata": {},
     "output_type": "execute_result"
    }
   ],
   "source": [
    "# Import chicago shp file\n",
    "chicago_map = gpd.read_file('../../datasets/geospatial_data/geo_export_b6d9ff0e-93d2-4bd4-8a82-6ee748350562.shp')\n",
    "crs = {'init':'epsg:3857'}\n",
    "chicago_map_wm = chicago_map.to_crs(epsg=3857)\n",
    "chicago_map_wm.head(3)"
   ]
  },
  {
   "cell_type": "markdown",
   "metadata": {
    "cell_id": "9d8ffb7afb304ffc870280fc57a7095e",
    "deepnote_cell_height": 52.06666564941406,
    "deepnote_cell_type": "markdown",
    "tags": []
   },
   "source": [
    "Next we will create point features for both the train and spray data."
   ]
  },
  {
   "cell_type": "code",
   "execution_count": 519,
   "metadata": {
    "cell_id": "8059cead54814e57be1e3aa7c8637fb3",
    "deepnote_cell_height": 188.6666717529297,
    "deepnote_cell_type": "code",
    "deepnote_to_be_reexecuted": false,
    "execution_millis": 1274,
    "execution_start": 1649405467419,
    "source_hash": "5749ee41",
    "tags": []
   },
   "outputs": [],
   "source": [
    "# create point features for train data\n",
    "#points = [Point(xy) for xy in zip(df_train_clean['Longitude'], df_train_clean['Latitude'])]\n",
    "points = gpd.points_from_xy(df_train_clean['Longitude'], df_train_clean['Latitude'], crs=\"EPSG:4326\")\n",
    "df_train_clean_geo = gpd.GeoDataFrame(df_train_clean,\n",
    "                                  crs=\"EPSG:4326\",\n",
    "                                  geometry=points)\n",
    "df_train_clean_geo = df_train_clean_geo.to_crs(epsg=3857)"
   ]
  },
  {
   "cell_type": "code",
   "execution_count": 520,
   "metadata": {
    "cell_id": "41bd91c932dc45cab67bfdce26908b58",
    "deepnote_cell_height": 356.8666687011719,
    "deepnote_cell_type": "code",
    "deepnote_to_be_reexecuted": false,
    "execution_millis": 375,
    "execution_start": 1649405468710,
    "source_hash": "5efea9d5",
    "tags": []
   },
   "outputs": [
    {
     "name": "stdout",
     "output_type": "stream",
     "text": [
      "(8475, 17)\n"
     ]
    },
    {
     "data": {
      "text/html": [
       "<div>\n",
       "<style scoped>\n",
       "    .dataframe tbody tr th:only-of-type {\n",
       "        vertical-align: middle;\n",
       "    }\n",
       "\n",
       "    .dataframe tbody tr th {\n",
       "        vertical-align: top;\n",
       "    }\n",
       "\n",
       "    .dataframe thead th {\n",
       "        text-align: right;\n",
       "    }\n",
       "</style>\n",
       "<table border=\"1\" class=\"dataframe\">\n",
       "  <thead>\n",
       "    <tr style=\"text-align: right;\">\n",
       "      <th></th>\n",
       "      <th>Date</th>\n",
       "      <th>Trap</th>\n",
       "      <th>Species</th>\n",
       "      <th>Block</th>\n",
       "      <th>Address</th>\n",
       "      <th>Street</th>\n",
       "      <th>AddressNumberAndStreet</th>\n",
       "      <th>Latitude</th>\n",
       "      <th>Longitude</th>\n",
       "      <th>AddressAccuracy</th>\n",
       "      <th>NumMosquitos</th>\n",
       "      <th>WnvPresent</th>\n",
       "      <th>Year</th>\n",
       "      <th>Month</th>\n",
       "      <th>Day</th>\n",
       "      <th>Day of Week</th>\n",
       "      <th>geometry</th>\n",
       "    </tr>\n",
       "  </thead>\n",
       "  <tbody>\n",
       "    <tr>\n",
       "      <th>0</th>\n",
       "      <td>2007-05-29</td>\n",
       "      <td>T002</td>\n",
       "      <td>CULEX PIPIENS/RESTUANS</td>\n",
       "      <td>41</td>\n",
       "      <td>4100 North Oak Park Avenue, Chicago, IL 60634,...</td>\n",
       "      <td>N OAK PARK AVE</td>\n",
       "      <td>4100  N OAK PARK AVE, Chicago, IL</td>\n",
       "      <td>41.95469</td>\n",
       "      <td>-87.800991</td>\n",
       "      <td>9</td>\n",
       "      <td>1</td>\n",
       "      <td>0</td>\n",
       "      <td>2007</td>\n",
       "      <td>5</td>\n",
       "      <td>29</td>\n",
       "      <td>1</td>\n",
       "      <td>POINT (-9773961.609 5154194.640)</td>\n",
       "    </tr>\n",
       "    <tr>\n",
       "      <th>1</th>\n",
       "      <td>2007-05-29</td>\n",
       "      <td>T002</td>\n",
       "      <td>CULEX RESTUANS</td>\n",
       "      <td>41</td>\n",
       "      <td>4100 North Oak Park Avenue, Chicago, IL 60634,...</td>\n",
       "      <td>N OAK PARK AVE</td>\n",
       "      <td>4100  N OAK PARK AVE, Chicago, IL</td>\n",
       "      <td>41.95469</td>\n",
       "      <td>-87.800991</td>\n",
       "      <td>9</td>\n",
       "      <td>1</td>\n",
       "      <td>0</td>\n",
       "      <td>2007</td>\n",
       "      <td>5</td>\n",
       "      <td>29</td>\n",
       "      <td>1</td>\n",
       "      <td>POINT (-9773961.609 5154194.640)</td>\n",
       "    </tr>\n",
       "  </tbody>\n",
       "</table>\n",
       "</div>"
      ],
      "text/plain": [
       "        Date  Trap                 Species  Block  \\\n",
       "0 2007-05-29  T002  CULEX PIPIENS/RESTUANS     41   \n",
       "1 2007-05-29  T002          CULEX RESTUANS     41   \n",
       "\n",
       "                                             Address           Street  \\\n",
       "0  4100 North Oak Park Avenue, Chicago, IL 60634,...   N OAK PARK AVE   \n",
       "1  4100 North Oak Park Avenue, Chicago, IL 60634,...   N OAK PARK AVE   \n",
       "\n",
       "              AddressNumberAndStreet  Latitude  Longitude  AddressAccuracy  \\\n",
       "0  4100  N OAK PARK AVE, Chicago, IL  41.95469 -87.800991                9   \n",
       "1  4100  N OAK PARK AVE, Chicago, IL  41.95469 -87.800991                9   \n",
       "\n",
       "   NumMosquitos  WnvPresent  Year  Month  Day  Day of Week  \\\n",
       "0             1           0  2007      5   29            1   \n",
       "1             1           0  2007      5   29            1   \n",
       "\n",
       "                           geometry  \n",
       "0  POINT (-9773961.609 5154194.640)  \n",
       "1  POINT (-9773961.609 5154194.640)  "
      ]
     },
     "execution_count": 520,
     "metadata": {},
     "output_type": "execute_result"
    }
   ],
   "source": [
    "print(df_train_clean_geo.shape)\n",
    "df_train_clean_geo.head(2)"
   ]
  },
  {
   "cell_type": "code",
   "execution_count": 521,
   "metadata": {
    "cell_id": "19f20a841807403bb99460949d8e2eed",
    "deepnote_cell_height": 188.6666717529297,
    "deepnote_cell_type": "code",
    "deepnote_to_be_reexecuted": false,
    "execution_millis": 2097,
    "execution_start": 1649405468815,
    "source_hash": "418ba1d6",
    "tags": []
   },
   "outputs": [],
   "source": [
    "# create point features for spray data\n",
    "#points = [Point(xy) for xy in zip(df_train_clean['Longitude'], df_train_clean['Latitude'])]\n",
    "points1 = gpd.points_from_xy(df_spray_clean['Longitude'], df_spray_clean['Latitude'], crs=\"EPSG:4326\")\n",
    "df_spray_clean_geo = gpd.GeoDataFrame(df_spray_clean,\n",
    "                                  crs=\"EPSG:4326\",\n",
    "                                  geometry=points1)\n",
    "df_spray_clean_geo = df_spray_clean_geo.to_crs(epsg=3857)"
   ]
  },
  {
   "cell_type": "code",
   "execution_count": 522,
   "metadata": {
    "cell_id": "a939d82c4d1249f699c250f60fd0c22e",
    "deepnote_cell_height": 356.8666687011719,
    "deepnote_cell_type": "code",
    "deepnote_to_be_reexecuted": false,
    "execution_millis": 88,
    "execution_start": 1649405470917,
    "source_hash": "820cb6cc",
    "tags": []
   },
   "outputs": [
    {
     "name": "stdout",
     "output_type": "stream",
     "text": [
      "(14294, 8)\n"
     ]
    },
    {
     "data": {
      "text/html": [
       "<div>\n",
       "<style scoped>\n",
       "    .dataframe tbody tr th:only-of-type {\n",
       "        vertical-align: middle;\n",
       "    }\n",
       "\n",
       "    .dataframe tbody tr th {\n",
       "        vertical-align: top;\n",
       "    }\n",
       "\n",
       "    .dataframe thead th {\n",
       "        text-align: right;\n",
       "    }\n",
       "</style>\n",
       "<table border=\"1\" class=\"dataframe\">\n",
       "  <thead>\n",
       "    <tr style=\"text-align: right;\">\n",
       "      <th></th>\n",
       "      <th>Date</th>\n",
       "      <th>Latitude</th>\n",
       "      <th>Longitude</th>\n",
       "      <th>Year</th>\n",
       "      <th>Month</th>\n",
       "      <th>Day</th>\n",
       "      <th>Day of Week</th>\n",
       "      <th>geometry</th>\n",
       "    </tr>\n",
       "  </thead>\n",
       "  <tbody>\n",
       "    <tr>\n",
       "      <th>0</th>\n",
       "      <td>2011-08-29</td>\n",
       "      <td>42.391623</td>\n",
       "      <td>-88.089163</td>\n",
       "      <td>2011</td>\n",
       "      <td>8</td>\n",
       "      <td>29</td>\n",
       "      <td>0</td>\n",
       "      <td>POINT (-9806040.807 5219824.442)</td>\n",
       "    </tr>\n",
       "    <tr>\n",
       "      <th>1</th>\n",
       "      <td>2011-08-29</td>\n",
       "      <td>42.391348</td>\n",
       "      <td>-88.089163</td>\n",
       "      <td>2011</td>\n",
       "      <td>8</td>\n",
       "      <td>29</td>\n",
       "      <td>0</td>\n",
       "      <td>POINT (-9806040.807 5219782.993)</td>\n",
       "    </tr>\n",
       "  </tbody>\n",
       "</table>\n",
       "</div>"
      ],
      "text/plain": [
       "        Date   Latitude  Longitude  Year  Month  Day  Day of Week  \\\n",
       "0 2011-08-29  42.391623 -88.089163  2011      8   29            0   \n",
       "1 2011-08-29  42.391348 -88.089163  2011      8   29            0   \n",
       "\n",
       "                           geometry  \n",
       "0  POINT (-9806040.807 5219824.442)  \n",
       "1  POINT (-9806040.807 5219782.993)  "
      ]
     },
     "execution_count": 522,
     "metadata": {},
     "output_type": "execute_result"
    }
   ],
   "source": [
    "print(df_spray_clean_geo.shape)\n",
    "df_spray_clean_geo.head(2)"
   ]
  },
  {
   "cell_type": "markdown",
   "metadata": {
    "cell_id": "3fc52bfe51b94d518622003c4cb18086",
    "deepnote_cell_height": 120.06666564941406,
    "deepnote_cell_type": "markdown",
    "tags": []
   },
   "source": [
    "# 3. Data Cleaning for Weather Data\n",
    "In this section, we detail the steps in cleaning the weather data for merging into the final combined data frame."
   ]
  },
  {
   "cell_type": "markdown",
   "metadata": {
    "cell_id": "7c55361a9cc44adc8eaf5283c7507a4d",
    "deepnote_cell_height": 109.66667175292969,
    "deepnote_cell_type": "markdown",
    "tags": []
   },
   "source": [
    "## 3.1 Weather Data - Initial Analysis, Dropping Features, and Engineering New Features"
   ]
  },
  {
   "cell_type": "markdown",
   "metadata": {
    "cell_id": "0d8b8e3a940349dcb54b3199b7d1ed35",
    "deepnote_cell_height": 158.86666870117188,
    "deepnote_cell_type": "markdown",
    "tags": []
   },
   "source": [
    "\n",
    "\n",
    "### 3.1.1 Quick analysis on weather data\n",
    "\n",
    "In this subsection, we take a look at some key details of the weather data for further cleaning.\n",
    "\n",
    "Firstly, we look at the pressure values, and also the wind speeds in the data set.\n",
    "Also, we take a quick look at the distribution of the wind direction over the data set."
   ]
  },
  {
   "cell_type": "code",
   "execution_count": 526,
   "metadata": {
    "cell_id": "8bf1e210321a40b2a6a72aa488326701",
    "deepnote_cell_height": 592.0333251953125,
    "deepnote_cell_type": "code",
    "deepnote_to_be_reexecuted": false,
    "execution_millis": 2,
    "execution_start": 1649405471004,
    "source_hash": "49ac6da7",
    "tags": []
   },
   "outputs": [
    {
     "name": "stdout",
     "output_type": "stream",
     "text": [
      "---------------------\n",
      "StnPressure: max, min\n",
      "29.86 28.55\n",
      "---------------------\n",
      "SeaLevel: max, min\n",
      "30.53 29.23\n",
      "---------------------\n",
      "ResultSpeed: max, min\n",
      "24.1 0.1\n",
      "---------------------\n",
      "ResultDir: max, min\n",
      "36.0 1.0\n",
      "---------------------\n",
      "AvgSpeed: max, min\n",
      "9.9 1.7\n",
      "---------------------\n"
     ]
    }
   ],
   "source": [
    "def check_frames(df, col_headers):\n",
    "    print('---------------------')\n",
    "\n",
    "    for col in col_headers:\n",
    "        temp_df = df[df[col] != 'M']\n",
    "        print(f'{col}: max, min')\n",
    "        print(float(temp_df[col].max()), float(temp_df[col].min()))\n",
    "        print('---------------------')\n",
    "\n",
    "col_to_check = ['StnPressure','SeaLevel','ResultSpeed', 'ResultDir', 'AvgSpeed']\n",
    "check_frames(df_weather_original, col_to_check)"
   ]
  },
  {
   "cell_type": "code",
   "execution_count": 527,
   "metadata": {
    "cell_id": "8fff7d51c8ad4b16a6bc8516b1bcba0a",
    "deepnote_cell_height": 448.5,
    "deepnote_cell_type": "code",
    "deepnote_output_heights": [
     280
    ],
    "deepnote_to_be_reexecuted": false,
    "execution_millis": 841,
    "execution_start": 1649405471007,
    "source_hash": "72b3f34f",
    "tags": []
   },
   "outputs": [
    {
     "data": {
      "image/png": "[encoded data removed]",
      "text/plain": [
       "<Figure size 432x288 with 1 Axes>"
      ]
     },
     "metadata": {
      "needs_background": "light"
     },
     "output_type": "display_data"
    }
   ],
   "source": [
    "plt.hist(df_weather_original['ResultDir'],\n",
    "         bins = 36);\n",
    "plt.title('Distribution of Wind Direction over Chicago')\n",
    "plt.xlabel('Angle, in tens of degrees')\n",
    "plt.ylabel('Count of direction');"
   ]
  },
  {
   "cell_type": "markdown",
   "metadata": {
    "cell_id": "2adba1bcc79c49a1b93798720efdc3cd",
    "deepnote_cell_height": 306.4666748046875,
    "deepnote_cell_type": "markdown",
    "tags": []
   },
   "source": [
    "The initial visualizations provide some initial understanding on the weather data set provided.\n",
    "\n",
    "##### Notes on Pressure Values\n",
    "From the initial analysis, we see that the station pressure values are measured between 28.55 - 29.86 in Hg. For reference, the top of Mount Everest measures at approximately 33.7 kPa, or 9.95 in Hg [[source]](https://hypertextbook.com/facts/2001/JaredGoldberger.shtml).  While this level of granuality may be significant for accurate weather predictions, this is not the focus of the project.\n",
    "\n",
    "##### Notes on Wind direction\n",
    "Likewise, we see that the prevailing winds tend to be in 0 - 5 degrees, and about 20-25 degrees. This means that over the data set, the prevailing winds are primarily from the North, and the North-North-East direction. \n",
    "\n",
    "More details will be discussed in the subsequent sections."
   ]
  },
  {
   "cell_type": "markdown",
   "metadata": {
    "cell_id": "95728dd8363c42f99b223d750f17669e",
    "deepnote_cell_height": 1160.86669921875,
    "deepnote_cell_type": "markdown",
    "tags": []
   },
   "source": [
    "### 3.1.2 Justifications For Dropping Irrelevant Data\n",
    "In this section, we identify columns which offer little benefit in terms of modeling the presense of mosquitoes in the region.\n",
    "\n",
    "##### Humidity Values\n",
    "In the interest of determining the humidity of the area, only one of the two values are required - Dew Point temperature, or the Wet Bulb Temperature. In this exercise, we will make use of the August-Roche-Magnus approximation to determine the Relative Humidity of the area. In this equation, only the Dew Point Temperature is required. Hence, <u>the wet bulb temperature can be dropped with confidence</u>.\n",
    "\n",
    "##### Pressure Values\n",
    "From the max/min values, we see that both pressure values have limited variability. \n",
    "While this could be useful in predicting further granular detail on weather events, this is not in the interest of the scope of work, and can be dropped. Hence we shall <u>drop the StnPressure and SeaLevel columns</u>.\n",
    "\n",
    "<u>In the event that a reference pressure is required, 1 atm can be used for any relevant calculation.</u>\n",
    "\n",
    "\n",
    "##### Wind Speeds and Direction\n",
    "Similarly, with the wind direction and speeds, we see that the <u>resultant wind directions are primarily between 1 to 36 deg</u>. This means that winds are generally blowing from the North and North-NorthEast direction. Relative to Chicago's location, this tells us that winds are blowing inland from Lake Michigan towards the Eastern coast. As a result, this gives us some indication that humid air from the lake could be blown in-land, resulting in higher rain probabilities. \n",
    "\n",
    "While these values can be used to create a simulation of clouds and possible rain cloud trajectory, this requires extensive knowledge of fluid dynamics and meterological understanding, and would be considered too expensive for the purposes of this project.\n",
    "\n",
    "We also note that the \"ResultSpeed\" column is the vector sum of the wind speeds and direction. In this case, we shall retain non-engineered values, and <u>drop the \"ResultSpeed\" columns.</u>\n",
    "\n",
    "##### Snowfall, Depth of Snow, and Water Equivalent\n",
    "Given that the data set covers the warmer months, it is reasonable that snowfall is highly unlikely. Under this assumption, the <u>\"Snowfall\" column should be dropped as well</u>. Similarly, columns such as <u>\"Depth\", and \"Water1\"</u>, which tracks the depth of snow, and the equivalent depth of water, can be considered to be irrelevant.\n",
    "\n",
    "##### Departure From Normal (Depart)\n",
    "The departure from normal temperature could be used as a measure of how normal/abnormal the temperature is from the historical values. While this is useful in monitoring the difference from the norm, it has little value in explaining the occurence of mosquitoes in the region.  \n",
    "\n",
    "As such, we can confidently <u>drop the <i>\"Depart\"</i> column</u>\n",
    "\n",
    "##### Heat / Cool Degree Day\n",
    "Used as a measure to estimate energy demand, the Heating Degree Day (HDD) and Cooling Degree Day (CDD) is used as a means to quantify the number of degrees (Farenheit) below/above the reference temperature. In this case, the reference temperature is set at 65 degF.\n",
    "\n",
    "\n",
    "In the case of modelling the mosquito population/hotspots, this is considered an engineered feature from the T_avg value. As such, <u> <i>\"Heat\" and \"Cool\"</i> can be confidently dropped without fear of losing valuable information</u>.\n",
    "\n",
    "##### Weather conditions\n",
    "In the final portion of the data manipulation, we break up the CodeSum of the individual rows to obtain a \"one-hot encoded\" format.\n",
    "To reduce the amount of redundant data, we have dropped columns which have no observations of any given weather observation of the span of the weather data. "
   ]
  },
  {
   "cell_type": "markdown",
   "metadata": {
    "cell_id": "8a12ae4a3ca8462abd00ff34a924c3cb",
    "deepnote_cell_height": 418.8666687011719,
    "deepnote_cell_type": "markdown",
    "tags": []
   },
   "source": [
    "### 3.1.3 Handling missing values\n",
    "We also outline some strategies to handle the missing values in the columns.\n",
    "\n",
    "##### Tavg\n",
    "In the calculation of Relative Humidity values, it is important to obtain an accurate value of the average temperature. However, in the absence of quality data, we shall assume that the <u>midpoint of the max and min daily temperatures</u> shall be used.\n",
    "\n",
    "##### PrecipTotal\n",
    "In the absence of quality data, we shall <u>impute \"Trace\" amounts (recorded as 'T' in the dataframe) with a value of 0.01</u>, and <u>Missing data points (recorded as 'M' in the dataframe) with a value of 0.00</u>. This is consistent with the observations found in the CodeSum column, where no weather observations were found. To provide further confidence, we observe that Tmax & Tmin were in a small range, and hence can be assumed to be calm weather days.\n",
    "\n",
    "##### AvgSpeed\n",
    "To avoid skewing the data to any direction, the <u>average value of all wind speeds</u> were taken to impute the missing values found in the column."
   ]
  },
  {
   "cell_type": "markdown",
   "metadata": {
    "cell_id": "341fc65e4797408cbf2b876fa166fb52",
    "deepnote_cell_height": 828.066650390625,
    "deepnote_cell_type": "markdown",
    "tags": []
   },
   "source": [
    "### 3.1.4 Feature Engineering\n",
    "Lastly, we also outline some strategies to handle the missing values in the columns.\n",
    "\n",
    "##### Sunlight hours - sunlight_hrs\n",
    "Using the calculated sunrise and sunset timings provided in the data set, we shall <u>convert these values to the number of hours of theoretical sun exposure</u> Chicago experience over the day. This should translate to the maximum possible amount of heat absorption over Chicago, and hence affect weather conditions. \n",
    "\n",
    "\n",
    "##### Resultant Wind - ResultSpeed\n",
    "We observe that the wind direction spans between 10 - 360 degrees. There also appears to be a double peak formation in the distribution chart, namely towards the 20 - 30 degree direction, and the 210-240 degree direction. This corresponds to the direction of Lake Michigan, with winds blowing from, and towards the lake respectively. \n",
    "\n",
    "However, in the given data set, the vector sum of the wind direction and wind speeds result in a situation where winds deviating away from the north gets punished. In our case, we are interested in the wind that blow over water bodies, as these winds pick up humid air, and have a tendency to cause rainfall [[link]](https://www.weather.gov/apx/lake_breeze).\n",
    "\n",
    "Neglecting the curvature of the earth, some simple trigonometric calculations were performed to dervive a value of 13.652 degrees from the normal yields a long \"flight path\" for winds to pick up humidity over Lake Michigan. As such, the <u>resultant wind speed shall be the vector sum of the wind angle corrected to the 13.652 deg direction, and subsequently multiplied by the average wind speed of the day</u>.\n",
    "\n",
    "The function has been set up to take in different angular values that will enable us to vary the bias of the direction, which can be considered as a pseudo-hyperparameter in later stages.\n",
    "\n",
    "##### Aggregating weather phenomena\n",
    "* From the data set, we observe that there are some weather phenomena that broadly result in either wet, foggy or smoky conditions. This is important as they contribute to the amount of surface water/ suspendend moisture in the air. \n",
    "* We also know that mosquito flight is [affected by foggy conditions](https://www.sciencedaily.com/releases/2012/11/121119104522.htm) and hence should be considered in the modelling.\n",
    "\n",
    "##### Create Lag columns\n",
    "* Based on the CDC studies, we know that it takes approximately [7-10 days for an egg to develop into an adult mosquito] (https://www.cdc.gov/westnile/resources/pdfs/FS_MosquitoLifeCycle-508.pdf).\n",
    "* To account for this, we shall create lag columns of the weather conditions of <u>5 to 12 days</u>."
   ]
  },
  {
   "cell_type": "markdown",
   "metadata": {
    "cell_id": "ea28d88b275b4c12bb8d76ca476b02f9",
    "deepnote_cell_height": 100.06666564941406,
    "deepnote_cell_type": "markdown",
    "tags": []
   },
   "source": [
    "### 3.2 Building a User-Defined Function to clean Weather Data\n",
    "In this section, a function will be built to clean up the weather data as detailed in sections 2.1.1 - 2.1.4."
   ]
  },
  {
   "cell_type": "code",
   "execution_count": 528,
   "metadata": {
    "cell_id": "f3ea1a0d955940e28b77b3a55176477a",
    "deepnote_cell_height": 2600.666748046875,
    "deepnote_cell_type": "code",
    "deepnote_to_be_reexecuted": false,
    "execution_millis": 540,
    "execution_start": 1649405471579,
    "source_hash": "d12b434f",
    "tags": []
   },
   "outputs": [],
   "source": [
    "def weather_handling(df,col_headers, angle = 13.652, lag_days = None):\n",
    "    #drop columns\n",
    "    temp_df = df.drop(axis = 1, labels = col_headers)\n",
    "    \n",
    "    #merge sunrise/sunset values into station 2\n",
    "    s_rise = df[df['Station'] == 1][['Date','Sunrise','Sunset']]\n",
    "    temp_df = temp_df.drop(axis = 1, labels = ['Sunrise','Sunset'])\n",
    "    temp_df = temp_df.merge(right = s_rise, how = 'right',left_on = 'Date', right_on = 'Date')\n",
    "    \n",
    "    #Input Tavg using midpoint of Tmax/Tmin\n",
    "    def impute_Tavg(row):\n",
    "        if row['Tavg'] == 'M':\n",
    "            row['Tavg'] = int(round((row['Tmax'] + row['Tmin']) / 2))\n",
    "        else:\n",
    "            row['Tavg'] = int(row['Tavg'])\n",
    "            \n",
    "        return row['Tavg']\n",
    "    \n",
    "    temp_df['Tavg'] = temp_df.apply(impute_Tavg, axis = 1)\n",
    "    \n",
    "    #Drop Tmax, Tmin after inputation\n",
    "    #temp_df = temp_df.drop(axis = 1, labels = ['Tmax','Tmin'])\n",
    "    #temp_df['Tmax'] = (temp_df['Tmax'] - 32) * 5/9\n",
    "    #temp_df['Tmin'] = (temp_df['Tmin'] - 32) * 5/9\n",
    "    temp_df['Trange'] = temp_df['Tmax'] - temp_df['Tmin']\n",
    "    \n",
    "    #Calculate relative humidity\n",
    "    temp_df['TavgC'] = (temp_df['Tavg'] - 32) * 5/9 #convert Tavg to degC\n",
    "    temp_df['DewPointC'] = (temp_df['DewPoint'] - 32) * 5/9 #convert Tavg to degC\n",
    "    temp_df['RH'] = 100*(np.exp((17.625*temp_df['DewPointC'])/(243.04+temp_df['DewPointC']))/np.exp((17.625*temp_df['TavgC'])/(243.04+temp_df['TavgC'])))\n",
    "    temp_df = temp_df.drop(axis = 1, labels = ['TavgC','DewPointC','DewPoint'])\n",
    "    \n",
    "    #Handling PrecipTotal\n",
    "    def impute_PrecipTotal(row):\n",
    "        if 'T' in row['PrecipTotal']:\n",
    "            row['PrecipTotal'] = 0.01\n",
    "        elif 'M' in row['PrecipTotal']:\n",
    "            row['PrecipTotal'] = 0.00\n",
    "            \n",
    "        return float(row['PrecipTotal'])\n",
    "    \n",
    "    temp_df['PrecipTotal'] = temp_df.apply(impute_PrecipTotal, axis = 1)    \n",
    "    \n",
    "    # Calculate sunlight hours\n",
    "    temp_df['Sunset'] = temp_df['Sunset'].replace({'1860':'1900',\n",
    "                                                    '1760':'1800',\n",
    "                                                    '1660':'1700'})                              # replace xx60 values with xx00 of the next hour\n",
    "    temp_df['Sunrise'] = pd.to_datetime(temp_df['Sunrise'], format = '%H%M')                     # convert sunset to datetime\n",
    "    temp_df['Sunset'] = pd.to_datetime(temp_df['Sunset'], format = '%H%M')                       # convert sunset to datetime\n",
    "    temp_df['sunlight_hrs'] = (temp_df['Sunset']-temp_df['Sunrise']).astype('timedelta64[m]')    # calculate time differece, in hours\n",
    "    temp_df = temp_df.drop(axis = 1, labels = ['Sunrise','Sunset'])\n",
    "\n",
    "    \n",
    "    #Engineer a feature to recalculate the resultant speed\n",
    "    avg_speed = temp_df[temp_df['AvgSpeed'] != 'M']['AvgSpeed']                                  # filter off non-'M' values\n",
    "    avg_speed = round(avg_speed.map(float).mean(),1)                                             # identify mean wind speed\n",
    "    temp_df['AvgSpeed'] = temp_df['AvgSpeed'].replace('M', str(avg_speed))                       # replace 'M' values with avg_speed\n",
    "    temp_df['AvgSpeed'] = temp_df['AvgSpeed'].map(float)                                         # convert data type to float\n",
    "    \n",
    "    temp_df['ResultDir'] = np.cos((10*temp_df['ResultDir']-angle)/180*math.pi)                     # maximize weightage around 13.652 deg from Chicago\n",
    "    temp_df['ResultSpeed'] = temp_df['ResultDir'] * temp_df['AvgSpeed']\n",
    "    temp_df = temp_df.drop(axis = 1, labels = ['ResultDir','AvgSpeed'])\n",
    "    \n",
    "    #Run 'one-hot encoding' for CodeSum\n",
    "    codes = ['+FC','FC', 'TS', 'GR', 'RA', 'DZ', 'SN', 'SG', 'GS', 'PL',\n",
    "         'IC', 'FG+', 'FG', 'BR', 'UP', 'HZ', 'FU', 'VA', 'DU', 'DS',\n",
    "         'PO', 'SA', 'SS', 'PY', 'SQ', 'DR', 'SH', 'FZ', 'MI', 'PR',\n",
    "         'BC', 'BL', 'VC']\n",
    "    for cs in codes:\n",
    "        temp_df[cs] = temp_df['CodeSum'].apply(lambda x: 1 if cs in x.split(' ') else 0)\n",
    "        if temp_df[cs].sum() == 0:\n",
    "            temp_df = temp_df.drop(axis = 1, labels = cs)\n",
    "    temp_df = temp_df.drop(axis = 1, labels = ['CodeSum'])\n",
    "\n",
    "\n",
    "    #Aggregate weather phenomena\n",
    "    temp_df['is_wet'] = temp_df[['TS','GR','RA','DZ','SN','SQ']].sum(axis = 1)             # summarize for wet weather\n",
    "    temp_df['is_fog'] = temp_df[['FG+','FG','BR']].sum(axis = 1)                           # summarize for foggy weather\n",
    "    temp_df['is_smk'] = temp_df[['HZ','FU']].sum(axis = 1)                                 # summarize for smoky weather   \n",
    "    for col in ['is_wet','is_fog','is_smk']:\n",
    "        temp_df[col] = temp_df[col].apply(lambda x: 1 if x>0 else 0)\n",
    "    temp_df = temp_df.drop(columns = ['TS','GR','RA','DZ','SN','FG+','FG','BR','HZ','FU','SQ'])\n",
    "\n",
    "    #Lag columns\n",
    "    if lag_days == None:\n",
    "        pass\n",
    "    else:\n",
    "        weather_feat = ['Tavg', 'PrecipTotal', 'RH',\n",
    "                        'sunlight_hrs', 'ResultSpeed',\n",
    "                        'is_wet', 'is_fog', 'is_smk']\n",
    "        \n",
    "        temp_df_1 = temp_df.loc[temp_df['Station'] == 1]\n",
    "        temp_df_2 = temp_df.loc[temp_df['Station'] == 2]\n",
    "            \n",
    "        temp_df_1_feat = temp_df_1[weather_feat]\n",
    "        temp_df_2_feat = temp_df_2[weather_feat]\n",
    "        \n",
    "        temp_df_1_lagged = temp_df_1.assign(**{f'{col}_lag_{n}': \n",
    "                                               temp_df_1_feat[col].shift(n) \n",
    "                                               for n in lag_days \n",
    "                                               for col in temp_df_1_feat})\n",
    "\n",
    "        temp_df_2_lagged = temp_df_2.assign(**{f'{col}_lag_{n}': \n",
    "                                               temp_df_2_feat[col].shift(n) \n",
    "                                               for n in lag_days \n",
    "                                               for col in temp_df_2_feat})\n",
    "        \n",
    "        temp_df = pd.concat([temp_df_1_lagged, temp_df_2_lagged])\n",
    "        \n",
    "        #House Keeping\n",
    "        temp_df.dropna(axis = 0, inplace = True)\n",
    "        temp_df.sort_values(by = ['Date','Station'], axis = 0, inplace = True)\n",
    "        temp_df.reset_index(drop = True, inplace= True)\n",
    "\n",
    "    # # Groupby weather of both stations to aggregate as city level estimate\n",
    "    # temp_df = temp_df.drop(axis = 1, labels = ['Station'])\n",
    "    # measurement = temp_df[['Date','Tavg','PrecipTotal','RH','sunlight_hrs','ResultSpeed']]\n",
    "    # weather_cond = temp_df.drop(labels = ['Tavg','PrecipTotal','RH','sunlight_hrs','ResultSpeed'], axis = 1)\n",
    "    \n",
    "    # measurement = measurement.groupby(by = 'Date').mean()\n",
    "    # weather_cond = weather_cond.groupby(by = 'Date').sum()\n",
    "    # weather_cond = weather_cond - 1\n",
    "    # weather_cond = weather_cond.replace({-1: 0,\n",
    "    #                                     0: 1})\n",
    "    # temp_df = measurement.merge(weather_cond, how = 'left', on = 'Date').reset_index()\n",
    "    \n",
    "    \n",
    "    return temp_df\n",
    "\n",
    "# # # # # # # # # # # # # # # # # # # # # # # # # # # # # # # # # # # # # # # # # # # # # # # # \n",
    "# # # # # # # # # # # # # # # # # # # # # # # # # # # # # # # # # # # # # # # # # # # # # # # # \n",
    "\n",
    "\n",
    "col_to_drop = ['Depart', 'WetBulb', 'Heat','Cool',\n",
    "               'Depth','Water1','SnowFall','StnPressure',\n",
    "               'SeaLevel','ResultSpeed']\n",
    "\n",
    "\n",
    "df_weather_clean = weather_handling(df_weather_original,\n",
    "                            col_to_drop,\n",
    "                            lag_days = list(range(5,13)))"
   ]
  },
  {
   "cell_type": "code",
   "execution_count": 529,
   "metadata": {
    "cell_id": "2fe1c3a9653e44959f9ebab6017299f8",
    "deepnote_cell_height": 397.8666687011719,
    "deepnote_cell_type": "code",
    "deepnote_table_loading": false,
    "deepnote_table_state": {
     "filters": [],
     "pageIndex": 0,
     "pageSize": 10,
     "sortBy": []
    },
    "deepnote_to_be_reexecuted": false,
    "execution_millis": 283,
    "execution_start": 1649405472139,
    "source_hash": "e2a1936d",
    "tags": []
   },
   "outputs": [
    {
     "name": "stdout",
     "output_type": "stream",
     "text": [
      "(2920, 77)\n"
     ]
    },
    {
     "data": {
      "text/html": [
       "<div>\n",
       "<style scoped>\n",
       "    .dataframe tbody tr th:only-of-type {\n",
       "        vertical-align: middle;\n",
       "    }\n",
       "\n",
       "    .dataframe tbody tr th {\n",
       "        vertical-align: top;\n",
       "    }\n",
       "\n",
       "    .dataframe thead th {\n",
       "        text-align: right;\n",
       "    }\n",
       "</style>\n",
       "<table border=\"1\" class=\"dataframe\">\n",
       "  <thead>\n",
       "    <tr style=\"text-align: right;\">\n",
       "      <th></th>\n",
       "      <th>Station</th>\n",
       "      <th>Date</th>\n",
       "      <th>Tmax</th>\n",
       "      <th>Tmin</th>\n",
       "      <th>Tavg</th>\n",
       "      <th>PrecipTotal</th>\n",
       "      <th>Trange</th>\n",
       "      <th>RH</th>\n",
       "      <th>sunlight_hrs</th>\n",
       "      <th>ResultSpeed</th>\n",
       "      <th>is_wet</th>\n",
       "      <th>is_fog</th>\n",
       "      <th>is_smk</th>\n",
       "      <th>Tavg_lag_5</th>\n",
       "      <th>PrecipTotal_lag_5</th>\n",
       "      <th>RH_lag_5</th>\n",
       "      <th>sunlight_hrs_lag_5</th>\n",
       "      <th>ResultSpeed_lag_5</th>\n",
       "      <th>is_wet_lag_5</th>\n",
       "      <th>is_fog_lag_5</th>\n",
       "      <th>is_smk_lag_5</th>\n",
       "      <th>Tavg_lag_6</th>\n",
       "      <th>PrecipTotal_lag_6</th>\n",
       "      <th>RH_lag_6</th>\n",
       "      <th>sunlight_hrs_lag_6</th>\n",
       "      <th>...</th>\n",
       "      <th>is_smk_lag_9</th>\n",
       "      <th>Tavg_lag_10</th>\n",
       "      <th>PrecipTotal_lag_10</th>\n",
       "      <th>RH_lag_10</th>\n",
       "      <th>sunlight_hrs_lag_10</th>\n",
       "      <th>ResultSpeed_lag_10</th>\n",
       "      <th>is_wet_lag_10</th>\n",
       "      <th>is_fog_lag_10</th>\n",
       "      <th>is_smk_lag_10</th>\n",
       "      <th>Tavg_lag_11</th>\n",
       "      <th>PrecipTotal_lag_11</th>\n",
       "      <th>RH_lag_11</th>\n",
       "      <th>sunlight_hrs_lag_11</th>\n",
       "      <th>ResultSpeed_lag_11</th>\n",
       "      <th>is_wet_lag_11</th>\n",
       "      <th>is_fog_lag_11</th>\n",
       "      <th>is_smk_lag_11</th>\n",
       "      <th>Tavg_lag_12</th>\n",
       "      <th>PrecipTotal_lag_12</th>\n",
       "      <th>RH_lag_12</th>\n",
       "      <th>sunlight_hrs_lag_12</th>\n",
       "      <th>ResultSpeed_lag_12</th>\n",
       "      <th>is_wet_lag_12</th>\n",
       "      <th>is_fog_lag_12</th>\n",
       "      <th>is_smk_lag_12</th>\n",
       "    </tr>\n",
       "  </thead>\n",
       "  <tbody>\n",
       "    <tr>\n",
       "      <th>0</th>\n",
       "      <td>1</td>\n",
       "      <td>2007-05-13</td>\n",
       "      <td>69</td>\n",
       "      <td>43</td>\n",
       "      <td>56</td>\n",
       "      <td>0.0</td>\n",
       "      <td>26</td>\n",
       "      <td>41.626401</td>\n",
       "      <td>868.0</td>\n",
       "      <td>-4.800774</td>\n",
       "      <td>0</td>\n",
       "      <td>0</td>\n",
       "      <td>0</td>\n",
       "      <td>68.0</td>\n",
       "      <td>0.00</td>\n",
       "      <td>70.372509</td>\n",
       "      <td>858.0</td>\n",
       "      <td>-0.641288</td>\n",
       "      <td>0.0</td>\n",
       "      <td>1.0</td>\n",
       "      <td>0.0</td>\n",
       "      <td>65.0</td>\n",
       "      <td>0.01</td>\n",
       "      <td>41.437951</td>\n",
       "      <td>855.0</td>\n",
       "      <td>...</td>\n",
       "      <td>0.0</td>\n",
       "      <td>56.0</td>\n",
       "      <td>0.00</td>\n",
       "      <td>54.874919</td>\n",
       "      <td>845.0</td>\n",
       "      <td>6.594352</td>\n",
       "      <td>0.0</td>\n",
       "      <td>0.0</td>\n",
       "      <td>0.0</td>\n",
       "      <td>51.0</td>\n",
       "      <td>0.0</td>\n",
       "      <td>71.195808</td>\n",
       "      <td>843.0</td>\n",
       "      <td>12.007940</td>\n",
       "      <td>0.0</td>\n",
       "      <td>1.0</td>\n",
       "      <td>0.0</td>\n",
       "      <td>67.0</td>\n",
       "      <td>0.0</td>\n",
       "      <td>56.438576</td>\n",
       "      <td>841.0</td>\n",
       "      <td>-2.171422</td>\n",
       "      <td>0.0</td>\n",
       "      <td>0.0</td>\n",
       "      <td>0.0</td>\n",
       "    </tr>\n",
       "    <tr>\n",
       "      <th>1</th>\n",
       "      <td>2</td>\n",
       "      <td>2007-05-13</td>\n",
       "      <td>69</td>\n",
       "      <td>44</td>\n",
       "      <td>57</td>\n",
       "      <td>0.0</td>\n",
       "      <td>25</td>\n",
       "      <td>38.567494</td>\n",
       "      <td>868.0</td>\n",
       "      <td>-0.840309</td>\n",
       "      <td>0</td>\n",
       "      <td>0</td>\n",
       "      <td>0</td>\n",
       "      <td>70.0</td>\n",
       "      <td>0.01</td>\n",
       "      <td>63.391531</td>\n",
       "      <td>858.0</td>\n",
       "      <td>2.166375</td>\n",
       "      <td>0.0</td>\n",
       "      <td>0.0</td>\n",
       "      <td>1.0</td>\n",
       "      <td>67.0</td>\n",
       "      <td>0.00</td>\n",
       "      <td>35.770152</td>\n",
       "      <td>855.0</td>\n",
       "      <td>...</td>\n",
       "      <td>0.0</td>\n",
       "      <td>58.0</td>\n",
       "      <td>0.00</td>\n",
       "      <td>51.057657</td>\n",
       "      <td>845.0</td>\n",
       "      <td>9.111650</td>\n",
       "      <td>0.0</td>\n",
       "      <td>0.0</td>\n",
       "      <td>1.0</td>\n",
       "      <td>52.0</td>\n",
       "      <td>0.0</td>\n",
       "      <td>68.614962</td>\n",
       "      <td>843.0</td>\n",
       "      <td>13.317840</td>\n",
       "      <td>0.0</td>\n",
       "      <td>1.0</td>\n",
       "      <td>1.0</td>\n",
       "      <td>68.0</td>\n",
       "      <td>0.0</td>\n",
       "      <td>54.526426</td>\n",
       "      <td>841.0</td>\n",
       "      <td>-5.319814</td>\n",
       "      <td>0.0</td>\n",
       "      <td>0.0</td>\n",
       "      <td>0.0</td>\n",
       "    </tr>\n",
       "    <tr>\n",
       "      <th>2</th>\n",
       "      <td>1</td>\n",
       "      <td>2007-05-14</td>\n",
       "      <td>90</td>\n",
       "      <td>56</td>\n",
       "      <td>73</td>\n",
       "      <td>0.0</td>\n",
       "      <td>34</td>\n",
       "      <td>39.614057</td>\n",
       "      <td>870.0</td>\n",
       "      <td>-16.600558</td>\n",
       "      <td>0</td>\n",
       "      <td>0</td>\n",
       "      <td>0</td>\n",
       "      <td>69.0</td>\n",
       "      <td>0.13</td>\n",
       "      <td>70.477825</td>\n",
       "      <td>860.0</td>\n",
       "      <td>1.463350</td>\n",
       "      <td>0.0</td>\n",
       "      <td>1.0</td>\n",
       "      <td>1.0</td>\n",
       "      <td>68.0</td>\n",
       "      <td>0.00</td>\n",
       "      <td>70.372509</td>\n",
       "      <td>858.0</td>\n",
       "      <td>...</td>\n",
       "      <td>0.0</td>\n",
       "      <td>58.0</td>\n",
       "      <td>0.01</td>\n",
       "      <td>53.075889</td>\n",
       "      <td>848.0</td>\n",
       "      <td>4.332750</td>\n",
       "      <td>1.0</td>\n",
       "      <td>0.0</td>\n",
       "      <td>0.0</td>\n",
       "      <td>56.0</td>\n",
       "      <td>0.0</td>\n",
       "      <td>54.874919</td>\n",
       "      <td>845.0</td>\n",
       "      <td>6.594352</td>\n",
       "      <td>0.0</td>\n",
       "      <td>0.0</td>\n",
       "      <td>0.0</td>\n",
       "      <td>51.0</td>\n",
       "      <td>0.0</td>\n",
       "      <td>71.195808</td>\n",
       "      <td>843.0</td>\n",
       "      <td>12.007940</td>\n",
       "      <td>0.0</td>\n",
       "      <td>1.0</td>\n",
       "      <td>0.0</td>\n",
       "    </tr>\n",
       "  </tbody>\n",
       "</table>\n",
       "<p>3 rows × 77 columns</p>\n",
       "</div>"
      ],
      "text/plain": [
       "   Station       Date  Tmax  Tmin  Tavg  PrecipTotal  Trange         RH  \\\n",
       "0        1 2007-05-13    69    43    56          0.0      26  41.626401   \n",
       "1        2 2007-05-13    69    44    57          0.0      25  38.567494   \n",
       "2        1 2007-05-14    90    56    73          0.0      34  39.614057   \n",
       "\n",
       "   sunlight_hrs  ResultSpeed  is_wet  is_fog  is_smk  Tavg_lag_5  \\\n",
       "0         868.0    -4.800774       0       0       0        68.0   \n",
       "1         868.0    -0.840309       0       0       0        70.0   \n",
       "2         870.0   -16.600558       0       0       0        69.0   \n",
       "\n",
       "   PrecipTotal_lag_5   RH_lag_5  sunlight_hrs_lag_5  ResultSpeed_lag_5  \\\n",
       "0               0.00  70.372509               858.0          -0.641288   \n",
       "1               0.01  63.391531               858.0           2.166375   \n",
       "2               0.13  70.477825               860.0           1.463350   \n",
       "\n",
       "   is_wet_lag_5  is_fog_lag_5  is_smk_lag_5  Tavg_lag_6  PrecipTotal_lag_6  \\\n",
       "0           0.0           1.0           0.0        65.0               0.01   \n",
       "1           0.0           0.0           1.0        67.0               0.00   \n",
       "2           0.0           1.0           1.0        68.0               0.00   \n",
       "\n",
       "    RH_lag_6  sunlight_hrs_lag_6  ...  is_smk_lag_9  Tavg_lag_10  \\\n",
       "0  41.437951               855.0  ...           0.0         56.0   \n",
       "1  35.770152               855.0  ...           0.0         58.0   \n",
       "2  70.372509               858.0  ...           0.0         58.0   \n",
       "\n",
       "   PrecipTotal_lag_10  RH_lag_10  sunlight_hrs_lag_10  ResultSpeed_lag_10  \\\n",
       "0                0.00  54.874919                845.0            6.594352   \n",
       "1                0.00  51.057657                845.0            9.111650   \n",
       "2                0.01  53.075889                848.0            4.332750   \n",
       "\n",
       "   is_wet_lag_10  is_fog_lag_10  is_smk_lag_10  Tavg_lag_11  \\\n",
       "0            0.0            0.0            0.0         51.0   \n",
       "1            0.0            0.0            1.0         52.0   \n",
       "2            1.0            0.0            0.0         56.0   \n",
       "\n",
       "   PrecipTotal_lag_11  RH_lag_11  sunlight_hrs_lag_11  ResultSpeed_lag_11  \\\n",
       "0                 0.0  71.195808                843.0           12.007940   \n",
       "1                 0.0  68.614962                843.0           13.317840   \n",
       "2                 0.0  54.874919                845.0            6.594352   \n",
       "\n",
       "   is_wet_lag_11  is_fog_lag_11  is_smk_lag_11  Tavg_lag_12  \\\n",
       "0            0.0            1.0            0.0         67.0   \n",
       "1            0.0            1.0            1.0         68.0   \n",
       "2            0.0            0.0            0.0         51.0   \n",
       "\n",
       "   PrecipTotal_lag_12  RH_lag_12  sunlight_hrs_lag_12  ResultSpeed_lag_12  \\\n",
       "0                 0.0  56.438576                841.0           -2.171422   \n",
       "1                 0.0  54.526426                841.0           -5.319814   \n",
       "2                 0.0  71.195808                843.0           12.007940   \n",
       "\n",
       "   is_wet_lag_12  is_fog_lag_12  is_smk_lag_12  \n",
       "0            0.0            0.0            0.0  \n",
       "1            0.0            0.0            0.0  \n",
       "2            0.0            1.0            0.0  \n",
       "\n",
       "[3 rows x 77 columns]"
      ]
     },
     "execution_count": 529,
     "metadata": {},
     "output_type": "execute_result"
    }
   ],
   "source": [
    "print(df_weather_clean.shape)\n",
    "df_weather_clean.head(3)"
   ]
  },
  {
   "cell_type": "markdown",
   "metadata": {
    "cell_id": "63f0c41f378d42789c7f0f8da1e71c1f",
    "deepnote_cell_height": 81.66667175292969,
    "deepnote_cell_type": "markdown",
    "tags": []
   },
   "source": [
    "# 4 Merge Train, Test, with Weather"
   ]
  },
  {
   "cell_type": "markdown",
   "metadata": {
    "cell_id": "ec7681e4b3bc44ea8fd446df5b4a6c03",
    "deepnote_cell_height": 74.46665954589844,
    "deepnote_cell_type": "markdown",
    "deepnote_to_be_reexecuted": false,
    "execution_millis": 9,
    "execution_start": 1648563127244,
    "source_hash": "b623e53d",
    "tags": []
   },
   "source": [
    "We will merge the train and test data with the weather data. As there are 2 weather stations, for each row in the train and test data, we will calculate the distance between trap and both weather station, the weather data for the particular row will come from the weather station closer to the trap."
   ]
  },
  {
   "cell_type": "code",
   "execution_count": 530,
   "metadata": {
    "cell_id": "62d489d04c6a4fd08dcf0031f9a87684",
    "deepnote_cell_height": 368.66668701171875,
    "deepnote_cell_type": "code",
    "deepnote_to_be_reexecuted": false,
    "execution_millis": 235124,
    "execution_start": 1649405472424,
    "owner_user_id": "8cd12bb5-99e6-41bd-980c-bf1f12808dc1",
    "source_hash": "d9743a79",
    "tags": []
   },
   "outputs": [],
   "source": [
    "# Function to find the weather nearest station from a trap\n",
    "def nearest_station(row):\n",
    "    trap_coord = (row['Latitude'], row['Longitude'])\n",
    "    station1_coord = (41.995, -87.933)\n",
    "    station2_coord = (41.786, -87.752)\n",
    "    distance_to_1 = distance.distance(trap_coord, station1_coord).km\n",
    "    distance_to_2 = distance.distance(trap_coord, station2_coord).km\n",
    "    \n",
    "    if distance_to_1 > distance_to_2:\n",
    "        row['NearestStation'] = int(2)\n",
    "    else:\n",
    "        row['NearestStation'] = int(1)\n",
    "    return row\n",
    "    \n",
    "# \n",
    "df_train_clean = df_train_clean.apply(nearest_station, axis = 1)\n",
    "df_test_clean = df_test_clean.apply(nearest_station, axis = 1)"
   ]
  },
  {
   "cell_type": "code",
   "execution_count": 531,
   "metadata": {
    "cell_id": "8c1d60ee287547c9a8c509bf32e4a8fd",
    "deepnote_cell_height": 117.5,
    "deepnote_cell_type": "code",
    "deepnote_output_heights": [
     21
    ],
    "deepnote_to_be_reexecuted": false,
    "execution_millis": 2,
    "execution_start": 1649405707548,
    "source_hash": "2bf30ff2",
    "tags": []
   },
   "outputs": [
    {
     "data": {
      "text/plain": [
       "(116293, 16)"
      ]
     },
     "execution_count": 531,
     "metadata": {},
     "output_type": "execute_result"
    }
   ],
   "source": [
    "df_test_clean.shape"
   ]
  },
  {
   "cell_type": "code",
   "execution_count": 532,
   "metadata": {
    "cell_id": "5ad3b36062bb42a5afbd58825ba08b1e",
    "deepnote_cell_height": 224.6666717529297,
    "deepnote_cell_type": "code",
    "deepnote_to_be_reexecuted": false,
    "execution_millis": 159,
    "execution_start": 1649405707549,
    "source_hash": "34c34e9b",
    "tags": []
   },
   "outputs": [],
   "source": [
    "# Merge train with weather\n",
    "df_train_weather_clean = df_train_clean.merge(right = df_weather_clean, \n",
    "                                              how = 'inner', left_on = ['Date', 'NearestStation'], \n",
    "                                              right_on = ['Date', 'Station']).drop(['Block', 'Address', 'Street', 'AddressNumberAndStreet', 'AddressAccuracy'], axis = 1)\n",
    "\n",
    "# Merge test with weather\n",
    "df_test_weather_clean = df_test_clean.merge(right = df_weather_clean, \n",
    "                                              how = 'inner', left_on = ['Date', 'NearestStation'], \n",
    "                                              right_on = ['Date', 'Station']).drop(['Block', 'Address', 'Street', 'AddressNumberAndStreet', 'AddressAccuracy'], axis = 1)                                           "
   ]
  },
  {
   "cell_type": "code",
   "execution_count": 533,
   "metadata": {
    "cell_id": "98922b4477d1474a8caf39d580d1e09a",
    "deepnote_cell_height": 117.5,
    "deepnote_cell_type": "code",
    "deepnote_output_heights": [
     21
    ],
    "deepnote_to_be_reexecuted": false,
    "execution_millis": 23,
    "execution_start": 1649405707718,
    "source_hash": "86b6edcf",
    "tags": []
   },
   "outputs": [
    {
     "data": {
      "text/plain": [
       "(8475, 89)"
      ]
     },
     "execution_count": 533,
     "metadata": {},
     "output_type": "execute_result"
    }
   ],
   "source": [
    "df_train_weather_clean.shape"
   ]
  },
  {
   "cell_type": "code",
   "execution_count": 534,
   "metadata": {
    "cell_id": "0a90be0af3ff4e5bb440772a420bbd0e",
    "deepnote_cell_height": 117.5,
    "deepnote_cell_type": "code",
    "deepnote_output_heights": [
     21
    ],
    "deepnote_to_be_reexecuted": false,
    "execution_millis": 9,
    "execution_start": 1649405707726,
    "source_hash": "cbfcbeb7",
    "tags": []
   },
   "outputs": [
    {
     "data": {
      "text/plain": [
       "(116293, 87)"
      ]
     },
     "execution_count": 534,
     "metadata": {},
     "output_type": "execute_result"
    }
   ],
   "source": [
    "df_test_weather_clean.shape"
   ]
  },
  {
   "cell_type": "code",
   "execution_count": 535,
   "metadata": {
    "cell_id": "486bbad97e2044f0acc6199b82dfa953",
    "deepnote_cell_height": 497.8666687011719,
    "deepnote_cell_type": "code",
    "deepnote_to_be_reexecuted": false,
    "execution_millis": 1299,
    "execution_start": 1649405707735,
    "source_hash": "a306e7ef",
    "tags": []
   },
   "outputs": [
    {
     "name": "stdout",
     "output_type": "stream",
     "text": [
      "(8475, 89)\n"
     ]
    },
    {
     "data": {
      "text/html": [
       "<div>\n",
       "<style scoped>\n",
       "    .dataframe tbody tr th:only-of-type {\n",
       "        vertical-align: middle;\n",
       "    }\n",
       "\n",
       "    .dataframe tbody tr th {\n",
       "        vertical-align: top;\n",
       "    }\n",
       "\n",
       "    .dataframe thead th {\n",
       "        text-align: right;\n",
       "    }\n",
       "</style>\n",
       "<table border=\"1\" class=\"dataframe\">\n",
       "  <thead>\n",
       "    <tr style=\"text-align: right;\">\n",
       "      <th></th>\n",
       "      <th>Date</th>\n",
       "      <th>Trap</th>\n",
       "      <th>Species</th>\n",
       "      <th>Latitude</th>\n",
       "      <th>Longitude</th>\n",
       "      <th>NumMosquitos</th>\n",
       "      <th>WnvPresent</th>\n",
       "      <th>Year</th>\n",
       "      <th>Month</th>\n",
       "      <th>Day</th>\n",
       "      <th>Day of Week</th>\n",
       "      <th>geometry</th>\n",
       "      <th>NearestStation</th>\n",
       "      <th>Station</th>\n",
       "      <th>Tmax</th>\n",
       "      <th>Tmin</th>\n",
       "      <th>Tavg</th>\n",
       "      <th>PrecipTotal</th>\n",
       "      <th>Trange</th>\n",
       "      <th>RH</th>\n",
       "      <th>sunlight_hrs</th>\n",
       "      <th>ResultSpeed</th>\n",
       "      <th>is_wet</th>\n",
       "      <th>is_fog</th>\n",
       "      <th>is_smk</th>\n",
       "      <th>...</th>\n",
       "      <th>is_smk_lag_9</th>\n",
       "      <th>Tavg_lag_10</th>\n",
       "      <th>PrecipTotal_lag_10</th>\n",
       "      <th>RH_lag_10</th>\n",
       "      <th>sunlight_hrs_lag_10</th>\n",
       "      <th>ResultSpeed_lag_10</th>\n",
       "      <th>is_wet_lag_10</th>\n",
       "      <th>is_fog_lag_10</th>\n",
       "      <th>is_smk_lag_10</th>\n",
       "      <th>Tavg_lag_11</th>\n",
       "      <th>PrecipTotal_lag_11</th>\n",
       "      <th>RH_lag_11</th>\n",
       "      <th>sunlight_hrs_lag_11</th>\n",
       "      <th>ResultSpeed_lag_11</th>\n",
       "      <th>is_wet_lag_11</th>\n",
       "      <th>is_fog_lag_11</th>\n",
       "      <th>is_smk_lag_11</th>\n",
       "      <th>Tavg_lag_12</th>\n",
       "      <th>PrecipTotal_lag_12</th>\n",
       "      <th>RH_lag_12</th>\n",
       "      <th>sunlight_hrs_lag_12</th>\n",
       "      <th>ResultSpeed_lag_12</th>\n",
       "      <th>is_wet_lag_12</th>\n",
       "      <th>is_fog_lag_12</th>\n",
       "      <th>is_smk_lag_12</th>\n",
       "    </tr>\n",
       "  </thead>\n",
       "  <tbody>\n",
       "    <tr>\n",
       "      <th>0</th>\n",
       "      <td>2007-05-29</td>\n",
       "      <td>T002</td>\n",
       "      <td>CULEX PIPIENS/RESTUANS</td>\n",
       "      <td>41.954690</td>\n",
       "      <td>-87.800991</td>\n",
       "      <td>1</td>\n",
       "      <td>0</td>\n",
       "      <td>2007</td>\n",
       "      <td>5</td>\n",
       "      <td>29</td>\n",
       "      <td>1</td>\n",
       "      <td>POINT (-87.800991 41.95469)</td>\n",
       "      <td>1</td>\n",
       "      <td>1</td>\n",
       "      <td>88</td>\n",
       "      <td>60</td>\n",
       "      <td>74</td>\n",
       "      <td>0.0</td>\n",
       "      <td>28</td>\n",
       "      <td>57.398449</td>\n",
       "      <td>896.0</td>\n",
       "      <td>-6.316357</td>\n",
       "      <td>0</td>\n",
       "      <td>1</td>\n",
       "      <td>1</td>\n",
       "      <td>...</td>\n",
       "      <td>0.0</td>\n",
       "      <td>68.0</td>\n",
       "      <td>0.0</td>\n",
       "      <td>34.558252</td>\n",
       "      <td>880.0</td>\n",
       "      <td>-7.869152</td>\n",
       "      <td>0.0</td>\n",
       "      <td>0.0</td>\n",
       "      <td>0.0</td>\n",
       "      <td>57.0</td>\n",
       "      <td>0.0</td>\n",
       "      <td>35.568597</td>\n",
       "      <td>878.0</td>\n",
       "      <td>-4.156104</td>\n",
       "      <td>0.0</td>\n",
       "      <td>0.0</td>\n",
       "      <td>0.0</td>\n",
       "      <td>53.0</td>\n",
       "      <td>0.0</td>\n",
       "      <td>44.606027</td>\n",
       "      <td>876.0</td>\n",
       "      <td>10.843139</td>\n",
       "      <td>0.0</td>\n",
       "      <td>0.0</td>\n",
       "      <td>0.0</td>\n",
       "    </tr>\n",
       "    <tr>\n",
       "      <th>1</th>\n",
       "      <td>2007-05-29</td>\n",
       "      <td>T002</td>\n",
       "      <td>CULEX RESTUANS</td>\n",
       "      <td>41.954690</td>\n",
       "      <td>-87.800991</td>\n",
       "      <td>1</td>\n",
       "      <td>0</td>\n",
       "      <td>2007</td>\n",
       "      <td>5</td>\n",
       "      <td>29</td>\n",
       "      <td>1</td>\n",
       "      <td>POINT (-87.800991 41.95469)</td>\n",
       "      <td>1</td>\n",
       "      <td>1</td>\n",
       "      <td>88</td>\n",
       "      <td>60</td>\n",
       "      <td>74</td>\n",
       "      <td>0.0</td>\n",
       "      <td>28</td>\n",
       "      <td>57.398449</td>\n",
       "      <td>896.0</td>\n",
       "      <td>-6.316357</td>\n",
       "      <td>0</td>\n",
       "      <td>1</td>\n",
       "      <td>1</td>\n",
       "      <td>...</td>\n",
       "      <td>0.0</td>\n",
       "      <td>68.0</td>\n",
       "      <td>0.0</td>\n",
       "      <td>34.558252</td>\n",
       "      <td>880.0</td>\n",
       "      <td>-7.869152</td>\n",
       "      <td>0.0</td>\n",
       "      <td>0.0</td>\n",
       "      <td>0.0</td>\n",
       "      <td>57.0</td>\n",
       "      <td>0.0</td>\n",
       "      <td>35.568597</td>\n",
       "      <td>878.0</td>\n",
       "      <td>-4.156104</td>\n",
       "      <td>0.0</td>\n",
       "      <td>0.0</td>\n",
       "      <td>0.0</td>\n",
       "      <td>53.0</td>\n",
       "      <td>0.0</td>\n",
       "      <td>44.606027</td>\n",
       "      <td>876.0</td>\n",
       "      <td>10.843139</td>\n",
       "      <td>0.0</td>\n",
       "      <td>0.0</td>\n",
       "      <td>0.0</td>\n",
       "    </tr>\n",
       "    <tr>\n",
       "      <th>2</th>\n",
       "      <td>2007-05-29</td>\n",
       "      <td>T007</td>\n",
       "      <td>CULEX RESTUANS</td>\n",
       "      <td>41.994991</td>\n",
       "      <td>-87.769279</td>\n",
       "      <td>1</td>\n",
       "      <td>0</td>\n",
       "      <td>2007</td>\n",
       "      <td>5</td>\n",
       "      <td>29</td>\n",
       "      <td>1</td>\n",
       "      <td>POINT (-87.769279 41.994991)</td>\n",
       "      <td>1</td>\n",
       "      <td>1</td>\n",
       "      <td>88</td>\n",
       "      <td>60</td>\n",
       "      <td>74</td>\n",
       "      <td>0.0</td>\n",
       "      <td>28</td>\n",
       "      <td>57.398449</td>\n",
       "      <td>896.0</td>\n",
       "      <td>-6.316357</td>\n",
       "      <td>0</td>\n",
       "      <td>1</td>\n",
       "      <td>1</td>\n",
       "      <td>...</td>\n",
       "      <td>0.0</td>\n",
       "      <td>68.0</td>\n",
       "      <td>0.0</td>\n",
       "      <td>34.558252</td>\n",
       "      <td>880.0</td>\n",
       "      <td>-7.869152</td>\n",
       "      <td>0.0</td>\n",
       "      <td>0.0</td>\n",
       "      <td>0.0</td>\n",
       "      <td>57.0</td>\n",
       "      <td>0.0</td>\n",
       "      <td>35.568597</td>\n",
       "      <td>878.0</td>\n",
       "      <td>-4.156104</td>\n",
       "      <td>0.0</td>\n",
       "      <td>0.0</td>\n",
       "      <td>0.0</td>\n",
       "      <td>53.0</td>\n",
       "      <td>0.0</td>\n",
       "      <td>44.606027</td>\n",
       "      <td>876.0</td>\n",
       "      <td>10.843139</td>\n",
       "      <td>0.0</td>\n",
       "      <td>0.0</td>\n",
       "      <td>0.0</td>\n",
       "    </tr>\n",
       "    <tr>\n",
       "      <th>3</th>\n",
       "      <td>2007-05-29</td>\n",
       "      <td>T015</td>\n",
       "      <td>CULEX PIPIENS/RESTUANS</td>\n",
       "      <td>41.974089</td>\n",
       "      <td>-87.824812</td>\n",
       "      <td>1</td>\n",
       "      <td>0</td>\n",
       "      <td>2007</td>\n",
       "      <td>5</td>\n",
       "      <td>29</td>\n",
       "      <td>1</td>\n",
       "      <td>POINT (-87.824812 41.974089)</td>\n",
       "      <td>1</td>\n",
       "      <td>1</td>\n",
       "      <td>88</td>\n",
       "      <td>60</td>\n",
       "      <td>74</td>\n",
       "      <td>0.0</td>\n",
       "      <td>28</td>\n",
       "      <td>57.398449</td>\n",
       "      <td>896.0</td>\n",
       "      <td>-6.316357</td>\n",
       "      <td>0</td>\n",
       "      <td>1</td>\n",
       "      <td>1</td>\n",
       "      <td>...</td>\n",
       "      <td>0.0</td>\n",
       "      <td>68.0</td>\n",
       "      <td>0.0</td>\n",
       "      <td>34.558252</td>\n",
       "      <td>880.0</td>\n",
       "      <td>-7.869152</td>\n",
       "      <td>0.0</td>\n",
       "      <td>0.0</td>\n",
       "      <td>0.0</td>\n",
       "      <td>57.0</td>\n",
       "      <td>0.0</td>\n",
       "      <td>35.568597</td>\n",
       "      <td>878.0</td>\n",
       "      <td>-4.156104</td>\n",
       "      <td>0.0</td>\n",
       "      <td>0.0</td>\n",
       "      <td>0.0</td>\n",
       "      <td>53.0</td>\n",
       "      <td>0.0</td>\n",
       "      <td>44.606027</td>\n",
       "      <td>876.0</td>\n",
       "      <td>10.843139</td>\n",
       "      <td>0.0</td>\n",
       "      <td>0.0</td>\n",
       "      <td>0.0</td>\n",
       "    </tr>\n",
       "    <tr>\n",
       "      <th>4</th>\n",
       "      <td>2007-05-29</td>\n",
       "      <td>T015</td>\n",
       "      <td>CULEX RESTUANS</td>\n",
       "      <td>41.974089</td>\n",
       "      <td>-87.824812</td>\n",
       "      <td>4</td>\n",
       "      <td>0</td>\n",
       "      <td>2007</td>\n",
       "      <td>5</td>\n",
       "      <td>29</td>\n",
       "      <td>1</td>\n",
       "      <td>POINT (-87.824812 41.974089)</td>\n",
       "      <td>1</td>\n",
       "      <td>1</td>\n",
       "      <td>88</td>\n",
       "      <td>60</td>\n",
       "      <td>74</td>\n",
       "      <td>0.0</td>\n",
       "      <td>28</td>\n",
       "      <td>57.398449</td>\n",
       "      <td>896.0</td>\n",
       "      <td>-6.316357</td>\n",
       "      <td>0</td>\n",
       "      <td>1</td>\n",
       "      <td>1</td>\n",
       "      <td>...</td>\n",
       "      <td>0.0</td>\n",
       "      <td>68.0</td>\n",
       "      <td>0.0</td>\n",
       "      <td>34.558252</td>\n",
       "      <td>880.0</td>\n",
       "      <td>-7.869152</td>\n",
       "      <td>0.0</td>\n",
       "      <td>0.0</td>\n",
       "      <td>0.0</td>\n",
       "      <td>57.0</td>\n",
       "      <td>0.0</td>\n",
       "      <td>35.568597</td>\n",
       "      <td>878.0</td>\n",
       "      <td>-4.156104</td>\n",
       "      <td>0.0</td>\n",
       "      <td>0.0</td>\n",
       "      <td>0.0</td>\n",
       "      <td>53.0</td>\n",
       "      <td>0.0</td>\n",
       "      <td>44.606027</td>\n",
       "      <td>876.0</td>\n",
       "      <td>10.843139</td>\n",
       "      <td>0.0</td>\n",
       "      <td>0.0</td>\n",
       "      <td>0.0</td>\n",
       "    </tr>\n",
       "  </tbody>\n",
       "</table>\n",
       "<p>5 rows × 89 columns</p>\n",
       "</div>"
      ],
      "text/plain": [
       "        Date  Trap                 Species   Latitude  Longitude  \\\n",
       "0 2007-05-29  T002  CULEX PIPIENS/RESTUANS  41.954690 -87.800991   \n",
       "1 2007-05-29  T002          CULEX RESTUANS  41.954690 -87.800991   \n",
       "2 2007-05-29  T007          CULEX RESTUANS  41.994991 -87.769279   \n",
       "3 2007-05-29  T015  CULEX PIPIENS/RESTUANS  41.974089 -87.824812   \n",
       "4 2007-05-29  T015          CULEX RESTUANS  41.974089 -87.824812   \n",
       "\n",
       "   NumMosquitos  WnvPresent  Year  Month  Day  Day of Week  \\\n",
       "0             1           0  2007      5   29            1   \n",
       "1             1           0  2007      5   29            1   \n",
       "2             1           0  2007      5   29            1   \n",
       "3             1           0  2007      5   29            1   \n",
       "4             4           0  2007      5   29            1   \n",
       "\n",
       "                       geometry  NearestStation  Station  Tmax  Tmin  Tavg  \\\n",
       "0   POINT (-87.800991 41.95469)               1        1    88    60    74   \n",
       "1   POINT (-87.800991 41.95469)               1        1    88    60    74   \n",
       "2  POINT (-87.769279 41.994991)               1        1    88    60    74   \n",
       "3  POINT (-87.824812 41.974089)               1        1    88    60    74   \n",
       "4  POINT (-87.824812 41.974089)               1        1    88    60    74   \n",
       "\n",
       "   PrecipTotal  Trange         RH  sunlight_hrs  ResultSpeed  is_wet  is_fog  \\\n",
       "0          0.0      28  57.398449         896.0    -6.316357       0       1   \n",
       "1          0.0      28  57.398449         896.0    -6.316357       0       1   \n",
       "2          0.0      28  57.398449         896.0    -6.316357       0       1   \n",
       "3          0.0      28  57.398449         896.0    -6.316357       0       1   \n",
       "4          0.0      28  57.398449         896.0    -6.316357       0       1   \n",
       "\n",
       "   is_smk  ...  is_smk_lag_9  Tavg_lag_10  PrecipTotal_lag_10  RH_lag_10  \\\n",
       "0       1  ...           0.0         68.0                 0.0  34.558252   \n",
       "1       1  ...           0.0         68.0                 0.0  34.558252   \n",
       "2       1  ...           0.0         68.0                 0.0  34.558252   \n",
       "3       1  ...           0.0         68.0                 0.0  34.558252   \n",
       "4       1  ...           0.0         68.0                 0.0  34.558252   \n",
       "\n",
       "   sunlight_hrs_lag_10  ResultSpeed_lag_10  is_wet_lag_10  is_fog_lag_10  \\\n",
       "0                880.0           -7.869152            0.0            0.0   \n",
       "1                880.0           -7.869152            0.0            0.0   \n",
       "2                880.0           -7.869152            0.0            0.0   \n",
       "3                880.0           -7.869152            0.0            0.0   \n",
       "4                880.0           -7.869152            0.0            0.0   \n",
       "\n",
       "   is_smk_lag_10  Tavg_lag_11  PrecipTotal_lag_11  RH_lag_11  \\\n",
       "0            0.0         57.0                 0.0  35.568597   \n",
       "1            0.0         57.0                 0.0  35.568597   \n",
       "2            0.0         57.0                 0.0  35.568597   \n",
       "3            0.0         57.0                 0.0  35.568597   \n",
       "4            0.0         57.0                 0.0  35.568597   \n",
       "\n",
       "   sunlight_hrs_lag_11  ResultSpeed_lag_11  is_wet_lag_11  is_fog_lag_11  \\\n",
       "0                878.0           -4.156104            0.0            0.0   \n",
       "1                878.0           -4.156104            0.0            0.0   \n",
       "2                878.0           -4.156104            0.0            0.0   \n",
       "3                878.0           -4.156104            0.0            0.0   \n",
       "4                878.0           -4.156104            0.0            0.0   \n",
       "\n",
       "   is_smk_lag_11  Tavg_lag_12  PrecipTotal_lag_12  RH_lag_12  \\\n",
       "0            0.0         53.0                 0.0  44.606027   \n",
       "1            0.0         53.0                 0.0  44.606027   \n",
       "2            0.0         53.0                 0.0  44.606027   \n",
       "3            0.0         53.0                 0.0  44.606027   \n",
       "4            0.0         53.0                 0.0  44.606027   \n",
       "\n",
       "   sunlight_hrs_lag_12  ResultSpeed_lag_12  is_wet_lag_12  is_fog_lag_12  \\\n",
       "0                876.0           10.843139            0.0            0.0   \n",
       "1                876.0           10.843139            0.0            0.0   \n",
       "2                876.0           10.843139            0.0            0.0   \n",
       "3                876.0           10.843139            0.0            0.0   \n",
       "4                876.0           10.843139            0.0            0.0   \n",
       "\n",
       "   is_smk_lag_12  \n",
       "0            0.0  \n",
       "1            0.0  \n",
       "2            0.0  \n",
       "3            0.0  \n",
       "4            0.0  \n",
       "\n",
       "[5 rows x 89 columns]"
      ]
     },
     "execution_count": 535,
     "metadata": {},
     "output_type": "execute_result"
    }
   ],
   "source": [
    "print(df_train_weather_clean.shape)\n",
    "df_train_weather_clean.to_csv(\"../../datasets/cleaned_data/train_weather_clean.csv\", index = False)\n",
    "df_train_weather_clean.head()"
   ]
  },
  {
   "cell_type": "code",
   "execution_count": 536,
   "metadata": {
    "cell_id": "0163a17cbd4245c0bd681c4b9da3e9b8",
    "deepnote_cell_height": 117.5,
    "deepnote_cell_type": "code",
    "deepnote_output_heights": [
     21
    ],
    "deepnote_to_be_reexecuted": false,
    "execution_millis": 3,
    "execution_start": 1649405709035,
    "source_hash": "86b6edcf",
    "tags": []
   },
   "outputs": [
    {
     "data": {
      "text/plain": [
       "(8475, 89)"
      ]
     },
     "execution_count": 536,
     "metadata": {},
     "output_type": "execute_result"
    }
   ],
   "source": [
    "df_train_weather_clean.shape"
   ]
  },
  {
   "cell_type": "code",
   "execution_count": 537,
   "metadata": {
    "cell_id": "f01692cc9c874b198adebea51976a37b",
    "deepnote_cell_height": 117.5,
    "deepnote_cell_type": "code",
    "deepnote_output_heights": [
     21
    ],
    "deepnote_to_be_reexecuted": false,
    "execution_millis": 6,
    "execution_start": 1649405709041,
    "source_hash": "cbfcbeb7",
    "tags": []
   },
   "outputs": [
    {
     "data": {
      "text/plain": [
       "(116293, 87)"
      ]
     },
     "execution_count": 537,
     "metadata": {},
     "output_type": "execute_result"
    }
   ],
   "source": [
    "df_test_weather_clean.shape"
   ]
  },
  {
   "cell_type": "code",
   "execution_count": 538,
   "metadata": {
    "cell_id": "72e3182414e343e7ba4ed004ecdb3961",
    "deepnote_cell_height": 497.8666687011719,
    "deepnote_cell_type": "code",
    "deepnote_to_be_reexecuted": false,
    "execution_millis": 10670,
    "execution_start": 1649405709050,
    "source_hash": "98f9dcca",
    "tags": []
   },
   "outputs": [
    {
     "name": "stdout",
     "output_type": "stream",
     "text": [
      "(116293, 87)\n"
     ]
    },
    {
     "data": {
      "text/html": [
       "<div>\n",
       "<style scoped>\n",
       "    .dataframe tbody tr th:only-of-type {\n",
       "        vertical-align: middle;\n",
       "    }\n",
       "\n",
       "    .dataframe tbody tr th {\n",
       "        vertical-align: top;\n",
       "    }\n",
       "\n",
       "    .dataframe thead th {\n",
       "        text-align: right;\n",
       "    }\n",
       "</style>\n",
       "<table border=\"1\" class=\"dataframe\">\n",
       "  <thead>\n",
       "    <tr style=\"text-align: right;\">\n",
       "      <th></th>\n",
       "      <th>Id</th>\n",
       "      <th>Date</th>\n",
       "      <th>Species</th>\n",
       "      <th>Trap</th>\n",
       "      <th>Latitude</th>\n",
       "      <th>Longitude</th>\n",
       "      <th>Year</th>\n",
       "      <th>Month</th>\n",
       "      <th>Day</th>\n",
       "      <th>Day of Week</th>\n",
       "      <th>NearestStation</th>\n",
       "      <th>Station</th>\n",
       "      <th>Tmax</th>\n",
       "      <th>Tmin</th>\n",
       "      <th>Tavg</th>\n",
       "      <th>PrecipTotal</th>\n",
       "      <th>Trange</th>\n",
       "      <th>RH</th>\n",
       "      <th>sunlight_hrs</th>\n",
       "      <th>ResultSpeed</th>\n",
       "      <th>is_wet</th>\n",
       "      <th>is_fog</th>\n",
       "      <th>is_smk</th>\n",
       "      <th>Tavg_lag_5</th>\n",
       "      <th>PrecipTotal_lag_5</th>\n",
       "      <th>...</th>\n",
       "      <th>is_smk_lag_9</th>\n",
       "      <th>Tavg_lag_10</th>\n",
       "      <th>PrecipTotal_lag_10</th>\n",
       "      <th>RH_lag_10</th>\n",
       "      <th>sunlight_hrs_lag_10</th>\n",
       "      <th>ResultSpeed_lag_10</th>\n",
       "      <th>is_wet_lag_10</th>\n",
       "      <th>is_fog_lag_10</th>\n",
       "      <th>is_smk_lag_10</th>\n",
       "      <th>Tavg_lag_11</th>\n",
       "      <th>PrecipTotal_lag_11</th>\n",
       "      <th>RH_lag_11</th>\n",
       "      <th>sunlight_hrs_lag_11</th>\n",
       "      <th>ResultSpeed_lag_11</th>\n",
       "      <th>is_wet_lag_11</th>\n",
       "      <th>is_fog_lag_11</th>\n",
       "      <th>is_smk_lag_11</th>\n",
       "      <th>Tavg_lag_12</th>\n",
       "      <th>PrecipTotal_lag_12</th>\n",
       "      <th>RH_lag_12</th>\n",
       "      <th>sunlight_hrs_lag_12</th>\n",
       "      <th>ResultSpeed_lag_12</th>\n",
       "      <th>is_wet_lag_12</th>\n",
       "      <th>is_fog_lag_12</th>\n",
       "      <th>is_smk_lag_12</th>\n",
       "    </tr>\n",
       "  </thead>\n",
       "  <tbody>\n",
       "    <tr>\n",
       "      <th>0</th>\n",
       "      <td>1</td>\n",
       "      <td>2008-06-11</td>\n",
       "      <td>CULEX PIPIENS/RESTUANS</td>\n",
       "      <td>T002</td>\n",
       "      <td>41.95469</td>\n",
       "      <td>-87.800991</td>\n",
       "      <td>2008</td>\n",
       "      <td>6</td>\n",
       "      <td>11</td>\n",
       "      <td>2</td>\n",
       "      <td>1</td>\n",
       "      <td>1</td>\n",
       "      <td>86</td>\n",
       "      <td>61</td>\n",
       "      <td>74</td>\n",
       "      <td>0.0</td>\n",
       "      <td>25</td>\n",
       "      <td>53.405643</td>\n",
       "      <td>910.0</td>\n",
       "      <td>-9.717472</td>\n",
       "      <td>0</td>\n",
       "      <td>0</td>\n",
       "      <td>0</td>\n",
       "      <td>80.0</td>\n",
       "      <td>0.01</td>\n",
       "      <td>...</td>\n",
       "      <td>0.0</td>\n",
       "      <td>64.0</td>\n",
       "      <td>0.0</td>\n",
       "      <td>53.95287</td>\n",
       "      <td>901.0</td>\n",
       "      <td>0.34396</td>\n",
       "      <td>0.0</td>\n",
       "      <td>0.0</td>\n",
       "      <td>0.0</td>\n",
       "      <td>69.0</td>\n",
       "      <td>0.0</td>\n",
       "      <td>63.268</td>\n",
       "      <td>899.0</td>\n",
       "      <td>-0.757986</td>\n",
       "      <td>0.0</td>\n",
       "      <td>0.0</td>\n",
       "      <td>0.0</td>\n",
       "      <td>66.0</td>\n",
       "      <td>0.4</td>\n",
       "      <td>78.155573</td>\n",
       "      <td>898.0</td>\n",
       "      <td>-9.979526</td>\n",
       "      <td>1.0</td>\n",
       "      <td>1.0</td>\n",
       "      <td>0.0</td>\n",
       "    </tr>\n",
       "    <tr>\n",
       "      <th>1</th>\n",
       "      <td>2</td>\n",
       "      <td>2008-06-11</td>\n",
       "      <td>CULEX RESTUANS</td>\n",
       "      <td>T002</td>\n",
       "      <td>41.95469</td>\n",
       "      <td>-87.800991</td>\n",
       "      <td>2008</td>\n",
       "      <td>6</td>\n",
       "      <td>11</td>\n",
       "      <td>2</td>\n",
       "      <td>1</td>\n",
       "      <td>1</td>\n",
       "      <td>86</td>\n",
       "      <td>61</td>\n",
       "      <td>74</td>\n",
       "      <td>0.0</td>\n",
       "      <td>25</td>\n",
       "      <td>53.405643</td>\n",
       "      <td>910.0</td>\n",
       "      <td>-9.717472</td>\n",
       "      <td>0</td>\n",
       "      <td>0</td>\n",
       "      <td>0</td>\n",
       "      <td>80.0</td>\n",
       "      <td>0.01</td>\n",
       "      <td>...</td>\n",
       "      <td>0.0</td>\n",
       "      <td>64.0</td>\n",
       "      <td>0.0</td>\n",
       "      <td>53.95287</td>\n",
       "      <td>901.0</td>\n",
       "      <td>0.34396</td>\n",
       "      <td>0.0</td>\n",
       "      <td>0.0</td>\n",
       "      <td>0.0</td>\n",
       "      <td>69.0</td>\n",
       "      <td>0.0</td>\n",
       "      <td>63.268</td>\n",
       "      <td>899.0</td>\n",
       "      <td>-0.757986</td>\n",
       "      <td>0.0</td>\n",
       "      <td>0.0</td>\n",
       "      <td>0.0</td>\n",
       "      <td>66.0</td>\n",
       "      <td>0.4</td>\n",
       "      <td>78.155573</td>\n",
       "      <td>898.0</td>\n",
       "      <td>-9.979526</td>\n",
       "      <td>1.0</td>\n",
       "      <td>1.0</td>\n",
       "      <td>0.0</td>\n",
       "    </tr>\n",
       "    <tr>\n",
       "      <th>2</th>\n",
       "      <td>3</td>\n",
       "      <td>2008-06-11</td>\n",
       "      <td>CULEX PIPIENS</td>\n",
       "      <td>T002</td>\n",
       "      <td>41.95469</td>\n",
       "      <td>-87.800991</td>\n",
       "      <td>2008</td>\n",
       "      <td>6</td>\n",
       "      <td>11</td>\n",
       "      <td>2</td>\n",
       "      <td>1</td>\n",
       "      <td>1</td>\n",
       "      <td>86</td>\n",
       "      <td>61</td>\n",
       "      <td>74</td>\n",
       "      <td>0.0</td>\n",
       "      <td>25</td>\n",
       "      <td>53.405643</td>\n",
       "      <td>910.0</td>\n",
       "      <td>-9.717472</td>\n",
       "      <td>0</td>\n",
       "      <td>0</td>\n",
       "      <td>0</td>\n",
       "      <td>80.0</td>\n",
       "      <td>0.01</td>\n",
       "      <td>...</td>\n",
       "      <td>0.0</td>\n",
       "      <td>64.0</td>\n",
       "      <td>0.0</td>\n",
       "      <td>53.95287</td>\n",
       "      <td>901.0</td>\n",
       "      <td>0.34396</td>\n",
       "      <td>0.0</td>\n",
       "      <td>0.0</td>\n",
       "      <td>0.0</td>\n",
       "      <td>69.0</td>\n",
       "      <td>0.0</td>\n",
       "      <td>63.268</td>\n",
       "      <td>899.0</td>\n",
       "      <td>-0.757986</td>\n",
       "      <td>0.0</td>\n",
       "      <td>0.0</td>\n",
       "      <td>0.0</td>\n",
       "      <td>66.0</td>\n",
       "      <td>0.4</td>\n",
       "      <td>78.155573</td>\n",
       "      <td>898.0</td>\n",
       "      <td>-9.979526</td>\n",
       "      <td>1.0</td>\n",
       "      <td>1.0</td>\n",
       "      <td>0.0</td>\n",
       "    </tr>\n",
       "    <tr>\n",
       "      <th>3</th>\n",
       "      <td>4</td>\n",
       "      <td>2008-06-11</td>\n",
       "      <td>CULEX SALINARIUS</td>\n",
       "      <td>T002</td>\n",
       "      <td>41.95469</td>\n",
       "      <td>-87.800991</td>\n",
       "      <td>2008</td>\n",
       "      <td>6</td>\n",
       "      <td>11</td>\n",
       "      <td>2</td>\n",
       "      <td>1</td>\n",
       "      <td>1</td>\n",
       "      <td>86</td>\n",
       "      <td>61</td>\n",
       "      <td>74</td>\n",
       "      <td>0.0</td>\n",
       "      <td>25</td>\n",
       "      <td>53.405643</td>\n",
       "      <td>910.0</td>\n",
       "      <td>-9.717472</td>\n",
       "      <td>0</td>\n",
       "      <td>0</td>\n",
       "      <td>0</td>\n",
       "      <td>80.0</td>\n",
       "      <td>0.01</td>\n",
       "      <td>...</td>\n",
       "      <td>0.0</td>\n",
       "      <td>64.0</td>\n",
       "      <td>0.0</td>\n",
       "      <td>53.95287</td>\n",
       "      <td>901.0</td>\n",
       "      <td>0.34396</td>\n",
       "      <td>0.0</td>\n",
       "      <td>0.0</td>\n",
       "      <td>0.0</td>\n",
       "      <td>69.0</td>\n",
       "      <td>0.0</td>\n",
       "      <td>63.268</td>\n",
       "      <td>899.0</td>\n",
       "      <td>-0.757986</td>\n",
       "      <td>0.0</td>\n",
       "      <td>0.0</td>\n",
       "      <td>0.0</td>\n",
       "      <td>66.0</td>\n",
       "      <td>0.4</td>\n",
       "      <td>78.155573</td>\n",
       "      <td>898.0</td>\n",
       "      <td>-9.979526</td>\n",
       "      <td>1.0</td>\n",
       "      <td>1.0</td>\n",
       "      <td>0.0</td>\n",
       "    </tr>\n",
       "    <tr>\n",
       "      <th>4</th>\n",
       "      <td>5</td>\n",
       "      <td>2008-06-11</td>\n",
       "      <td>CULEX TERRITANS</td>\n",
       "      <td>T002</td>\n",
       "      <td>41.95469</td>\n",
       "      <td>-87.800991</td>\n",
       "      <td>2008</td>\n",
       "      <td>6</td>\n",
       "      <td>11</td>\n",
       "      <td>2</td>\n",
       "      <td>1</td>\n",
       "      <td>1</td>\n",
       "      <td>86</td>\n",
       "      <td>61</td>\n",
       "      <td>74</td>\n",
       "      <td>0.0</td>\n",
       "      <td>25</td>\n",
       "      <td>53.405643</td>\n",
       "      <td>910.0</td>\n",
       "      <td>-9.717472</td>\n",
       "      <td>0</td>\n",
       "      <td>0</td>\n",
       "      <td>0</td>\n",
       "      <td>80.0</td>\n",
       "      <td>0.01</td>\n",
       "      <td>...</td>\n",
       "      <td>0.0</td>\n",
       "      <td>64.0</td>\n",
       "      <td>0.0</td>\n",
       "      <td>53.95287</td>\n",
       "      <td>901.0</td>\n",
       "      <td>0.34396</td>\n",
       "      <td>0.0</td>\n",
       "      <td>0.0</td>\n",
       "      <td>0.0</td>\n",
       "      <td>69.0</td>\n",
       "      <td>0.0</td>\n",
       "      <td>63.268</td>\n",
       "      <td>899.0</td>\n",
       "      <td>-0.757986</td>\n",
       "      <td>0.0</td>\n",
       "      <td>0.0</td>\n",
       "      <td>0.0</td>\n",
       "      <td>66.0</td>\n",
       "      <td>0.4</td>\n",
       "      <td>78.155573</td>\n",
       "      <td>898.0</td>\n",
       "      <td>-9.979526</td>\n",
       "      <td>1.0</td>\n",
       "      <td>1.0</td>\n",
       "      <td>0.0</td>\n",
       "    </tr>\n",
       "  </tbody>\n",
       "</table>\n",
       "<p>5 rows × 87 columns</p>\n",
       "</div>"
      ],
      "text/plain": [
       "   Id       Date                 Species  Trap  Latitude  Longitude  Year  \\\n",
       "0   1 2008-06-11  CULEX PIPIENS/RESTUANS  T002  41.95469 -87.800991  2008   \n",
       "1   2 2008-06-11          CULEX RESTUANS  T002  41.95469 -87.800991  2008   \n",
       "2   3 2008-06-11           CULEX PIPIENS  T002  41.95469 -87.800991  2008   \n",
       "3   4 2008-06-11        CULEX SALINARIUS  T002  41.95469 -87.800991  2008   \n",
       "4   5 2008-06-11         CULEX TERRITANS  T002  41.95469 -87.800991  2008   \n",
       "\n",
       "   Month  Day  Day of Week  NearestStation  Station  Tmax  Tmin  Tavg  \\\n",
       "0      6   11            2               1        1    86    61    74   \n",
       "1      6   11            2               1        1    86    61    74   \n",
       "2      6   11            2               1        1    86    61    74   \n",
       "3      6   11            2               1        1    86    61    74   \n",
       "4      6   11            2               1        1    86    61    74   \n",
       "\n",
       "   PrecipTotal  Trange         RH  sunlight_hrs  ResultSpeed  is_wet  is_fog  \\\n",
       "0          0.0      25  53.405643         910.0    -9.717472       0       0   \n",
       "1          0.0      25  53.405643         910.0    -9.717472       0       0   \n",
       "2          0.0      25  53.405643         910.0    -9.717472       0       0   \n",
       "3          0.0      25  53.405643         910.0    -9.717472       0       0   \n",
       "4          0.0      25  53.405643         910.0    -9.717472       0       0   \n",
       "\n",
       "   is_smk  Tavg_lag_5  PrecipTotal_lag_5  ...  is_smk_lag_9  Tavg_lag_10  \\\n",
       "0       0        80.0               0.01  ...           0.0         64.0   \n",
       "1       0        80.0               0.01  ...           0.0         64.0   \n",
       "2       0        80.0               0.01  ...           0.0         64.0   \n",
       "3       0        80.0               0.01  ...           0.0         64.0   \n",
       "4       0        80.0               0.01  ...           0.0         64.0   \n",
       "\n",
       "   PrecipTotal_lag_10  RH_lag_10  sunlight_hrs_lag_10  ResultSpeed_lag_10  \\\n",
       "0                 0.0   53.95287                901.0             0.34396   \n",
       "1                 0.0   53.95287                901.0             0.34396   \n",
       "2                 0.0   53.95287                901.0             0.34396   \n",
       "3                 0.0   53.95287                901.0             0.34396   \n",
       "4                 0.0   53.95287                901.0             0.34396   \n",
       "\n",
       "   is_wet_lag_10  is_fog_lag_10  is_smk_lag_10  Tavg_lag_11  \\\n",
       "0            0.0            0.0            0.0         69.0   \n",
       "1            0.0            0.0            0.0         69.0   \n",
       "2            0.0            0.0            0.0         69.0   \n",
       "3            0.0            0.0            0.0         69.0   \n",
       "4            0.0            0.0            0.0         69.0   \n",
       "\n",
       "   PrecipTotal_lag_11  RH_lag_11  sunlight_hrs_lag_11  ResultSpeed_lag_11  \\\n",
       "0                 0.0     63.268                899.0           -0.757986   \n",
       "1                 0.0     63.268                899.0           -0.757986   \n",
       "2                 0.0     63.268                899.0           -0.757986   \n",
       "3                 0.0     63.268                899.0           -0.757986   \n",
       "4                 0.0     63.268                899.0           -0.757986   \n",
       "\n",
       "   is_wet_lag_11  is_fog_lag_11  is_smk_lag_11  Tavg_lag_12  \\\n",
       "0            0.0            0.0            0.0         66.0   \n",
       "1            0.0            0.0            0.0         66.0   \n",
       "2            0.0            0.0            0.0         66.0   \n",
       "3            0.0            0.0            0.0         66.0   \n",
       "4            0.0            0.0            0.0         66.0   \n",
       "\n",
       "   PrecipTotal_lag_12  RH_lag_12  sunlight_hrs_lag_12  ResultSpeed_lag_12  \\\n",
       "0                 0.4  78.155573                898.0           -9.979526   \n",
       "1                 0.4  78.155573                898.0           -9.979526   \n",
       "2                 0.4  78.155573                898.0           -9.979526   \n",
       "3                 0.4  78.155573                898.0           -9.979526   \n",
       "4                 0.4  78.155573                898.0           -9.979526   \n",
       "\n",
       "   is_wet_lag_12  is_fog_lag_12  is_smk_lag_12  \n",
       "0            1.0            1.0            0.0  \n",
       "1            1.0            1.0            0.0  \n",
       "2            1.0            1.0            0.0  \n",
       "3            1.0            1.0            0.0  \n",
       "4            1.0            1.0            0.0  \n",
       "\n",
       "[5 rows x 87 columns]"
      ]
     },
     "execution_count": 538,
     "metadata": {},
     "output_type": "execute_result"
    }
   ],
   "source": [
    "print(df_test_weather_clean.shape)\n",
    "df_test_weather_clean.to_csv(\"../../datasets/cleaned_data/test_weather_clean.csv\", index = False)\n",
    "df_test_weather_clean.head()"
   ]
  },
  {
   "cell_type": "code",
   "execution_count": 539,
   "metadata": {
    "cell_id": "8b95067d412c40f1ba14675482e4241f",
    "deepnote_cell_height": 80.66667175292969,
    "deepnote_cell_type": "code",
    "deepnote_to_be_reexecuted": false,
    "execution_millis": 713,
    "execution_start": 1649405719588,
    "owner_user_id": "71b7ba30-795d-412e-ae17-baa1e2f401d1",
    "source_hash": "e81765e2",
    "tags": []
   },
   "outputs": [],
   "source": [
    "df_spray_clean.to_csv(\"../../datasets/cleaned_data/spray_clean.csv\", index=False)"
   ]
  },
  {
   "cell_type": "code",
   "execution_count": null,
   "metadata": {
    "cell_id": "8c6d8d32ca4c49d8b37c0168efe86175",
    "deepnote_cell_height": 134.6666717529297,
    "deepnote_cell_type": "code",
    "deepnote_to_be_reexecuted": false,
    "execution_millis": 11,
    "execution_start": 1649405720317,
    "source_hash": "b237a29b",
    "tags": []
   },
   "outputs": [],
   "source": [
    "# Final cleaned df names\n",
    "# Train: df_train_weather_clean\n",
    "# Test:  df_test_weather_clean\n",
    "# Spray: df_spray_clean"
   ]
  },
  {
   "cell_type": "markdown",
   "metadata": {
    "cell_id": "c8cef718dffb4fe9816a8be7c9144f13",
    "deepnote_cell_height": 45.66667175292969,
    "deepnote_cell_type": "markdown",
    "tags": []
   },
   "source": []
  }
 ],
 "metadata": {
  "deepnote": {},
  "deepnote_execution_queue": [],
  "deepnote_notebook_id": "ad931913-8fdb-43c3-9b55-2a63d1be0f3c",
  "kernelspec": {
   "display_name": "Python 3 (ipykernel)",
   "language": "python",
   "name": "python3"
  },
  "language_info": {
   "codemirror_mode": {
    "name": "ipython",
    "version": 3
   },
   "file_extension": ".py",
   "mimetype": "text/x-python",
   "name": "python",
   "nbconvert_exporter": "python",
   "pygments_lexer": "ipython3",
   "version": "3.8.5"
  },
  "toc": {
   "base_numbering": 1,
   "nav_menu": {},
   "number_sections": true,
   "sideBar": true,
   "skip_h1_title": false,
   "title_cell": "Table of Contents",
   "title_sidebar": "Contents",
   "toc_cell": false,
   "toc_position": {},
   "toc_section_display": true,
   "toc_window_display": true
  }
 },
 "nbformat": 4,
 "nbformat_minor": 4
}
