{
 "cells": [
  {
   "cell_type": "markdown",
   "source": "# Data Cleaning",
   "metadata": {
    "cell_id": "70539180-3684-40be-83d2-47dd29626c73",
    "deepnote_cell_type": "markdown",
    "deepnote_cell_height": 82
   }
  },
  {
   "cell_type": "markdown",
   "source": "## Setup",
   "metadata": {
    "cell_id": "00001-e2464a34-9997-460b-8e74-f7e593a85a96",
    "deepnote_cell_type": "markdown",
    "deepnote_cell_height": 70
   }
  },
  {
   "cell_type": "markdown",
   "source": "### Import Libraries",
   "metadata": {
    "cell_id": "00002-b3b97ee7-353a-43d8-8d39-38bd0b0de2d3",
    "deepnote_cell_type": "markdown",
    "deepnote_cell_height": 62
   }
  },
  {
   "cell_type": "code",
   "metadata": {
    "cell_id": "00003-d7e74a16-baad-49ff-be16-2f6d93ada381",
    "deepnote_cell_type": "code",
    "deepnote_cell_height": 66
   },
   "source": "import pandas as pd",
   "outputs": [],
   "execution_count": null
  },
  {
   "cell_type": "markdown",
   "source": "### Settings",
   "metadata": {
    "cell_id": "00004-b56bfcd7-f0d0-4ffe-9815-0bf952fbb123",
    "deepnote_cell_type": "markdown",
    "deepnote_cell_height": 62
   }
  },
  {
   "cell_type": "code",
   "metadata": {
    "cell_id": "00005-447ddaa8-d190-4cd7-b40e-3be40789df9e",
    "deepnote_cell_type": "code",
    "deepnote_cell_height": 66
   },
   "source": "pd.set_option(\"display.max_columns\", 50)",
   "outputs": [],
   "execution_count": null
  },
  {
   "cell_type": "markdown",
   "source": "### Import Data",
   "metadata": {
    "cell_id": "00006-97460f84-4f54-4db1-930c-119df64ea5bd",
    "deepnote_cell_type": "markdown",
    "deepnote_cell_height": 62
   }
  },
  {
   "cell_type": "code",
   "metadata": {
    "cell_id": "00007-e3dff767-9305-45e2-ab4a-805bfb80c59c",
    "deepnote_cell_type": "code",
    "deepnote_cell_height": 138
   },
   "source": "df_train_original = pd.read_csv(\"../datasets/original_data/train.csv\")\ndf_test_original = pd.read_csv(\"../datasets/original_data/test.csv\")\ndf_spray_original = pd.read_csv(\"../datasets/original_data/spray.csv\")\ndf_sample_sub_original = pd.read_csv(\"../datasets/original_data/sampleSubmission.csv\")\ndf_weather_original = pd.read_csv(\"../datasets/original_data/weather.csv\")",
   "outputs": [],
   "execution_count": null
  },
  {
   "cell_type": "code",
   "metadata": {
    "cell_id": "00008-b0a026b5-8964-46d4-8579-d9a0c57cf2ed",
    "deepnote_cell_type": "code",
    "deepnote_cell_height": 269.1875,
    "deepnote_output_heights": [
     null,
     90
    ]
   },
   "source": "# Training data\nprint(df_train_original.shape)\ndf_train_original.head(2)",
   "outputs": [
    {
     "name": "stdout",
     "output_type": "stream",
     "text": "(10506, 12)\n"
    },
    {
     "data": {
      "text/html": "<div>\n<style scoped>\n    .dataframe tbody tr th:only-of-type {\n        vertical-align: middle;\n    }\n\n    .dataframe tbody tr th {\n        vertical-align: top;\n    }\n\n    .dataframe thead th {\n        text-align: right;\n    }\n</style>\n<table border=\"1\" class=\"dataframe\">\n  <thead>\n    <tr style=\"text-align: right;\">\n      <th></th>\n      <th>Date</th>\n      <th>Address</th>\n      <th>Species</th>\n      <th>Block</th>\n      <th>Street</th>\n      <th>Trap</th>\n      <th>AddressNumberAndStreet</th>\n      <th>Latitude</th>\n      <th>Longitude</th>\n      <th>AddressAccuracy</th>\n      <th>NumMosquitos</th>\n      <th>WnvPresent</th>\n    </tr>\n  </thead>\n  <tbody>\n    <tr>\n      <th>0</th>\n      <td>2007-05-29</td>\n      <td>4100 North Oak Park Avenue, Chicago, IL 60634,...</td>\n      <td>CULEX PIPIENS/RESTUANS</td>\n      <td>41</td>\n      <td>N OAK PARK AVE</td>\n      <td>T002</td>\n      <td>4100  N OAK PARK AVE, Chicago, IL</td>\n      <td>41.95469</td>\n      <td>-87.800991</td>\n      <td>9</td>\n      <td>1</td>\n      <td>0</td>\n    </tr>\n    <tr>\n      <th>1</th>\n      <td>2007-05-29</td>\n      <td>4100 North Oak Park Avenue, Chicago, IL 60634,...</td>\n      <td>CULEX RESTUANS</td>\n      <td>41</td>\n      <td>N OAK PARK AVE</td>\n      <td>T002</td>\n      <td>4100  N OAK PARK AVE, Chicago, IL</td>\n      <td>41.95469</td>\n      <td>-87.800991</td>\n      <td>9</td>\n      <td>1</td>\n      <td>0</td>\n    </tr>\n  </tbody>\n</table>\n</div>",
      "text/plain": "         Date                                            Address  \\\n0  2007-05-29  4100 North Oak Park Avenue, Chicago, IL 60634,...   \n1  2007-05-29  4100 North Oak Park Avenue, Chicago, IL 60634,...   \n\n                  Species  Block           Street  Trap  \\\n0  CULEX PIPIENS/RESTUANS     41   N OAK PARK AVE  T002   \n1          CULEX RESTUANS     41   N OAK PARK AVE  T002   \n\n              AddressNumberAndStreet  Latitude  Longitude  AddressAccuracy  \\\n0  4100  N OAK PARK AVE, Chicago, IL  41.95469 -87.800991                9   \n1  4100  N OAK PARK AVE, Chicago, IL  41.95469 -87.800991                9   \n\n   NumMosquitos  WnvPresent  \n0             1           0  \n1             1           0  "
     },
     "execution_count": 20,
     "metadata": {},
     "output_type": "execute_result"
    }
   ],
   "execution_count": null
  },
  {
   "cell_type": "code",
   "metadata": {
    "cell_id": "00009-b7b62889-9a3d-40e4-b12f-afc320d5bd56",
    "deepnote_cell_type": "code",
    "deepnote_cell_height": 269.1875,
    "deepnote_output_heights": [
     null,
     90
    ]
   },
   "source": "# Test data\nprint(df_test_original.shape)\ndf_test_original.head(2)",
   "outputs": [
    {
     "name": "stdout",
     "output_type": "stream",
     "text": "(116293, 11)\n"
    },
    {
     "data": {
      "text/html": "<div>\n<style scoped>\n    .dataframe tbody tr th:only-of-type {\n        vertical-align: middle;\n    }\n\n    .dataframe tbody tr th {\n        vertical-align: top;\n    }\n\n    .dataframe thead th {\n        text-align: right;\n    }\n</style>\n<table border=\"1\" class=\"dataframe\">\n  <thead>\n    <tr style=\"text-align: right;\">\n      <th></th>\n      <th>Id</th>\n      <th>Date</th>\n      <th>Address</th>\n      <th>Species</th>\n      <th>Block</th>\n      <th>Street</th>\n      <th>Trap</th>\n      <th>AddressNumberAndStreet</th>\n      <th>Latitude</th>\n      <th>Longitude</th>\n      <th>AddressAccuracy</th>\n    </tr>\n  </thead>\n  <tbody>\n    <tr>\n      <th>0</th>\n      <td>1</td>\n      <td>2008-06-11</td>\n      <td>4100 North Oak Park Avenue, Chicago, IL 60634,...</td>\n      <td>CULEX PIPIENS/RESTUANS</td>\n      <td>41</td>\n      <td>N OAK PARK AVE</td>\n      <td>T002</td>\n      <td>4100  N OAK PARK AVE, Chicago, IL</td>\n      <td>41.95469</td>\n      <td>-87.800991</td>\n      <td>9</td>\n    </tr>\n    <tr>\n      <th>1</th>\n      <td>2</td>\n      <td>2008-06-11</td>\n      <td>4100 North Oak Park Avenue, Chicago, IL 60634,...</td>\n      <td>CULEX RESTUANS</td>\n      <td>41</td>\n      <td>N OAK PARK AVE</td>\n      <td>T002</td>\n      <td>4100  N OAK PARK AVE, Chicago, IL</td>\n      <td>41.95469</td>\n      <td>-87.800991</td>\n      <td>9</td>\n    </tr>\n  </tbody>\n</table>\n</div>",
      "text/plain": "   Id        Date                                            Address  \\\n0   1  2008-06-11  4100 North Oak Park Avenue, Chicago, IL 60634,...   \n1   2  2008-06-11  4100 North Oak Park Avenue, Chicago, IL 60634,...   \n\n                  Species  Block           Street  Trap  \\\n0  CULEX PIPIENS/RESTUANS     41   N OAK PARK AVE  T002   \n1          CULEX RESTUANS     41   N OAK PARK AVE  T002   \n\n              AddressNumberAndStreet  Latitude  Longitude  AddressAccuracy  \n0  4100  N OAK PARK AVE, Chicago, IL  41.95469 -87.800991                9  \n1  4100  N OAK PARK AVE, Chicago, IL  41.95469 -87.800991                9  "
     },
     "execution_count": 21,
     "metadata": {},
     "output_type": "execute_result"
    }
   ],
   "execution_count": null
  },
  {
   "cell_type": "code",
   "metadata": {
    "cell_id": "00010-5f3ab7ca-6e66-4b82-95c2-2767d73afd43",
    "deepnote_cell_type": "code",
    "deepnote_cell_height": 269.1875,
    "deepnote_output_heights": [
     null,
     90
    ]
   },
   "source": "# Spray data\nprint(df_spray_original.shape)\ndf_spray_original.head(2)",
   "outputs": [
    {
     "name": "stdout",
     "output_type": "stream",
     "text": "(14835, 4)\n"
    },
    {
     "data": {
      "text/html": "<div>\n<style scoped>\n    .dataframe tbody tr th:only-of-type {\n        vertical-align: middle;\n    }\n\n    .dataframe tbody tr th {\n        vertical-align: top;\n    }\n\n    .dataframe thead th {\n        text-align: right;\n    }\n</style>\n<table border=\"1\" class=\"dataframe\">\n  <thead>\n    <tr style=\"text-align: right;\">\n      <th></th>\n      <th>Date</th>\n      <th>Time</th>\n      <th>Latitude</th>\n      <th>Longitude</th>\n    </tr>\n  </thead>\n  <tbody>\n    <tr>\n      <th>0</th>\n      <td>2011-08-29</td>\n      <td>6:56:58 PM</td>\n      <td>42.391623</td>\n      <td>-88.089163</td>\n    </tr>\n    <tr>\n      <th>1</th>\n      <td>2011-08-29</td>\n      <td>6:57:08 PM</td>\n      <td>42.391348</td>\n      <td>-88.089163</td>\n    </tr>\n  </tbody>\n</table>\n</div>",
      "text/plain": "         Date        Time   Latitude  Longitude\n0  2011-08-29  6:56:58 PM  42.391623 -88.089163\n1  2011-08-29  6:57:08 PM  42.391348 -88.089163"
     },
     "execution_count": 28,
     "metadata": {},
     "output_type": "execute_result"
    }
   ],
   "execution_count": null
  },
  {
   "cell_type": "code",
   "metadata": {
    "cell_id": "00011-d1f76b84-2f09-4950-b6ef-a5f168f680ce",
    "deepnote_cell_type": "code",
    "deepnote_cell_height": 269.1875,
    "deepnote_output_heights": [
     null,
     90
    ]
   },
   "source": "# Weather data\nprint(df_weather_original.shape)\ndf_weather_original.head(2)",
   "outputs": [
    {
     "name": "stdout",
     "output_type": "stream",
     "text": "(2944, 22)\n"
    },
    {
     "data": {
      "text/html": "<div>\n<style scoped>\n    .dataframe tbody tr th:only-of-type {\n        vertical-align: middle;\n    }\n\n    .dataframe tbody tr th {\n        vertical-align: top;\n    }\n\n    .dataframe thead th {\n        text-align: right;\n    }\n</style>\n<table border=\"1\" class=\"dataframe\">\n  <thead>\n    <tr style=\"text-align: right;\">\n      <th></th>\n      <th>Station</th>\n      <th>Date</th>\n      <th>Tmax</th>\n      <th>Tmin</th>\n      <th>Tavg</th>\n      <th>Depart</th>\n      <th>DewPoint</th>\n      <th>WetBulb</th>\n      <th>Heat</th>\n      <th>Cool</th>\n      <th>Sunrise</th>\n      <th>Sunset</th>\n      <th>CodeSum</th>\n      <th>Depth</th>\n      <th>Water1</th>\n      <th>SnowFall</th>\n      <th>PrecipTotal</th>\n      <th>StnPressure</th>\n      <th>SeaLevel</th>\n      <th>ResultSpeed</th>\n      <th>ResultDir</th>\n      <th>AvgSpeed</th>\n    </tr>\n  </thead>\n  <tbody>\n    <tr>\n      <th>0</th>\n      <td>1</td>\n      <td>2007-05-01</td>\n      <td>83</td>\n      <td>50</td>\n      <td>67</td>\n      <td>14</td>\n      <td>51</td>\n      <td>56</td>\n      <td>0</td>\n      <td>2</td>\n      <td>0448</td>\n      <td>1849</td>\n      <td></td>\n      <td>0</td>\n      <td>M</td>\n      <td>0.0</td>\n      <td>0.00</td>\n      <td>29.10</td>\n      <td>29.82</td>\n      <td>1.7</td>\n      <td>27</td>\n      <td>9.2</td>\n    </tr>\n    <tr>\n      <th>1</th>\n      <td>2</td>\n      <td>2007-05-01</td>\n      <td>84</td>\n      <td>52</td>\n      <td>68</td>\n      <td>M</td>\n      <td>51</td>\n      <td>57</td>\n      <td>0</td>\n      <td>3</td>\n      <td>-</td>\n      <td>-</td>\n      <td></td>\n      <td>M</td>\n      <td>M</td>\n      <td>M</td>\n      <td>0.00</td>\n      <td>29.18</td>\n      <td>29.82</td>\n      <td>2.7</td>\n      <td>25</td>\n      <td>9.6</td>\n    </tr>\n  </tbody>\n</table>\n</div>",
      "text/plain": "   Station        Date  Tmax  Tmin Tavg Depart  DewPoint WetBulb Heat Cool  \\\n0        1  2007-05-01    83    50   67     14        51      56    0    2   \n1        2  2007-05-01    84    52   68      M        51      57    0    3   \n\n  Sunrise Sunset CodeSum Depth Water1 SnowFall PrecipTotal StnPressure  \\\n0    0448   1849             0      M      0.0        0.00       29.10   \n1       -      -             M      M        M        0.00       29.18   \n\n  SeaLevel  ResultSpeed  ResultDir AvgSpeed  \n0    29.82          1.7         27      9.2  \n1    29.82          2.7         25      9.6  "
     },
     "execution_count": 22,
     "metadata": {},
     "output_type": "execute_result"
    }
   ],
   "execution_count": null
  },
  {
   "cell_type": "code",
   "metadata": {
    "cell_id": "00012-a8c484d8-c20b-4cc3-a1bf-ba4d709cdd35",
    "deepnote_cell_type": "code",
    "deepnote_cell_height": 269.1875,
    "deepnote_output_heights": [
     null,
     90
    ]
   },
   "source": "# Sample Submission\nprint(df_sample_sub_original.shape)\ndf_sample_sub_original.head(2)",
   "outputs": [
    {
     "name": "stdout",
     "output_type": "stream",
     "text": "(116293, 2)\n"
    },
    {
     "data": {
      "text/html": "<div>\n<style scoped>\n    .dataframe tbody tr th:only-of-type {\n        vertical-align: middle;\n    }\n\n    .dataframe tbody tr th {\n        vertical-align: top;\n    }\n\n    .dataframe thead th {\n        text-align: right;\n    }\n</style>\n<table border=\"1\" class=\"dataframe\">\n  <thead>\n    <tr style=\"text-align: right;\">\n      <th></th>\n      <th>Id</th>\n      <th>WnvPresent</th>\n    </tr>\n  </thead>\n  <tbody>\n    <tr>\n      <th>0</th>\n      <td>1</td>\n      <td>0</td>\n    </tr>\n    <tr>\n      <th>1</th>\n      <td>2</td>\n      <td>0</td>\n    </tr>\n  </tbody>\n</table>\n</div>",
      "text/plain": "   Id  WnvPresent\n0   1           0\n1   2           0"
     },
     "execution_count": 24,
     "metadata": {},
     "output_type": "execute_result"
    }
   ],
   "execution_count": null
  },
  {
   "cell_type": "markdown",
   "source": "## Data Types",
   "metadata": {
    "cell_id": "00013-88c56d32-36e2-41a0-93c1-5ce64efc27a1",
    "deepnote_cell_type": "markdown",
    "deepnote_cell_height": 70
   }
  },
  {
   "cell_type": "markdown",
   "source": "### View data types",
   "metadata": {
    "cell_id": "00014-022ab265-2ec7-458a-a0ee-0dd37909895f",
    "deepnote_cell_type": "markdown",
    "deepnote_cell_height": 62
   }
  },
  {
   "cell_type": "code",
   "metadata": {
    "cell_id": "00015-57da33c7-4ecf-4a87-b2eb-e91d9ed4390b",
    "deepnote_cell_type": "code",
    "deepnote_cell_height": 366.4375,
    "deepnote_output_heights": [
     251.4375
    ]
   },
   "source": "#Training data\ndf_train_original.dtypes",
   "outputs": [
    {
     "data": {
      "text/plain": "Date                       object\nAddress                    object\nSpecies                    object\nBlock                       int64\nStreet                     object\nTrap                       object\nAddressNumberAndStreet     object\nLatitude                  float64\nLongitude                 float64\nAddressAccuracy             int64\nNumMosquitos                int64\nWnvPresent                  int64\ndtype: object"
     },
     "execution_count": 41,
     "metadata": {},
     "output_type": "execute_result"
    }
   ],
   "execution_count": null
  },
  {
   "cell_type": "code",
   "metadata": {
    "cell_id": "00016-d3791b60-23d0-41d6-8254-7232750e83a5",
    "deepnote_cell_type": "code",
    "deepnote_cell_height": 347.25,
    "deepnote_output_heights": [
     232.25
    ]
   },
   "source": "#Test data\ndf_test_original.dtypes",
   "outputs": [
    {
     "data": {
      "text/plain": "Id                          int64\nDate                       object\nAddress                    object\nSpecies                    object\nBlock                       int64\nStreet                     object\nTrap                       object\nAddressNumberAndStreet     object\nLatitude                  float64\nLongitude                 float64\nAddressAccuracy             int64\ndtype: object"
     },
     "execution_count": 42,
     "metadata": {},
     "output_type": "execute_result"
    }
   ],
   "execution_count": null
  },
  {
   "cell_type": "code",
   "metadata": {
    "cell_id": "00017-ce625746-fd27-4c60-a2b7-f3ce66da9184",
    "deepnote_cell_type": "code",
    "deepnote_cell_height": 212.9375,
    "deepnote_output_heights": [
     97.9375
    ]
   },
   "source": "# Spray data\ndf_spray_original.dtypes",
   "outputs": [
    {
     "data": {
      "text/plain": "Date          object\nTime          object\nLatitude     float64\nLongitude    float64\ndtype: object"
     },
     "execution_count": 43,
     "metadata": {},
     "output_type": "execute_result"
    }
   ],
   "execution_count": null
  },
  {
   "cell_type": "code",
   "metadata": {
    "cell_id": "00018-e748dfb2-675d-4922-abfa-50a66d0f174e",
    "deepnote_cell_type": "code",
    "deepnote_cell_height": 558.3125,
    "deepnote_output_heights": [
     443.3125
    ]
   },
   "source": "# Weather data\ndf_weather_original.dtypes",
   "outputs": [
    {
     "data": {
      "text/plain": "Station          int64\nDate            object\nTmax             int64\nTmin             int64\nTavg            object\nDepart          object\nDewPoint         int64\nWetBulb         object\nHeat            object\nCool            object\nSunrise         object\nSunset          object\nCodeSum         object\nDepth           object\nWater1          object\nSnowFall        object\nPrecipTotal     object\nStnPressure     object\nSeaLevel        object\nResultSpeed    float64\nResultDir        int64\nAvgSpeed        object\ndtype: object"
     },
     "execution_count": 44,
     "metadata": {},
     "output_type": "execute_result"
    }
   ],
   "execution_count": null
  },
  {
   "cell_type": "markdown",
   "source": "### Data type conversion",
   "metadata": {
    "cell_id": "00019-797768bb-bb58-4136-a351-8a97e3b690dd",
    "deepnote_cell_type": "markdown",
    "deepnote_cell_height": 62
   }
  },
  {
   "cell_type": "markdown",
   "source": "We will convert all dates to datetime datatype",
   "metadata": {
    "cell_id": "00020-dbf80eb2-4f45-46c2-9f8a-c2eb71b7c381",
    "deepnote_cell_type": "markdown",
    "deepnote_cell_height": 52.390625
   }
  },
  {
   "cell_type": "code",
   "metadata": {
    "cell_id": "00021-310fd212-8c56-4996-a37c-ef7fe83b65b1",
    "deepnote_cell_type": "code",
    "deepnote_cell_height": 208.75
   },
   "source": "for df in [df_train_original, df_test_original, df_spray_original, df_weather_original]:\n    df['Date'] = pd.to_datetime(df[\"Date\"])\n    print(f\"Change Date column data type to {df['Date'].dtype}\")",
   "outputs": [
    {
     "name": "stdout",
     "output_type": "stream",
     "text": "Change Date column data type to datetime64[ns]\nChange Date column data type to datetime64[ns]\nChange Date column data type to datetime64[ns]\nChange Date column data type to datetime64[ns]\n"
    }
   ],
   "execution_count": null
  },
  {
   "cell_type": "markdown",
   "source": "## Missing Data",
   "metadata": {
    "cell_id": "00022-6eca98d6-b01c-4e1f-895f-c94b8db5cf91",
    "deepnote_cell_type": "markdown",
    "deepnote_cell_height": 70
   }
  },
  {
   "cell_type": "code",
   "metadata": {
    "cell_id": "00023-2a40b55e-faf7-48a5-9feb-d3e0a91a002d",
    "deepnote_cell_type": "code",
    "deepnote_cell_height": 366.4375,
    "deepnote_output_heights": [
     251.4375
    ]
   },
   "source": "# Missing data for train \ndf_train_original.isnull().sum()",
   "outputs": [
    {
     "data": {
      "text/plain": "Date                      0\nAddress                   0\nSpecies                   0\nBlock                     0\nStreet                    0\nTrap                      0\nAddressNumberAndStreet    0\nLatitude                  0\nLongitude                 0\nAddressAccuracy           0\nNumMosquitos              0\nWnvPresent                0\ndtype: int64"
     },
     "execution_count": 25,
     "metadata": {},
     "output_type": "execute_result"
    }
   ],
   "execution_count": null
  },
  {
   "cell_type": "code",
   "metadata": {
    "cell_id": "00024-22d8810c-5bed-443f-983b-e9f377f3ea8f",
    "deepnote_cell_type": "code",
    "deepnote_cell_height": 347.25,
    "deepnote_output_heights": [
     232.25
    ]
   },
   "source": "# Missing data for test\ndf_test_original.isnull().sum()",
   "outputs": [
    {
     "data": {
      "text/plain": "Id                        0\nDate                      0\nAddress                   0\nSpecies                   0\nBlock                     0\nStreet                    0\nTrap                      0\nAddressNumberAndStreet    0\nLatitude                  0\nLongitude                 0\nAddressAccuracy           0\ndtype: int64"
     },
     "execution_count": 26,
     "metadata": {},
     "output_type": "execute_result"
    }
   ],
   "execution_count": null
  },
  {
   "cell_type": "code",
   "metadata": {
    "cell_id": "00025-f515092f-e9f5-46bd-bb1b-98423e33c027",
    "deepnote_cell_type": "code",
    "deepnote_cell_height": 212.9375,
    "deepnote_output_heights": [
     97.9375
    ]
   },
   "source": "# Missing data for spray \ndf_spray_original.isnull().sum()",
   "outputs": [
    {
     "data": {
      "text/plain": "Date           0\nTime         584\nLatitude       0\nLongitude      0\ndtype: int64"
     },
     "execution_count": 27,
     "metadata": {},
     "output_type": "execute_result"
    }
   ],
   "execution_count": null
  },
  {
   "cell_type": "code",
   "metadata": {
    "cell_id": "00026-4fb14b6a-b752-43d4-b05f-bc8f88341497",
    "deepnote_cell_type": "code",
    "deepnote_cell_height": 558.3125,
    "deepnote_output_heights": [
     443.3125
    ]
   },
   "source": "# Missing data for weather \ndf_weather_original.isnull().sum()",
   "outputs": [
    {
     "data": {
      "text/plain": "Station        0\nDate           0\nTmax           0\nTmin           0\nTavg           0\nDepart         0\nDewPoint       0\nWetBulb        0\nHeat           0\nCool           0\nSunrise        0\nSunset         0\nCodeSum        0\nDepth          0\nWater1         0\nSnowFall       0\nPrecipTotal    0\nStnPressure    0\nSeaLevel       0\nResultSpeed    0\nResultDir      0\nAvgSpeed       0\ndtype: int64"
     },
     "execution_count": 29,
     "metadata": {},
     "output_type": "execute_result"
    }
   ],
   "execution_count": null
  },
  {
   "cell_type": "markdown",
   "source": "We see that Time column from the spray data has 584 missing values.",
   "metadata": {
    "cell_id": "00027-224ffc84-2d9b-4c01-85b2-603a6f4de9b8",
    "deepnote_cell_type": "markdown",
    "deepnote_cell_height": 52.390625
   }
  },
  {
   "cell_type": "code",
   "metadata": {
    "cell_id": "00028-aa0d1361-954a-49b6-9960-b9bccc03bb9e",
    "deepnote_cell_type": "code",
    "deepnote_cell_height": 66
   },
   "source": "",
   "execution_count": null,
   "outputs": []
  },
  {
   "cell_type": "markdown",
   "source": "<a style='text-decoration:none;line-height:16px;display:flex;color:#5B5B62;padding:10px;justify-content:end;' href='https://deepnote.com?utm_source=created-in-deepnote-cell&projectId=4097f332-a5f7-4024-8213-3ea4e83aaea0' target=\"_blank\">\n<img alt='Created in deepnote.com' style='display:inline;max-height:16px;margin:0px;margin-right:7.5px;' src='data:image/svg+xml;base64,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' > </img>\nCreated in <span style='font-weight:600;margin-left:4px;'>Deepnote</span></a>",
   "metadata": {
    "tags": [],
    "created_in_deepnote_cell": true,
    "deepnote_cell_type": "markdown"
   }
  }
 ],
 "nbformat": 4,
 "nbformat_minor": 4,
 "metadata": {
  "kernelspec": {
   "display_name": "Python 3",
   "language": "python",
   "name": "python3"
  },
  "language_info": {
   "codemirror_mode": {
    "name": "ipython",
    "version": 3
   },
   "file_extension": ".py",
   "mimetype": "text/x-python",
   "name": "python",
   "nbconvert_exporter": "python",
   "pygments_lexer": "ipython3",
   "version": "3.8.5"
  },
  "toc": {
   "base_numbering": 1,
   "nav_menu": {},
   "number_sections": true,
   "sideBar": true,
   "skip_h1_title": false,
   "title_cell": "Table of Contents",
   "title_sidebar": "Contents",
   "toc_cell": false,
   "toc_position": {},
   "toc_section_display": true,
   "toc_window_display": false
  },
  "deepnote_notebook_id": "15cc4406-6edb-45b4-b0ce-498257b13b27",
  "deepnote": {},
  "deepnote_execution_queue": []
 }
}